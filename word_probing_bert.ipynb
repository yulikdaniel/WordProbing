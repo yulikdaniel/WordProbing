{
  "nbformat": 4,
  "nbformat_minor": 0,
  "metadata": {
    "accelerator": "GPU",
    "colab": {
      "provenance": []
    },
    "kernelspec": {
      "display_name": "Python 3",
      "language": "python",
      "name": "python3"
    },
    "language_info": {
      "codemirror_mode": {
        "name": "ipython",
        "version": 3
      },
      "file_extension": ".py",
      "mimetype": "text/x-python",
      "name": "python",
      "nbconvert_exporter": "python",
      "pygments_lexer": "ipython3",
      "version": "3.8.5"
    },
    "widgets": {
      "application/vnd.jupyter.widget-state+json": {
        "f9336c31ac4f40faa9ed3bde6eca8557": {
          "model_module": "@jupyter-widgets/controls",
          "model_name": "HBoxModel",
          "model_module_version": "1.5.0",
          "state": {
            "_dom_classes": [],
            "_model_module": "@jupyter-widgets/controls",
            "_model_module_version": "1.5.0",
            "_model_name": "HBoxModel",
            "_view_count": null,
            "_view_module": "@jupyter-widgets/controls",
            "_view_module_version": "1.5.0",
            "_view_name": "HBoxView",
            "box_style": "",
            "children": [
              "IPY_MODEL_5755903c3e584a6090e88819a605cb70",
              "IPY_MODEL_6ce93c24bed14126af35acc68c2a1a70",
              "IPY_MODEL_6a246fd1e4fa4873b01ca9f01852aaeb"
            ],
            "layout": "IPY_MODEL_ba2ef200598a4987be498f374ebf3a6e"
          }
        },
        "5755903c3e584a6090e88819a605cb70": {
          "model_module": "@jupyter-widgets/controls",
          "model_name": "HTMLModel",
          "model_module_version": "1.5.0",
          "state": {
            "_dom_classes": [],
            "_model_module": "@jupyter-widgets/controls",
            "_model_module_version": "1.5.0",
            "_model_name": "HTMLModel",
            "_view_count": null,
            "_view_module": "@jupyter-widgets/controls",
            "_view_module_version": "1.5.0",
            "_view_name": "HTMLView",
            "description": "",
            "description_tooltip": null,
            "layout": "IPY_MODEL_d36ad89ea0e74281aabcb3e69a4cdc45",
            "placeholder": "​",
            "style": "IPY_MODEL_4a7579833ae44781a4554a0a956c60c2",
            "value": "Downloading (…)tencepiece.bpe.model: 100%"
          }
        },
        "6ce93c24bed14126af35acc68c2a1a70": {
          "model_module": "@jupyter-widgets/controls",
          "model_name": "FloatProgressModel",
          "model_module_version": "1.5.0",
          "state": {
            "_dom_classes": [],
            "_model_module": "@jupyter-widgets/controls",
            "_model_module_version": "1.5.0",
            "_model_name": "FloatProgressModel",
            "_view_count": null,
            "_view_module": "@jupyter-widgets/controls",
            "_view_module_version": "1.5.0",
            "_view_name": "ProgressView",
            "bar_style": "success",
            "description": "",
            "description_tooltip": null,
            "layout": "IPY_MODEL_427c79f214954533914d53a79f87ba3a",
            "max": 810912,
            "min": 0,
            "orientation": "horizontal",
            "style": "IPY_MODEL_70a87d66fffd4b589cd8a03b6bfce647",
            "value": 810912
          }
        },
        "6a246fd1e4fa4873b01ca9f01852aaeb": {
          "model_module": "@jupyter-widgets/controls",
          "model_name": "HTMLModel",
          "model_module_version": "1.5.0",
          "state": {
            "_dom_classes": [],
            "_model_module": "@jupyter-widgets/controls",
            "_model_module_version": "1.5.0",
            "_model_name": "HTMLModel",
            "_view_count": null,
            "_view_module": "@jupyter-widgets/controls",
            "_view_module_version": "1.5.0",
            "_view_name": "HTMLView",
            "description": "",
            "description_tooltip": null,
            "layout": "IPY_MODEL_c7face94186a4165b88591d2bbb1bbae",
            "placeholder": "​",
            "style": "IPY_MODEL_afee9d3041ec4ee2a3880eb88d036892",
            "value": " 811k/811k [00:00&lt;00:00, 17.4MB/s]"
          }
        },
        "ba2ef200598a4987be498f374ebf3a6e": {
          "model_module": "@jupyter-widgets/base",
          "model_name": "LayoutModel",
          "model_module_version": "1.2.0",
          "state": {
            "_model_module": "@jupyter-widgets/base",
            "_model_module_version": "1.2.0",
            "_model_name": "LayoutModel",
            "_view_count": null,
            "_view_module": "@jupyter-widgets/base",
            "_view_module_version": "1.2.0",
            "_view_name": "LayoutView",
            "align_content": null,
            "align_items": null,
            "align_self": null,
            "border": null,
            "bottom": null,
            "display": null,
            "flex": null,
            "flex_flow": null,
            "grid_area": null,
            "grid_auto_columns": null,
            "grid_auto_flow": null,
            "grid_auto_rows": null,
            "grid_column": null,
            "grid_gap": null,
            "grid_row": null,
            "grid_template_areas": null,
            "grid_template_columns": null,
            "grid_template_rows": null,
            "height": null,
            "justify_content": null,
            "justify_items": null,
            "left": null,
            "margin": null,
            "max_height": null,
            "max_width": null,
            "min_height": null,
            "min_width": null,
            "object_fit": null,
            "object_position": null,
            "order": null,
            "overflow": null,
            "overflow_x": null,
            "overflow_y": null,
            "padding": null,
            "right": null,
            "top": null,
            "visibility": null,
            "width": null
          }
        },
        "d36ad89ea0e74281aabcb3e69a4cdc45": {
          "model_module": "@jupyter-widgets/base",
          "model_name": "LayoutModel",
          "model_module_version": "1.2.0",
          "state": {
            "_model_module": "@jupyter-widgets/base",
            "_model_module_version": "1.2.0",
            "_model_name": "LayoutModel",
            "_view_count": null,
            "_view_module": "@jupyter-widgets/base",
            "_view_module_version": "1.2.0",
            "_view_name": "LayoutView",
            "align_content": null,
            "align_items": null,
            "align_self": null,
            "border": null,
            "bottom": null,
            "display": null,
            "flex": null,
            "flex_flow": null,
            "grid_area": null,
            "grid_auto_columns": null,
            "grid_auto_flow": null,
            "grid_auto_rows": null,
            "grid_column": null,
            "grid_gap": null,
            "grid_row": null,
            "grid_template_areas": null,
            "grid_template_columns": null,
            "grid_template_rows": null,
            "height": null,
            "justify_content": null,
            "justify_items": null,
            "left": null,
            "margin": null,
            "max_height": null,
            "max_width": null,
            "min_height": null,
            "min_width": null,
            "object_fit": null,
            "object_position": null,
            "order": null,
            "overflow": null,
            "overflow_x": null,
            "overflow_y": null,
            "padding": null,
            "right": null,
            "top": null,
            "visibility": null,
            "width": null
          }
        },
        "4a7579833ae44781a4554a0a956c60c2": {
          "model_module": "@jupyter-widgets/controls",
          "model_name": "DescriptionStyleModel",
          "model_module_version": "1.5.0",
          "state": {
            "_model_module": "@jupyter-widgets/controls",
            "_model_module_version": "1.5.0",
            "_model_name": "DescriptionStyleModel",
            "_view_count": null,
            "_view_module": "@jupyter-widgets/base",
            "_view_module_version": "1.2.0",
            "_view_name": "StyleView",
            "description_width": ""
          }
        },
        "427c79f214954533914d53a79f87ba3a": {
          "model_module": "@jupyter-widgets/base",
          "model_name": "LayoutModel",
          "model_module_version": "1.2.0",
          "state": {
            "_model_module": "@jupyter-widgets/base",
            "_model_module_version": "1.2.0",
            "_model_name": "LayoutModel",
            "_view_count": null,
            "_view_module": "@jupyter-widgets/base",
            "_view_module_version": "1.2.0",
            "_view_name": "LayoutView",
            "align_content": null,
            "align_items": null,
            "align_self": null,
            "border": null,
            "bottom": null,
            "display": null,
            "flex": null,
            "flex_flow": null,
            "grid_area": null,
            "grid_auto_columns": null,
            "grid_auto_flow": null,
            "grid_auto_rows": null,
            "grid_column": null,
            "grid_gap": null,
            "grid_row": null,
            "grid_template_areas": null,
            "grid_template_columns": null,
            "grid_template_rows": null,
            "height": null,
            "justify_content": null,
            "justify_items": null,
            "left": null,
            "margin": null,
            "max_height": null,
            "max_width": null,
            "min_height": null,
            "min_width": null,
            "object_fit": null,
            "object_position": null,
            "order": null,
            "overflow": null,
            "overflow_x": null,
            "overflow_y": null,
            "padding": null,
            "right": null,
            "top": null,
            "visibility": null,
            "width": null
          }
        },
        "70a87d66fffd4b589cd8a03b6bfce647": {
          "model_module": "@jupyter-widgets/controls",
          "model_name": "ProgressStyleModel",
          "model_module_version": "1.5.0",
          "state": {
            "_model_module": "@jupyter-widgets/controls",
            "_model_module_version": "1.5.0",
            "_model_name": "ProgressStyleModel",
            "_view_count": null,
            "_view_module": "@jupyter-widgets/base",
            "_view_module_version": "1.2.0",
            "_view_name": "StyleView",
            "bar_color": null,
            "description_width": ""
          }
        },
        "c7face94186a4165b88591d2bbb1bbae": {
          "model_module": "@jupyter-widgets/base",
          "model_name": "LayoutModel",
          "model_module_version": "1.2.0",
          "state": {
            "_model_module": "@jupyter-widgets/base",
            "_model_module_version": "1.2.0",
            "_model_name": "LayoutModel",
            "_view_count": null,
            "_view_module": "@jupyter-widgets/base",
            "_view_module_version": "1.2.0",
            "_view_name": "LayoutView",
            "align_content": null,
            "align_items": null,
            "align_self": null,
            "border": null,
            "bottom": null,
            "display": null,
            "flex": null,
            "flex_flow": null,
            "grid_area": null,
            "grid_auto_columns": null,
            "grid_auto_flow": null,
            "grid_auto_rows": null,
            "grid_column": null,
            "grid_gap": null,
            "grid_row": null,
            "grid_template_areas": null,
            "grid_template_columns": null,
            "grid_template_rows": null,
            "height": null,
            "justify_content": null,
            "justify_items": null,
            "left": null,
            "margin": null,
            "max_height": null,
            "max_width": null,
            "min_height": null,
            "min_width": null,
            "object_fit": null,
            "object_position": null,
            "order": null,
            "overflow": null,
            "overflow_x": null,
            "overflow_y": null,
            "padding": null,
            "right": null,
            "top": null,
            "visibility": null,
            "width": null
          }
        },
        "afee9d3041ec4ee2a3880eb88d036892": {
          "model_module": "@jupyter-widgets/controls",
          "model_name": "DescriptionStyleModel",
          "model_module_version": "1.5.0",
          "state": {
            "_model_module": "@jupyter-widgets/controls",
            "_model_module_version": "1.5.0",
            "_model_name": "DescriptionStyleModel",
            "_view_count": null,
            "_view_module": "@jupyter-widgets/base",
            "_view_module_version": "1.2.0",
            "_view_name": "StyleView",
            "description_width": ""
          }
        },
        "5b2d6ec813414e83adea6a40f3962e97": {
          "model_module": "@jupyter-widgets/controls",
          "model_name": "HBoxModel",
          "model_module_version": "1.5.0",
          "state": {
            "_dom_classes": [],
            "_model_module": "@jupyter-widgets/controls",
            "_model_module_version": "1.5.0",
            "_model_name": "HBoxModel",
            "_view_count": null,
            "_view_module": "@jupyter-widgets/controls",
            "_view_module_version": "1.5.0",
            "_view_name": "HBoxView",
            "box_style": "",
            "children": [
              "IPY_MODEL_3283c12e68b24753a6ab3f6e0308dac9",
              "IPY_MODEL_9037f48921134401b7a81762136dda5d",
              "IPY_MODEL_8a338ee928e44b5aa8c94389e6bdc2fb"
            ],
            "layout": "IPY_MODEL_9082e95fb4884163b866068dc8cf562f"
          }
        },
        "3283c12e68b24753a6ab3f6e0308dac9": {
          "model_module": "@jupyter-widgets/controls",
          "model_name": "HTMLModel",
          "model_module_version": "1.5.0",
          "state": {
            "_dom_classes": [],
            "_model_module": "@jupyter-widgets/controls",
            "_model_module_version": "1.5.0",
            "_model_name": "HTMLModel",
            "_view_count": null,
            "_view_module": "@jupyter-widgets/controls",
            "_view_module_version": "1.5.0",
            "_view_name": "HTMLView",
            "description": "",
            "description_tooltip": null,
            "layout": "IPY_MODEL_a23c7ff5c53345a0bd7dce0a39df8007",
            "placeholder": "​",
            "style": "IPY_MODEL_31afd8752d174da2a6e8634f0b9db186",
            "value": "Downloading (…)lve/main/config.json: 100%"
          }
        },
        "9037f48921134401b7a81762136dda5d": {
          "model_module": "@jupyter-widgets/controls",
          "model_name": "FloatProgressModel",
          "model_module_version": "1.5.0",
          "state": {
            "_dom_classes": [],
            "_model_module": "@jupyter-widgets/controls",
            "_model_module_version": "1.5.0",
            "_model_name": "FloatProgressModel",
            "_view_count": null,
            "_view_module": "@jupyter-widgets/controls",
            "_view_module_version": "1.5.0",
            "_view_name": "ProgressView",
            "bar_style": "success",
            "description": "",
            "description_tooltip": null,
            "layout": "IPY_MODEL_68a6dc6b0c36488195a5f55c98593f12",
            "max": 508,
            "min": 0,
            "orientation": "horizontal",
            "style": "IPY_MODEL_5fe248539859474caa4aa45cb63655d3",
            "value": 508
          }
        },
        "8a338ee928e44b5aa8c94389e6bdc2fb": {
          "model_module": "@jupyter-widgets/controls",
          "model_name": "HTMLModel",
          "model_module_version": "1.5.0",
          "state": {
            "_dom_classes": [],
            "_model_module": "@jupyter-widgets/controls",
            "_model_module_version": "1.5.0",
            "_model_name": "HTMLModel",
            "_view_count": null,
            "_view_module": "@jupyter-widgets/controls",
            "_view_module_version": "1.5.0",
            "_view_name": "HTMLView",
            "description": "",
            "description_tooltip": null,
            "layout": "IPY_MODEL_663a9ba9262149fc83bf6db950255a5b",
            "placeholder": "​",
            "style": "IPY_MODEL_290c9df961a74609a1af3e9fa2fe2587",
            "value": " 508/508 [00:00&lt;00:00, 17.7kB/s]"
          }
        },
        "9082e95fb4884163b866068dc8cf562f": {
          "model_module": "@jupyter-widgets/base",
          "model_name": "LayoutModel",
          "model_module_version": "1.2.0",
          "state": {
            "_model_module": "@jupyter-widgets/base",
            "_model_module_version": "1.2.0",
            "_model_name": "LayoutModel",
            "_view_count": null,
            "_view_module": "@jupyter-widgets/base",
            "_view_module_version": "1.2.0",
            "_view_name": "LayoutView",
            "align_content": null,
            "align_items": null,
            "align_self": null,
            "border": null,
            "bottom": null,
            "display": null,
            "flex": null,
            "flex_flow": null,
            "grid_area": null,
            "grid_auto_columns": null,
            "grid_auto_flow": null,
            "grid_auto_rows": null,
            "grid_column": null,
            "grid_gap": null,
            "grid_row": null,
            "grid_template_areas": null,
            "grid_template_columns": null,
            "grid_template_rows": null,
            "height": null,
            "justify_content": null,
            "justify_items": null,
            "left": null,
            "margin": null,
            "max_height": null,
            "max_width": null,
            "min_height": null,
            "min_width": null,
            "object_fit": null,
            "object_position": null,
            "order": null,
            "overflow": null,
            "overflow_x": null,
            "overflow_y": null,
            "padding": null,
            "right": null,
            "top": null,
            "visibility": null,
            "width": null
          }
        },
        "a23c7ff5c53345a0bd7dce0a39df8007": {
          "model_module": "@jupyter-widgets/base",
          "model_name": "LayoutModel",
          "model_module_version": "1.2.0",
          "state": {
            "_model_module": "@jupyter-widgets/base",
            "_model_module_version": "1.2.0",
            "_model_name": "LayoutModel",
            "_view_count": null,
            "_view_module": "@jupyter-widgets/base",
            "_view_module_version": "1.2.0",
            "_view_name": "LayoutView",
            "align_content": null,
            "align_items": null,
            "align_self": null,
            "border": null,
            "bottom": null,
            "display": null,
            "flex": null,
            "flex_flow": null,
            "grid_area": null,
            "grid_auto_columns": null,
            "grid_auto_flow": null,
            "grid_auto_rows": null,
            "grid_column": null,
            "grid_gap": null,
            "grid_row": null,
            "grid_template_areas": null,
            "grid_template_columns": null,
            "grid_template_rows": null,
            "height": null,
            "justify_content": null,
            "justify_items": null,
            "left": null,
            "margin": null,
            "max_height": null,
            "max_width": null,
            "min_height": null,
            "min_width": null,
            "object_fit": null,
            "object_position": null,
            "order": null,
            "overflow": null,
            "overflow_x": null,
            "overflow_y": null,
            "padding": null,
            "right": null,
            "top": null,
            "visibility": null,
            "width": null
          }
        },
        "31afd8752d174da2a6e8634f0b9db186": {
          "model_module": "@jupyter-widgets/controls",
          "model_name": "DescriptionStyleModel",
          "model_module_version": "1.5.0",
          "state": {
            "_model_module": "@jupyter-widgets/controls",
            "_model_module_version": "1.5.0",
            "_model_name": "DescriptionStyleModel",
            "_view_count": null,
            "_view_module": "@jupyter-widgets/base",
            "_view_module_version": "1.2.0",
            "_view_name": "StyleView",
            "description_width": ""
          }
        },
        "68a6dc6b0c36488195a5f55c98593f12": {
          "model_module": "@jupyter-widgets/base",
          "model_name": "LayoutModel",
          "model_module_version": "1.2.0",
          "state": {
            "_model_module": "@jupyter-widgets/base",
            "_model_module_version": "1.2.0",
            "_model_name": "LayoutModel",
            "_view_count": null,
            "_view_module": "@jupyter-widgets/base",
            "_view_module_version": "1.2.0",
            "_view_name": "LayoutView",
            "align_content": null,
            "align_items": null,
            "align_self": null,
            "border": null,
            "bottom": null,
            "display": null,
            "flex": null,
            "flex_flow": null,
            "grid_area": null,
            "grid_auto_columns": null,
            "grid_auto_flow": null,
            "grid_auto_rows": null,
            "grid_column": null,
            "grid_gap": null,
            "grid_row": null,
            "grid_template_areas": null,
            "grid_template_columns": null,
            "grid_template_rows": null,
            "height": null,
            "justify_content": null,
            "justify_items": null,
            "left": null,
            "margin": null,
            "max_height": null,
            "max_width": null,
            "min_height": null,
            "min_width": null,
            "object_fit": null,
            "object_position": null,
            "order": null,
            "overflow": null,
            "overflow_x": null,
            "overflow_y": null,
            "padding": null,
            "right": null,
            "top": null,
            "visibility": null,
            "width": null
          }
        },
        "5fe248539859474caa4aa45cb63655d3": {
          "model_module": "@jupyter-widgets/controls",
          "model_name": "ProgressStyleModel",
          "model_module_version": "1.5.0",
          "state": {
            "_model_module": "@jupyter-widgets/controls",
            "_model_module_version": "1.5.0",
            "_model_name": "ProgressStyleModel",
            "_view_count": null,
            "_view_module": "@jupyter-widgets/base",
            "_view_module_version": "1.2.0",
            "_view_name": "StyleView",
            "bar_color": null,
            "description_width": ""
          }
        },
        "663a9ba9262149fc83bf6db950255a5b": {
          "model_module": "@jupyter-widgets/base",
          "model_name": "LayoutModel",
          "model_module_version": "1.2.0",
          "state": {
            "_model_module": "@jupyter-widgets/base",
            "_model_module_version": "1.2.0",
            "_model_name": "LayoutModel",
            "_view_count": null,
            "_view_module": "@jupyter-widgets/base",
            "_view_module_version": "1.2.0",
            "_view_name": "LayoutView",
            "align_content": null,
            "align_items": null,
            "align_self": null,
            "border": null,
            "bottom": null,
            "display": null,
            "flex": null,
            "flex_flow": null,
            "grid_area": null,
            "grid_auto_columns": null,
            "grid_auto_flow": null,
            "grid_auto_rows": null,
            "grid_column": null,
            "grid_gap": null,
            "grid_row": null,
            "grid_template_areas": null,
            "grid_template_columns": null,
            "grid_template_rows": null,
            "height": null,
            "justify_content": null,
            "justify_items": null,
            "left": null,
            "margin": null,
            "max_height": null,
            "max_width": null,
            "min_height": null,
            "min_width": null,
            "object_fit": null,
            "object_position": null,
            "order": null,
            "overflow": null,
            "overflow_x": null,
            "overflow_y": null,
            "padding": null,
            "right": null,
            "top": null,
            "visibility": null,
            "width": null
          }
        },
        "290c9df961a74609a1af3e9fa2fe2587": {
          "model_module": "@jupyter-widgets/controls",
          "model_name": "DescriptionStyleModel",
          "model_module_version": "1.5.0",
          "state": {
            "_model_module": "@jupyter-widgets/controls",
            "_model_module_version": "1.5.0",
            "_model_name": "DescriptionStyleModel",
            "_view_count": null,
            "_view_module": "@jupyter-widgets/base",
            "_view_module_version": "1.2.0",
            "_view_name": "StyleView",
            "description_width": ""
          }
        },
        "5a456a90fa734b648287811b2aa9b4a5": {
          "model_module": "@jupyter-widgets/controls",
          "model_name": "HBoxModel",
          "model_module_version": "1.5.0",
          "state": {
            "_dom_classes": [],
            "_model_module": "@jupyter-widgets/controls",
            "_model_module_version": "1.5.0",
            "_model_name": "HBoxModel",
            "_view_count": null,
            "_view_module": "@jupyter-widgets/controls",
            "_view_module_version": "1.5.0",
            "_view_name": "HBoxView",
            "box_style": "",
            "children": [
              "IPY_MODEL_666e8021ad3145a79796a94381b869e5",
              "IPY_MODEL_d9f3f844070b44adb987cdc827bed6b3",
              "IPY_MODEL_a35c923d322a4d08b94891b23efada58"
            ],
            "layout": "IPY_MODEL_d200d15b6a6a402bbd77832cada17371"
          }
        },
        "666e8021ad3145a79796a94381b869e5": {
          "model_module": "@jupyter-widgets/controls",
          "model_name": "HTMLModel",
          "model_module_version": "1.5.0",
          "state": {
            "_dom_classes": [],
            "_model_module": "@jupyter-widgets/controls",
            "_model_module_version": "1.5.0",
            "_model_name": "HTMLModel",
            "_view_count": null,
            "_view_module": "@jupyter-widgets/controls",
            "_view_module_version": "1.5.0",
            "_view_name": "HTMLView",
            "description": "",
            "description_tooltip": null,
            "layout": "IPY_MODEL_de4059cad07642d79847154eb084f599",
            "placeholder": "​",
            "style": "IPY_MODEL_6b2136d41c4c4aa09d9aeccce5380c39",
            "value": "Downloading (…)&quot;pytorch_model.bin&quot;;: 100%"
          }
        },
        "d9f3f844070b44adb987cdc827bed6b3": {
          "model_module": "@jupyter-widgets/controls",
          "model_name": "FloatProgressModel",
          "model_module_version": "1.5.0",
          "state": {
            "_dom_classes": [],
            "_model_module": "@jupyter-widgets/controls",
            "_model_module_version": "1.5.0",
            "_model_name": "FloatProgressModel",
            "_view_count": null,
            "_view_module": "@jupyter-widgets/controls",
            "_view_module_version": "1.5.0",
            "_view_name": "ProgressView",
            "bar_style": "success",
            "description": "",
            "description_tooltip": null,
            "layout": "IPY_MODEL_4c43a1f60bd348a288f4413aba95d5b6",
            "max": 445032417,
            "min": 0,
            "orientation": "horizontal",
            "style": "IPY_MODEL_24ae42a383c448e0aa48d28303baf1da",
            "value": 445032417
          }
        },
        "a35c923d322a4d08b94891b23efada58": {
          "model_module": "@jupyter-widgets/controls",
          "model_name": "HTMLModel",
          "model_module_version": "1.5.0",
          "state": {
            "_dom_classes": [],
            "_model_module": "@jupyter-widgets/controls",
            "_model_module_version": "1.5.0",
            "_model_name": "HTMLModel",
            "_view_count": null,
            "_view_module": "@jupyter-widgets/controls",
            "_view_module_version": "1.5.0",
            "_view_name": "HTMLView",
            "description": "",
            "description_tooltip": null,
            "layout": "IPY_MODEL_7b5190455ec94831b36fefde538a42f2",
            "placeholder": "​",
            "style": "IPY_MODEL_ce3e6b37223949d0a1c1a98ee69e073b",
            "value": " 445M/445M [00:01&lt;00:00, 348MB/s]"
          }
        },
        "d200d15b6a6a402bbd77832cada17371": {
          "model_module": "@jupyter-widgets/base",
          "model_name": "LayoutModel",
          "model_module_version": "1.2.0",
          "state": {
            "_model_module": "@jupyter-widgets/base",
            "_model_module_version": "1.2.0",
            "_model_name": "LayoutModel",
            "_view_count": null,
            "_view_module": "@jupyter-widgets/base",
            "_view_module_version": "1.2.0",
            "_view_name": "LayoutView",
            "align_content": null,
            "align_items": null,
            "align_self": null,
            "border": null,
            "bottom": null,
            "display": null,
            "flex": null,
            "flex_flow": null,
            "grid_area": null,
            "grid_auto_columns": null,
            "grid_auto_flow": null,
            "grid_auto_rows": null,
            "grid_column": null,
            "grid_gap": null,
            "grid_row": null,
            "grid_template_areas": null,
            "grid_template_columns": null,
            "grid_template_rows": null,
            "height": null,
            "justify_content": null,
            "justify_items": null,
            "left": null,
            "margin": null,
            "max_height": null,
            "max_width": null,
            "min_height": null,
            "min_width": null,
            "object_fit": null,
            "object_position": null,
            "order": null,
            "overflow": null,
            "overflow_x": null,
            "overflow_y": null,
            "padding": null,
            "right": null,
            "top": null,
            "visibility": null,
            "width": null
          }
        },
        "de4059cad07642d79847154eb084f599": {
          "model_module": "@jupyter-widgets/base",
          "model_name": "LayoutModel",
          "model_module_version": "1.2.0",
          "state": {
            "_model_module": "@jupyter-widgets/base",
            "_model_module_version": "1.2.0",
            "_model_name": "LayoutModel",
            "_view_count": null,
            "_view_module": "@jupyter-widgets/base",
            "_view_module_version": "1.2.0",
            "_view_name": "LayoutView",
            "align_content": null,
            "align_items": null,
            "align_self": null,
            "border": null,
            "bottom": null,
            "display": null,
            "flex": null,
            "flex_flow": null,
            "grid_area": null,
            "grid_auto_columns": null,
            "grid_auto_flow": null,
            "grid_auto_rows": null,
            "grid_column": null,
            "grid_gap": null,
            "grid_row": null,
            "grid_template_areas": null,
            "grid_template_columns": null,
            "grid_template_rows": null,
            "height": null,
            "justify_content": null,
            "justify_items": null,
            "left": null,
            "margin": null,
            "max_height": null,
            "max_width": null,
            "min_height": null,
            "min_width": null,
            "object_fit": null,
            "object_position": null,
            "order": null,
            "overflow": null,
            "overflow_x": null,
            "overflow_y": null,
            "padding": null,
            "right": null,
            "top": null,
            "visibility": null,
            "width": null
          }
        },
        "6b2136d41c4c4aa09d9aeccce5380c39": {
          "model_module": "@jupyter-widgets/controls",
          "model_name": "DescriptionStyleModel",
          "model_module_version": "1.5.0",
          "state": {
            "_model_module": "@jupyter-widgets/controls",
            "_model_module_version": "1.5.0",
            "_model_name": "DescriptionStyleModel",
            "_view_count": null,
            "_view_module": "@jupyter-widgets/base",
            "_view_module_version": "1.2.0",
            "_view_name": "StyleView",
            "description_width": ""
          }
        },
        "4c43a1f60bd348a288f4413aba95d5b6": {
          "model_module": "@jupyter-widgets/base",
          "model_name": "LayoutModel",
          "model_module_version": "1.2.0",
          "state": {
            "_model_module": "@jupyter-widgets/base",
            "_model_module_version": "1.2.0",
            "_model_name": "LayoutModel",
            "_view_count": null,
            "_view_module": "@jupyter-widgets/base",
            "_view_module_version": "1.2.0",
            "_view_name": "LayoutView",
            "align_content": null,
            "align_items": null,
            "align_self": null,
            "border": null,
            "bottom": null,
            "display": null,
            "flex": null,
            "flex_flow": null,
            "grid_area": null,
            "grid_auto_columns": null,
            "grid_auto_flow": null,
            "grid_auto_rows": null,
            "grid_column": null,
            "grid_gap": null,
            "grid_row": null,
            "grid_template_areas": null,
            "grid_template_columns": null,
            "grid_template_rows": null,
            "height": null,
            "justify_content": null,
            "justify_items": null,
            "left": null,
            "margin": null,
            "max_height": null,
            "max_width": null,
            "min_height": null,
            "min_width": null,
            "object_fit": null,
            "object_position": null,
            "order": null,
            "overflow": null,
            "overflow_x": null,
            "overflow_y": null,
            "padding": null,
            "right": null,
            "top": null,
            "visibility": null,
            "width": null
          }
        },
        "24ae42a383c448e0aa48d28303baf1da": {
          "model_module": "@jupyter-widgets/controls",
          "model_name": "ProgressStyleModel",
          "model_module_version": "1.5.0",
          "state": {
            "_model_module": "@jupyter-widgets/controls",
            "_model_module_version": "1.5.0",
            "_model_name": "ProgressStyleModel",
            "_view_count": null,
            "_view_module": "@jupyter-widgets/base",
            "_view_module_version": "1.2.0",
            "_view_name": "StyleView",
            "bar_color": null,
            "description_width": ""
          }
        },
        "7b5190455ec94831b36fefde538a42f2": {
          "model_module": "@jupyter-widgets/base",
          "model_name": "LayoutModel",
          "model_module_version": "1.2.0",
          "state": {
            "_model_module": "@jupyter-widgets/base",
            "_model_module_version": "1.2.0",
            "_model_name": "LayoutModel",
            "_view_count": null,
            "_view_module": "@jupyter-widgets/base",
            "_view_module_version": "1.2.0",
            "_view_name": "LayoutView",
            "align_content": null,
            "align_items": null,
            "align_self": null,
            "border": null,
            "bottom": null,
            "display": null,
            "flex": null,
            "flex_flow": null,
            "grid_area": null,
            "grid_auto_columns": null,
            "grid_auto_flow": null,
            "grid_auto_rows": null,
            "grid_column": null,
            "grid_gap": null,
            "grid_row": null,
            "grid_template_areas": null,
            "grid_template_columns": null,
            "grid_template_rows": null,
            "height": null,
            "justify_content": null,
            "justify_items": null,
            "left": null,
            "margin": null,
            "max_height": null,
            "max_width": null,
            "min_height": null,
            "min_width": null,
            "object_fit": null,
            "object_position": null,
            "order": null,
            "overflow": null,
            "overflow_x": null,
            "overflow_y": null,
            "padding": null,
            "right": null,
            "top": null,
            "visibility": null,
            "width": null
          }
        },
        "ce3e6b37223949d0a1c1a98ee69e073b": {
          "model_module": "@jupyter-widgets/controls",
          "model_name": "DescriptionStyleModel",
          "model_module_version": "1.5.0",
          "state": {
            "_model_module": "@jupyter-widgets/controls",
            "_model_module_version": "1.5.0",
            "_model_name": "DescriptionStyleModel",
            "_view_count": null,
            "_view_module": "@jupyter-widgets/base",
            "_view_module_version": "1.2.0",
            "_view_name": "StyleView",
            "description_width": ""
          }
        }
      }
    }
  },
  "cells": [
    {
      "cell_type": "markdown",
      "source": [
        "**Блокнот по проведению word-level probing экспериментов**"
      ],
      "metadata": {
        "id": "6vCc6R7HGVRR"
      }
    },
    {
      "cell_type": "code",
      "metadata": {
        "id": "iz6qr5iC6jd-",
        "colab": {
          "base_uri": "https://localhost:8080/"
        },
        "outputId": "aa528bcf-50ca-4438-e1e7-a1b0c03420d6"
      },
      "source": [
        "!pip --quiet install transformers sentencepiece conllu"
      ],
      "execution_count": null,
      "outputs": [
        {
          "output_type": "stream",
          "name": "stdout",
          "text": [
            "\u001b[2K     \u001b[90m━━━━━━━━━━━━━━━━━━━━━━━━━━━━━━━━━━━━━━━━\u001b[0m \u001b[32m6.3/6.3 MB\u001b[0m \u001b[31m67.6 MB/s\u001b[0m eta \u001b[36m0:00:00\u001b[0m\n",
            "\u001b[2K     \u001b[90m━━━━━━━━━━━━━━━━━━━━━━━━━━━━━━━━━━━━━━━━\u001b[0m \u001b[32m1.3/1.3 MB\u001b[0m \u001b[31m36.6 MB/s\u001b[0m eta \u001b[36m0:00:00\u001b[0m\n",
            "\u001b[2K     \u001b[90m━━━━━━━━━━━━━━━━━━━━━━━━━━━━━━━━━━━━━━━━\u001b[0m \u001b[32m7.6/7.6 MB\u001b[0m \u001b[31m60.5 MB/s\u001b[0m eta \u001b[36m0:00:00\u001b[0m\n",
            "\u001b[2K     \u001b[90m━━━━━━━━━━━━━━━━━━━━━━━━━━━━━━━━━━━━━━\u001b[0m \u001b[32m190.3/190.3 KB\u001b[0m \u001b[31m16.5 MB/s\u001b[0m eta \u001b[36m0:00:00\u001b[0m\n",
            "\u001b[?25h"
          ]
        }
      ]
    },
    {
      "cell_type": "code",
      "source": [
        "!wget https://raw.githubusercontent.com/UniversalDependencies/UD_French-GSD/master/fr_gsd-ud-test.conllu -O french_gender.conllu"
      ],
      "metadata": {
        "colab": {
          "base_uri": "https://localhost:8080/"
        },
        "id": "XJ2KUZel6vWw",
        "outputId": "bd7c7622-a5ec-4e91-91f3-0301615c9fdb"
      },
      "execution_count": null,
      "outputs": [
        {
          "output_type": "stream",
          "name": "stdout",
          "text": [
            "--2023-02-21 10:04:49--  https://raw.githubusercontent.com/UniversalDependencies/UD_French-GSD/master/fr_gsd-ud-test.conllu\n",
            "Resolving raw.githubusercontent.com (raw.githubusercontent.com)... 185.199.108.133, 185.199.109.133, 185.199.110.133, ...\n",
            "Connecting to raw.githubusercontent.com (raw.githubusercontent.com)|185.199.108.133|:443... connected.\n",
            "HTTP request sent, awaiting response... 200 OK\n",
            "Length: 645402 (630K) [text/plain]\n",
            "Saving to: ‘french_gender.conllu’\n",
            "\n",
            "\rfrench_gender.conll   0%[                    ]       0  --.-KB/s               \rfrench_gender.conll 100%[===================>] 630.28K  --.-KB/s    in 0.004s  \n",
            "\n",
            "2023-02-21 10:04:49 (145 MB/s) - ‘french_gender.conllu’ saved [645402/645402]\n",
            "\n"
          ]
        }
      ]
    },
    {
      "cell_type": "code",
      "metadata": {
        "id": "19SRRD7LrQEk"
      },
      "source": [
        "import torch\n",
        "import pandas as pd\n",
        "import numpy as np\n",
        "from transformers import CamembertModel, CamembertTokenizer, BertModel, BertTokenizer\n",
        "\n",
        "DEVICE = 'cuda' if torch.cuda.is_available() else 'cpu'"
      ],
      "execution_count": null,
      "outputs": []
    },
    {
      "cell_type": "markdown",
      "source": [
        "### Loading the model"
      ],
      "metadata": {
        "id": "xePs1uvlAb7T"
      }
    },
    {
      "cell_type": "code",
      "source": [
        "# try:\n",
        "#     del tokenizer\n",
        "#     del model\n",
        "# except:\n",
        "#     pass\n",
        "\n",
        "def get_pretrained(model_name, model_class=CamembertModel, tokenizer_class=CamembertTokenizer, device=DEVICE):\n",
        "    tokenizer = tokenizer_class.from_pretrained(model_name)\n",
        "    model = model_class.from_pretrained(model_name, output_hidden_states=True)\n",
        "    model = model.to(device)\n",
        "    return model, tokenizer\n",
        "\n",
        "model, tokenizer = get_pretrained('camembert-base')"
      ],
      "metadata": {
        "colab": {
          "base_uri": "https://localhost:8080/",
          "height": 185,
          "referenced_widgets": [
            "f9336c31ac4f40faa9ed3bde6eca8557",
            "5755903c3e584a6090e88819a605cb70",
            "6ce93c24bed14126af35acc68c2a1a70",
            "6a246fd1e4fa4873b01ca9f01852aaeb",
            "ba2ef200598a4987be498f374ebf3a6e",
            "d36ad89ea0e74281aabcb3e69a4cdc45",
            "4a7579833ae44781a4554a0a956c60c2",
            "427c79f214954533914d53a79f87ba3a",
            "70a87d66fffd4b589cd8a03b6bfce647",
            "c7face94186a4165b88591d2bbb1bbae",
            "afee9d3041ec4ee2a3880eb88d036892",
            "5b2d6ec813414e83adea6a40f3962e97",
            "3283c12e68b24753a6ab3f6e0308dac9",
            "9037f48921134401b7a81762136dda5d",
            "8a338ee928e44b5aa8c94389e6bdc2fb",
            "9082e95fb4884163b866068dc8cf562f",
            "a23c7ff5c53345a0bd7dce0a39df8007",
            "31afd8752d174da2a6e8634f0b9db186",
            "68a6dc6b0c36488195a5f55c98593f12",
            "5fe248539859474caa4aa45cb63655d3",
            "663a9ba9262149fc83bf6db950255a5b",
            "290c9df961a74609a1af3e9fa2fe2587",
            "5a456a90fa734b648287811b2aa9b4a5",
            "666e8021ad3145a79796a94381b869e5",
            "d9f3f844070b44adb987cdc827bed6b3",
            "a35c923d322a4d08b94891b23efada58",
            "d200d15b6a6a402bbd77832cada17371",
            "de4059cad07642d79847154eb084f599",
            "6b2136d41c4c4aa09d9aeccce5380c39",
            "4c43a1f60bd348a288f4413aba95d5b6",
            "24ae42a383c448e0aa48d28303baf1da",
            "7b5190455ec94831b36fefde538a42f2",
            "ce3e6b37223949d0a1c1a98ee69e073b"
          ]
        },
        "id": "xWgksYrf-OTD",
        "outputId": "ae94e1cd-5421-4461-dcaa-14f162cd9e23"
      },
      "execution_count": null,
      "outputs": [
        {
          "output_type": "display_data",
          "data": {
            "text/plain": [
              "Downloading (…)tencepiece.bpe.model:   0%|          | 0.00/811k [00:00<?, ?B/s]"
            ],
            "application/vnd.jupyter.widget-view+json": {
              "version_major": 2,
              "version_minor": 0,
              "model_id": "f9336c31ac4f40faa9ed3bde6eca8557"
            }
          },
          "metadata": {}
        },
        {
          "output_type": "display_data",
          "data": {
            "text/plain": [
              "Downloading (…)lve/main/config.json:   0%|          | 0.00/508 [00:00<?, ?B/s]"
            ],
            "application/vnd.jupyter.widget-view+json": {
              "version_major": 2,
              "version_minor": 0,
              "model_id": "5b2d6ec813414e83adea6a40f3962e97"
            }
          },
          "metadata": {}
        },
        {
          "output_type": "display_data",
          "data": {
            "text/plain": [
              "Downloading (…)\"pytorch_model.bin\";:   0%|          | 0.00/445M [00:00<?, ?B/s]"
            ],
            "application/vnd.jupyter.widget-view+json": {
              "version_major": 2,
              "version_minor": 0,
              "model_id": "5a456a90fa734b648287811b2aa9b4a5"
            }
          },
          "metadata": {}
        },
        {
          "output_type": "stream",
          "name": "stderr",
          "text": [
            "Some weights of the model checkpoint at camembert-base were not used when initializing CamembertModel: ['lm_head.layer_norm.bias', 'lm_head.dense.weight', 'lm_head.bias', 'lm_head.layer_norm.weight', 'lm_head.decoder.weight', 'lm_head.dense.bias']\n",
            "- This IS expected if you are initializing CamembertModel from the checkpoint of a model trained on another task or with another architecture (e.g. initializing a BertForSequenceClassification model from a BertForPreTraining model).\n",
            "- This IS NOT expected if you are initializing CamembertModel from the checkpoint of a model that you expect to be exactly identical (initializing a BertForSequenceClassification model from a BertForSequenceClassification model).\n"
          ]
        }
      ]
    },
    {
      "cell_type": "code",
      "source": [
        "def get_sentence_embs(sentence, model=model, tokenizer=tokenizer, device=DEVICE):\n",
        "    \"\"\"\n",
        "    Возвращает эмбеддинги предложений по слоям. Эмбеддинг предложения == усреднённые эмбеддинги токенов\n",
        "    \"\"\"\n",
        "    with torch.no_grad():\n",
        "        inputs = tokenizer(sentence, return_tensors='pt').to(device)\n",
        "        outputs = model(**inputs)\n",
        "        return [layer_emb.mean(axis=1).squeeze().cpu().numpy() for layer_emb in outputs.hidden_states][1:]\n",
        "\n",
        "len(get_sentence_embs('Vous m\\'accusez de \"subjectivisme\".'))  # 12 layers in bert base"
      ],
      "metadata": {
        "colab": {
          "base_uri": "https://localhost:8080/"
        },
        "id": "E32dqRRF8yM6",
        "outputId": "03d97bf5-cf98-4c3c-f0cb-1b34163cf50d"
      },
      "execution_count": null,
      "outputs": [
        {
          "output_type": "execute_result",
          "data": {
            "text/plain": [
              "12"
            ]
          },
          "metadata": {},
          "execution_count": 5
        }
      ]
    },
    {
      "cell_type": "code",
      "source": [
        "def get_word_features(toks, token_features):\n",
        "    \"\"\"\n",
        "    Принимает в качестве аргументов токенизированное предложение и выход модели на нём. Собирает из выхода по токенам выход по словам.\n",
        "    \"\"\"\n",
        "    token_features = token_features[1:-1] # drop CLS and SEP tokens\n",
        "    word_features = []\n",
        "    for i in range(len(token_features)):\n",
        "        if not toks[i].startswith(chr(9601)): # It's the continuation of the last word\n",
        "            word_features[-1] += token_features[i]\n",
        "        else: # A new word has started\n",
        "            word_features.append(token_features[i])\n",
        "    return torch.stack(word_features, dim=0)\n",
        "\n",
        "\n",
        "def get_word_embs(sentence, model=model, tokenizer=tokenizer, device=DEVICE):\n",
        "    \"\"\"\n",
        "    Возвращает эмбеддинги слов по слоям. Эмбеддинг слова == усреднённые эмбеддинги токенов, на которые оно разбито (обычно 1 токен).\n",
        "    \"\"\"\n",
        "    with torch.no_grad():\n",
        "        inputs = tokenizer(sentence, return_tensors='pt').to(device)\n",
        "        # print(tokenizer.convert_ids_to_tokens(tokenizer(sentence)[\"input_ids\"]))\n",
        "        outputs = model(**inputs)\n",
        "        hidden_states = torch.stack(outputs.hidden_states, dim=0) # Convert tuple of layers to torch tensor\n",
        "        hidden_states = torch.squeeze(hidden_states, dim=1) # Drop batch dimension which is equal to 1\n",
        "        # hidden_states = hidden_states[1:] # Drop the input layer\n",
        "\n",
        "        result = []\n",
        "        toks = tokenizer.tokenize(sentence)\n",
        "        for layer in hidden_states:\n",
        "            result.append(get_word_features(toks, layer))\n",
        "        \n",
        "        return torch.permute(torch.stack(result, dim=0), [1,0,2])\n",
        "\n",
        "\n",
        "text = \"J'aime camembert!\" #The word camembert is split into multiple tokens => this sentence is good for testing\n",
        "res = get_word_embs(text)\n",
        "res.size()"
      ],
      "metadata": {
        "colab": {
          "base_uri": "https://localhost:8080/"
        },
        "id": "VM0NxRjAtJXs",
        "outputId": "998d490d-8088-46fd-daa6-5b7906e44b45"
      },
      "execution_count": null,
      "outputs": [
        {
          "output_type": "execute_result",
          "data": {
            "text/plain": [
              "torch.Size([2, 13, 768])"
            ]
          },
          "metadata": {},
          "execution_count": 53
        }
      ]
    },
    {
      "cell_type": "code",
      "source": [
        "def join_parsings(bert_tokenization, ud_tokenization): # accepts two tokenizations and returns list of features for bert tokenization\n",
        "    bert_words = []\n",
        "    for item in bert_tokenization:\n",
        "        if not item.startswith(chr(9601)): # It's the continuation of the last word\n",
        "            bert_words[-1] += item\n",
        "        else: # A new word has started\n",
        "            bert_words.append(item[1:])\n",
        "    ud_features = [[]]\n",
        "    last_word, last_symbol = 0, 0\n",
        "    skip_ids = -1\n",
        "    for item in ud_tokenization:\n",
        "        if type(item[\"id\"]) is int and item[\"id\"] <= skip_ids:\n",
        "            continue\n",
        "        if bert_words[last_word][last_symbol:].startswith(item[\"form\"]):\n",
        "            last_symbol += len(item[\"form\"])\n",
        "            ud_features[-1].append(item)\n",
        "\n",
        "            if type(item[\"id\"]) is not int:\n",
        "                skip_ids = item[\"id\"][2]\n",
        "\n",
        "            if last_symbol == len(bert_words[last_word]): # We've reached the end in the current word\n",
        "                if len(ud_features[-1]) == 0:\n",
        "                    print(\"this is weird...\")\n",
        "                last_word, last_symbol = last_word + 1, 0 # Switch to the next word in bert tokenization\n",
        "                ud_features.append([])\n",
        "        else:\n",
        "            print(\"There has been a problem merging\", bert_tokenization, \"with\", ud_tokenization)\n",
        "            return\n",
        "    ud_features.pop() # Remove the last emtpy features list\n",
        "    return bert_words, ud_features"
      ],
      "metadata": {
        "id": "0EL7V8Q3yyQ5"
      },
      "execution_count": null,
      "outputs": []
    },
    {
      "cell_type": "code",
      "source": [
        "test_data = pd.DataFrame.from_dict({\"text\": [\"This is a great time for it\", \"This was a great time for it\", \"I ran home\", \"I run home\", \"I want to go\", \"I wanted to go\", \"I am cool\", \"I was cool\"], \\\n",
        "                          \"word_index\": [1, 1, 1, 1, 1, 1, 1, 1], \\\n",
        "                          \"target\": [0, 1, 1, 0, 0, 1, 0, 1]}) # Это я типа время предсказываю по глаголу\n",
        "\n",
        "for i in test_data.index:\n",
        "    # test_data.loc[i, \"feature\"]\n",
        "    thing = np.array(get_word_embs(test_data.loc[i, \"text\"])[test_data.loc[i, \"word_index\"]][5].cpu())\n",
        "    test_data.loc[i, [\"feat_\" + str(x) for x in range(768)]] = thing\n",
        "\n",
        "from sklearn.linear_model import LogisticRegression\n",
        "from sklearn.metrics import accuracy_score\n",
        "from sklearn.model_selection import train_test_split\n",
        "\n",
        "X_tr, X_te, y_tr, y_te = train_test_split(test_data.drop(columns=[\"target\", \"text\", \"word_index\"]), test_data[\"target\"], train_size=0.5)\n",
        "\n",
        "logreg = LogisticRegression()\n",
        "logreg.fit(X_tr, y_tr)\n",
        "accuracy_score(y_te, logreg.predict(X_te))"
      ],
      "metadata": {
        "colab": {
          "base_uri": "https://localhost:8080/"
        },
        "id": "PtCFI4aYEIBa",
        "outputId": "7fc320ef-7630-41b8-a4f7-c8465cca2371"
      },
      "execution_count": null,
      "outputs": [
        {
          "output_type": "stream",
          "name": "stdout",
          "text": [
            "['<s>', '▁This', '▁is', '▁a', '▁great', '▁time', '▁for', '▁it', '</s>']\n",
            "['<s>', '▁This', '▁was', '▁a', '▁great', '▁time', '▁for', '▁it', '</s>']\n",
            "['<s>', '▁I', '▁', 'ran', '▁home', '</s>']\n",
            "['<s>', '▁I', '▁run', '▁home', '</s>']\n",
            "['<s>', '▁I', '▁w', 'ant', '▁to', '▁go', '</s>']\n",
            "['<s>', '▁I', '▁w', 'ant', 'ed', '▁to', '▁go', '</s>']\n",
            "['<s>', '▁I', '▁am', '▁cool', '</s>']\n",
            "['<s>', '▁I', '▁was', '▁cool', '</s>']\n"
          ]
        },
        {
          "output_type": "execute_result",
          "data": {
            "text/plain": [
              "0.25"
            ]
          },
          "metadata": {},
          "execution_count": 20
        }
      ]
    },
    {
      "cell_type": "markdown",
      "source": [
        "### Loading datasets"
      ],
      "metadata": {
        "id": "vE_V9CbtAezo"
      }
    },
    {
      "cell_type": "code",
      "source": [
        "import conllu"
      ],
      "metadata": {
        "id": "kkYUnjLagao6"
      },
      "execution_count": null,
      "outputs": []
    },
    {
      "cell_type": "code",
      "source": [
        "with open(\"french_gender.conllu\", 'r') as f:\n",
        "    data = conllu.parse(f.read())"
      ],
      "metadata": {
        "id": "10TKPi0Eg8qr"
      },
      "execution_count": null,
      "outputs": []
    },
    {
      "cell_type": "code",
      "source": [
        "data[0].metadata[\"text\"], len(data[0]), data[0][27]"
      ],
      "metadata": {
        "colab": {
          "base_uri": "https://localhost:8080/"
        },
        "id": "pgDjTf5EZTGH",
        "outputId": "07a4c4ae-b126-45a7-a8a7-317dbf81964a"
      },
      "execution_count": null,
      "outputs": [
        {
          "output_type": "execute_result",
          "data": {
            "text/plain": [
              "(\"Je sens qu'entre ça et les films de médecins et scientifiques fous que nous avons déjà vus, nous pourrions emprunter un autre chemin pour l'origine.\",\n",
              " 29,\n",
              " {'id': 28,\n",
              "  'form': 'origine',\n",
              "  'lemma': 'origine',\n",
              "  'upos': 'NOUN',\n",
              "  'xpos': None,\n",
              "  'feats': {'Gender': 'Fem', 'Number': 'Sing'},\n",
              "  'head': 22,\n",
              "  'deprel': 'obl:mod',\n",
              "  'deps': None,\n",
              "  'misc': {'SpaceAfter': 'No'}})"
            ]
          },
          "metadata": {},
          "execution_count": 10
        }
      ]
    },
    {
      "cell_type": "code",
      "source": [
        "samples = [[], [], []] # Gather data here, first list contains texts, second contains word indices, third contains labels\n",
        "\n",
        "cnt = 0\n",
        "for sentence in data:\n",
        "    bert_tokens = tokenizer.tokenize(sentence.metadata[\"text\"])\n",
        "    result = join_parsings(bert_tokens, sentence)\n",
        "    if result is None:\n",
        "        # print(sentence)\n",
        "        # for item in sentence:\n",
        "        #     print(item[\"id\"], item[\"form\"])\n",
        "        #     # print(inspect.getmembers(item))\n",
        "        cnt += 1\n",
        "        continue\n",
        "    tokens, feats = result\n",
        "    for ind in range(len(feats)):\n",
        "        if len(feats[ind]) > 1: # This is a multiword token, let's skip it for now\n",
        "            continue\n",
        "        if feats[ind][0][\"upos\"] == \"NOUN\" and feats[ind][0][\"feats\"] is not None and feats[ind][0][\"feats\"].get(\"Gender\") is not None:\n",
        "            samples[0].append(sentence.metadata[\"text\"])\n",
        "            samples[1].append(ind)\n",
        "            samples[2].append(int(feats[ind][0][\"feats\"][\"Gender\"] == \"Fem\"))\n",
        "\n",
        "print(cnt, \"out of\", len(data), \"failed\")\n",
        "french_gender = pd.DataFrame.from_dict({\"text\": samples[0], \"word_ind\": samples[1], \"target\": samples[2]})"
      ],
      "metadata": {
        "id": "BPKdHCB7jlIO",
        "colab": {
          "base_uri": "https://localhost:8080/"
        },
        "outputId": "a44166d5-0fd0-43e4-c83c-02466ef12ad6"
      },
      "execution_count": null,
      "outputs": [
        {
          "output_type": "stream",
          "name": "stdout",
          "text": [
            "There has been a problem merging ['▁Envoyez', '▁le', '▁mot', '▁\"', 'DA', 'RG', 'AUD', '\"', '▁suivi', '▁de', '▁vos', '▁coordonnées', '▁au', '▁6', '▁20', '▁30', '▁(0', '.', '35', '▁c', 'ts', '▁d', \"'\", 'euro', '▁+', '▁coût', '▁du', '▁SMS', ')', '▁et', '▁répond', 'ez', '▁au', '▁qui', 'z', '.'] with TokenList<Envoyez, le, mot, \", DARGAUD, \", suivi, de, vos, coordonnées, au, à, le, 6 20 30, (, 0.35, cts, d', euro, +, coût, du, de, le, SMS, ), et, répondez, au, à, le, quiz, ., metadata={sent_id: \"fr-ud-test_00188\", text: \"Envoyez le mot \"DARGAUD\" suivi de vos coordonnées au 6 20 30 (0.35 cts d'euro + coût du SMS) et répondez au quiz.\"}>\n",
            "There has been a problem merging ['▁Les', '▁papillons', '▁sont', '▁visibles', '▁entre', '▁mai', '▁et', '▁juin', '▁dans', '▁les', '▁zones', '▁de', '▁faibles', '▁altitude', 's', '▁tandis', '▁qu', \"'\", 'au', '▁dessus', '▁de', '▁1', '▁000', '▁mètres', ',', '▁les', '▁papillons', '▁sont', '▁visibles', '▁vers', '▁le', '▁début', '▁juillet', '.'] with TokenList<Les, papillons, sont, visibles, entre, mai, et, juin, dans, les, zones, de, faibles, altitudes, tandis, qu', au, à, le, dessus, de, 1 000, mètres, ,, les, papillons, sont, visibles, vers, le, début, juillet, ., metadata={sent_id: \"fr-ud-dev_01579\", text: \"Les papillons sont visibles entre mai et juin dans les zones de faibles altitudes tandis qu'au dessus de 1 000 mètres, les papillons sont visibles vers le début juillet.\"}>\n",
            "2 out of 416 failed\n"
          ]
        }
      ]
    },
    {
      "cell_type": "code",
      "source": [
        "french_gender"
      ],
      "metadata": {
        "colab": {
          "base_uri": "https://localhost:8080/",
          "height": 423
        },
        "id": "vhZi_kxpixYK",
        "outputId": "ee012abe-272f-4237-e84c-7928d0b73c82"
      },
      "execution_count": null,
      "outputs": [
        {
          "output_type": "execute_result",
          "data": {
            "text/plain": [
              "                                                   text  word_ind  target\n",
              "0     Je sens qu'entre ça et les films de médecins e...         6       0\n",
              "1     Je sens qu'entre ça et les films de médecins e...         8       0\n",
              "2     Je sens qu'entre ça et les films de médecins e...        10       0\n",
              "3     Je sens qu'entre ça et les films de médecins e...        22       0\n",
              "4     On pourra toujours parler à propos d'Averroès ...         5       0\n",
              "...                                                 ...       ...     ...\n",
              "1310  Une réunion du conseil national du syndicat de...        19       0\n",
              "1311  Une réunion du conseil national du syndicat de...        21       0\n",
              "1312  Une réunion du conseil national du syndicat de...        27       1\n",
              "1313  Anne-Sophie Mathis, née le 13 juin 1977 à Nanc...         5       0\n",
              "1314  Anne-Sophie Mathis, née le 13 juin 1977 à Nanc...        11       1\n",
              "\n",
              "[1315 rows x 3 columns]"
            ],
            "text/html": [
              "\n",
              "  <div id=\"df-dadc4147-7a18-4c94-a944-d45d7828478a\">\n",
              "    <div class=\"colab-df-container\">\n",
              "      <div>\n",
              "<style scoped>\n",
              "    .dataframe tbody tr th:only-of-type {\n",
              "        vertical-align: middle;\n",
              "    }\n",
              "\n",
              "    .dataframe tbody tr th {\n",
              "        vertical-align: top;\n",
              "    }\n",
              "\n",
              "    .dataframe thead th {\n",
              "        text-align: right;\n",
              "    }\n",
              "</style>\n",
              "<table border=\"1\" class=\"dataframe\">\n",
              "  <thead>\n",
              "    <tr style=\"text-align: right;\">\n",
              "      <th></th>\n",
              "      <th>text</th>\n",
              "      <th>word_ind</th>\n",
              "      <th>target</th>\n",
              "    </tr>\n",
              "  </thead>\n",
              "  <tbody>\n",
              "    <tr>\n",
              "      <th>0</th>\n",
              "      <td>Je sens qu'entre ça et les films de médecins e...</td>\n",
              "      <td>6</td>\n",
              "      <td>0</td>\n",
              "    </tr>\n",
              "    <tr>\n",
              "      <th>1</th>\n",
              "      <td>Je sens qu'entre ça et les films de médecins e...</td>\n",
              "      <td>8</td>\n",
              "      <td>0</td>\n",
              "    </tr>\n",
              "    <tr>\n",
              "      <th>2</th>\n",
              "      <td>Je sens qu'entre ça et les films de médecins e...</td>\n",
              "      <td>10</td>\n",
              "      <td>0</td>\n",
              "    </tr>\n",
              "    <tr>\n",
              "      <th>3</th>\n",
              "      <td>Je sens qu'entre ça et les films de médecins e...</td>\n",
              "      <td>22</td>\n",
              "      <td>0</td>\n",
              "    </tr>\n",
              "    <tr>\n",
              "      <th>4</th>\n",
              "      <td>On pourra toujours parler à propos d'Averroès ...</td>\n",
              "      <td>5</td>\n",
              "      <td>0</td>\n",
              "    </tr>\n",
              "    <tr>\n",
              "      <th>...</th>\n",
              "      <td>...</td>\n",
              "      <td>...</td>\n",
              "      <td>...</td>\n",
              "    </tr>\n",
              "    <tr>\n",
              "      <th>1310</th>\n",
              "      <td>Une réunion du conseil national du syndicat de...</td>\n",
              "      <td>19</td>\n",
              "      <td>0</td>\n",
              "    </tr>\n",
              "    <tr>\n",
              "      <th>1311</th>\n",
              "      <td>Une réunion du conseil national du syndicat de...</td>\n",
              "      <td>21</td>\n",
              "      <td>0</td>\n",
              "    </tr>\n",
              "    <tr>\n",
              "      <th>1312</th>\n",
              "      <td>Une réunion du conseil national du syndicat de...</td>\n",
              "      <td>27</td>\n",
              "      <td>1</td>\n",
              "    </tr>\n",
              "    <tr>\n",
              "      <th>1313</th>\n",
              "      <td>Anne-Sophie Mathis, née le 13 juin 1977 à Nanc...</td>\n",
              "      <td>5</td>\n",
              "      <td>0</td>\n",
              "    </tr>\n",
              "    <tr>\n",
              "      <th>1314</th>\n",
              "      <td>Anne-Sophie Mathis, née le 13 juin 1977 à Nanc...</td>\n",
              "      <td>11</td>\n",
              "      <td>1</td>\n",
              "    </tr>\n",
              "  </tbody>\n",
              "</table>\n",
              "<p>1315 rows × 3 columns</p>\n",
              "</div>\n",
              "      <button class=\"colab-df-convert\" onclick=\"convertToInteractive('df-dadc4147-7a18-4c94-a944-d45d7828478a')\"\n",
              "              title=\"Convert this dataframe to an interactive table.\"\n",
              "              style=\"display:none;\">\n",
              "        \n",
              "  <svg xmlns=\"http://www.w3.org/2000/svg\" height=\"24px\"viewBox=\"0 0 24 24\"\n",
              "       width=\"24px\">\n",
              "    <path d=\"M0 0h24v24H0V0z\" fill=\"none\"/>\n",
              "    <path d=\"M18.56 5.44l.94 2.06.94-2.06 2.06-.94-2.06-.94-.94-2.06-.94 2.06-2.06.94zm-11 1L8.5 8.5l.94-2.06 2.06-.94-2.06-.94L8.5 2.5l-.94 2.06-2.06.94zm10 10l.94 2.06.94-2.06 2.06-.94-2.06-.94-.94-2.06-.94 2.06-2.06.94z\"/><path d=\"M17.41 7.96l-1.37-1.37c-.4-.4-.92-.59-1.43-.59-.52 0-1.04.2-1.43.59L10.3 9.45l-7.72 7.72c-.78.78-.78 2.05 0 2.83L4 21.41c.39.39.9.59 1.41.59.51 0 1.02-.2 1.41-.59l7.78-7.78 2.81-2.81c.8-.78.8-2.07 0-2.86zM5.41 20L4 18.59l7.72-7.72 1.47 1.35L5.41 20z\"/>\n",
              "  </svg>\n",
              "      </button>\n",
              "      \n",
              "  <style>\n",
              "    .colab-df-container {\n",
              "      display:flex;\n",
              "      flex-wrap:wrap;\n",
              "      gap: 12px;\n",
              "    }\n",
              "\n",
              "    .colab-df-convert {\n",
              "      background-color: #E8F0FE;\n",
              "      border: none;\n",
              "      border-radius: 50%;\n",
              "      cursor: pointer;\n",
              "      display: none;\n",
              "      fill: #1967D2;\n",
              "      height: 32px;\n",
              "      padding: 0 0 0 0;\n",
              "      width: 32px;\n",
              "    }\n",
              "\n",
              "    .colab-df-convert:hover {\n",
              "      background-color: #E2EBFA;\n",
              "      box-shadow: 0px 1px 2px rgba(60, 64, 67, 0.3), 0px 1px 3px 1px rgba(60, 64, 67, 0.15);\n",
              "      fill: #174EA6;\n",
              "    }\n",
              "\n",
              "    [theme=dark] .colab-df-convert {\n",
              "      background-color: #3B4455;\n",
              "      fill: #D2E3FC;\n",
              "    }\n",
              "\n",
              "    [theme=dark] .colab-df-convert:hover {\n",
              "      background-color: #434B5C;\n",
              "      box-shadow: 0px 1px 3px 1px rgba(0, 0, 0, 0.15);\n",
              "      filter: drop-shadow(0px 1px 2px rgba(0, 0, 0, 0.3));\n",
              "      fill: #FFFFFF;\n",
              "    }\n",
              "  </style>\n",
              "\n",
              "      <script>\n",
              "        const buttonEl =\n",
              "          document.querySelector('#df-dadc4147-7a18-4c94-a944-d45d7828478a button.colab-df-convert');\n",
              "        buttonEl.style.display =\n",
              "          google.colab.kernel.accessAllowed ? 'block' : 'none';\n",
              "\n",
              "        async function convertToInteractive(key) {\n",
              "          const element = document.querySelector('#df-dadc4147-7a18-4c94-a944-d45d7828478a');\n",
              "          const dataTable =\n",
              "            await google.colab.kernel.invokeFunction('convertToInteractive',\n",
              "                                                     [key], {});\n",
              "          if (!dataTable) return;\n",
              "\n",
              "          const docLinkHtml = 'Like what you see? Visit the ' +\n",
              "            '<a target=\"_blank\" href=https://colab.research.google.com/notebooks/data_table.ipynb>data table notebook</a>'\n",
              "            + ' to learn more about interactive tables.';\n",
              "          element.innerHTML = '';\n",
              "          dataTable['output_type'] = 'display_data';\n",
              "          await google.colab.output.renderOutput(dataTable, element);\n",
              "          const docLink = document.createElement('div');\n",
              "          docLink.innerHTML = docLinkHtml;\n",
              "          element.appendChild(docLink);\n",
              "        }\n",
              "      </script>\n",
              "    </div>\n",
              "  </div>\n",
              "  "
            ]
          },
          "metadata": {},
          "execution_count": 19
        }
      ]
    },
    {
      "cell_type": "code",
      "source": [
        "len(french_gender[\"text\"].unique()), french_gender[\"target\"].mean()"
      ],
      "metadata": {
        "colab": {
          "base_uri": "https://localhost:8080/"
        },
        "id": "rXgpN8C9kP7m",
        "outputId": "a26920ca-e01f-42ea-9602-92610acf3532"
      },
      "execution_count": null,
      "outputs": [
        {
          "output_type": "execute_result",
          "data": {
            "text/plain": [
              "(377, 0.40760456273764256)"
            ]
          },
          "metadata": {},
          "execution_count": 21
        }
      ]
    },
    {
      "cell_type": "markdown",
      "source": [
        "### Learning the probing classifier"
      ],
      "metadata": {
        "id": "WmIBM_GPKMHH"
      }
    },
    {
      "cell_type": "code",
      "source": [
        "import matplotlib.pyplot as plt\n",
        "import numpy as np\n",
        "from sklearn.linear_model import LogisticRegression\n",
        "from sklearn.metrics import f1_score, accuracy_score\n",
        "from time import time\n",
        "\n",
        "\n",
        "# stacked_train_X = np.stack(train_X)\n",
        "# stacked_val_X = np.stack(val_X)\n",
        "# stacked_test_X = np.stack(test_X)\n",
        "\n",
        "\n",
        "def logreg(X_train, y_train, X_test, y_test):\n",
        "    le = LogisticRegression(tol=0.01, max_iter=1000)\n",
        "    le = le.fit(X_train, y_train)\n",
        "    y_pred = le.predict(X_test)\n",
        "    return f1_score(y_test, y_pred), accuracy_score(y_test, y_pred)\n",
        "\n",
        "\n",
        "def train(\n",
        "    layer,\n",
        "    classifier_func,\n",
        "    stacked_train_X,\n",
        "    train_y,\n",
        "    stacked_test_X,\n",
        "    test_y\n",
        "):\n",
        "    \"\"\"Обучает пробинг-классификатор (функция classifier_func) для слоя layer\"\"\"\n",
        "    X = stacked_train_X[:, layer, :]\n",
        "    y = train_y.to_numpy()\n",
        "    f1, acc = classifier_func(X, y, stacked_test_X[:, layer, :], test_y.to_numpy())\n",
        "    return f1, acc"
      ],
      "metadata": {
        "id": "88mj-0bZFd3h"
      },
      "execution_count": null,
      "outputs": []
    },
    {
      "cell_type": "markdown",
      "source": [
        "## Эксперименты"
      ],
      "metadata": {
        "id": "4-lQtfPZfT2h"
      }
    },
    {
      "cell_type": "code",
      "source": [
        "all_embs = []\n",
        "for row in french_gender.index:\n",
        "    embs = np.array(get_word_embs(french_gender.loc[row, \"text\"])[french_gender.loc[row, \"word_ind\"]][0].cpu())\n",
        "    all_embs.append(embs)\n"
      ],
      "metadata": {
        "id": "0VzjDaNSnl_j"
      },
      "execution_count": null,
      "outputs": []
    },
    {
      "cell_type": "code",
      "source": [
        "X = np.stack(all_embs)\n",
        "X.shape"
      ],
      "metadata": {
        "colab": {
          "base_uri": "https://localhost:8080/"
        },
        "id": "KK56CS6KqhaW",
        "outputId": "3319dcaf-23a4-4f48-94b0-636a7b33aec3"
      },
      "execution_count": null,
      "outputs": [
        {
          "output_type": "execute_result",
          "data": {
            "text/plain": [
              "(1315, 768)"
            ]
          },
          "metadata": {},
          "execution_count": 55
        }
      ]
    },
    {
      "cell_type": "code",
      "source": [
        "from sklearn.model_selection import train_test_split"
      ],
      "metadata": {
        "id": "iRrqcsR5qAJ1"
      },
      "execution_count": null,
      "outputs": []
    },
    {
      "cell_type": "code",
      "source": [
        "blahblah = np.array(french_gender[\"target\"])\n",
        "np.random.shuffle(blahblah)"
      ],
      "metadata": {
        "id": "HPesaQD7wsqV"
      },
      "execution_count": null,
      "outputs": []
    },
    {
      "cell_type": "code",
      "source": [
        "X_tr, X_te, y_tr, y_te = train_test_split(X, blahblah, train_size=0.7)\n",
        "logreg(X_tr, y_tr, X_te, y_te)"
      ],
      "metadata": {
        "colab": {
          "base_uri": "https://localhost:8080/"
        },
        "id": "2R8OA-1Lpd8F",
        "outputId": "9de4584f-0357-4bad-cb3a-2a318b7a49d4"
      },
      "execution_count": null,
      "outputs": [
        {
          "output_type": "execute_result",
          "data": {
            "text/plain": [
              "(0.4050632911392405, 0.5240506329113924)"
            ]
          },
          "metadata": {},
          "execution_count": 66
        }
      ]
    },
    {
      "cell_type": "code",
      "source": [
        "def experiment(classifier_func, model, tokenizer, device, dataset):\n",
        "    print(\"Getting embeddings...\")\n",
        "    t1 = time()\n",
        "    "
      ],
      "metadata": {
        "id": "bC-16gs26K48"
      },
      "execution_count": null,
      "outputs": []
    },
    {
      "cell_type": "code",
      "source": [
        "experiment(1, model, tokenizer, DEVICE, french_gender)"
      ],
      "metadata": {
        "colab": {
          "base_uri": "https://localhost:8080/",
          "height": 1000
        },
        "id": "a1x42QzcJ8A6",
        "outputId": "70819b57-1edb-44f6-d827-df7c279966e7"
      },
      "execution_count": null,
      "outputs": [
        {
          "output_type": "stream",
          "name": "stdout",
          "text": [
            "Getting embeddings...\n",
            "0\n",
            "Je sens qu'entre ça et les films de médecins et scientifiques fous que nous avons déjà vus, nous pourrions emprunter un autre chemin pour l'origine. 6 torch.Size([25, 12, 768])\n",
            "1\n",
            "Et pourtant, lors de sa première visite en Afrique subsaharienne, l'été 2007, il montre les dents dans un discours humiliant pour les Africains, prononcé à l'Université Cheikh Anta Diop de Dakar. 7 torch.Size([31, 12, 768])\n",
            "2\n",
            "Ils ne citent pas son nom, parce que depuis les institutions on n'attaque pas un membre de la famille royale, mais c'est à lui qu'ils s'en prennent. 5 torch.Size([27, 12, 768])\n",
            "3\n",
            "Il y en a qui croient toujours qu'ils peuvent jouir de la vie en toute tranquillité de conscience et commettre telle ou telle indélicatesse, telle ou telle grossièreté, en toute sécurité, parce que leur coeur serait comme les montres : 100% Waterproof. 12 torch.Size([42, 12, 768])\n",
            "4\n",
            "Royale donc, cette voie de communication est aussi vouée à être préservée, développée et modernisée. 4 torch.Size([15, 12, 768])\n",
            "5\n",
            "Belle, grande, claire, séduisante à souhait, elle est pourtant déjà à la retraite. 8 torch.Size([13, 12, 768])\n",
            "6\n",
            "Trois ans plus tard, il tient un discours sur la crise. 1 torch.Size([11, 12, 768])\n",
            "7\n",
            "Le 20 juin, le Secrétaire général de l'Elysée Claude Guéant a été reçu à Alger par le président Bouteflika et le Premier ministre Ahmed Ouyahia. 2 torch.Size([25, 12, 768])\n",
            "8\n",
            "Ce qui transparaît dans tous ces textes est l'espoir et les rêves d'un peuple et de ses enfants. 6 torch.Size([18, 12, 768])\n",
            "9\n",
            "En ce sens, la mort de Mouammar el-Kadhafi ouvre une période d'irakisation ou de somalisation de la Libye. 2 torch.Size([18, 12, 768])\n",
            "10\n",
            "promulgation de loi « anti-hérétiques ». 0 torch.Size([6, 12, 768])\n",
            "11\n",
            "Ne pas rester seul ou en couple dans une zone isolée. 6 torch.Size([11, 12, 768])\n",
            "12\n",
            "Autant dire dans un désert médiatique pour la mort d'un poète. 4 torch.Size([11, 12, 768])\n",
            "13\n",
            "Les lendemains de lynchage sont pleins d'incertitudes. 1 torch.Size([7, 12, 768])\n",
            "14\n",
            "Pour cela, ils affirment que le premier mandat de Wade ne rentre pas sous le nouveau texte constitutionnel et, pour autant, ne compte pas dans l'application de la nouvelle loi. 8 torch.Size([30, 12, 768])\n",
            "15\n",
            "Il y a un an naissait Gdem Izik. 4 torch.Size([8, 12, 768])\n",
            "16\n",
            "iii) La taxe foncière ; 3 torch.Size([5, 12, 768])\n",
            "17\n",
            "Il est 20h45 en territoire algérien. 3 torch.Size([6, 12, 768])\n",
            "18\n",
            "Car le gouvernement marocain regrette le temps béni où la manne financière apportée par les touristes algériens qui affluaient par centaines de milliers faisait vivre toute cette région et bien au-delà. 2 torch.Size([31, 12, 768])\n",
            "19\n",
            "Le royaume s'est amélioré, mais pas dans le sens voulu par l'UE. 1 torch.Size([12, 12, 768])\n",
            "20\n",
            "Même si la DGSE (Direction générale de la sécurité extérieure), est en quête de « bons intermédiaires » pour « négocier ». 9 torch.Size([22, 12, 768])\n",
            "21\n",
            "Son destin est-il la Poussière ? 1 torch.Size([6, 12, 768])\n",
            "22\n",
            "C'est un sourire de Dieu. 2 torch.Size([5, 12, 768])\n",
            "23\n",
            "Comme dans toutes les campagnes présidentielles, celui qui imprimera sa marque, fixera l'agenda, sera le probable vainqueur en mai. 4 torch.Size([19, 12, 768])\n",
            "24\n",
            "Combien de fois ne célébrons-nous que nous-mêmes, et ne prenons-nous même pas conscience de sa présence ? 2 torch.Size([17, 12, 768])\n",
            "25\n",
            "Tout cela est présent dans sa passion. 6 torch.Size([7, 12, 768])\n",
            "26\n",
            "La justice française n'a fait qu'obéir et se déjuger. 1 torch.Size([9, 12, 768])\n",
            "27\n",
            "Personne ne place aucune forme d'espérance dans la raison politique... 4 torch.Size([10, 12, 768])\n",
            "28\n",
            "Mais la réalité est que la Mauritanie n'est pas le Maroc ou l'Algérie. 2 torch.Size([13, 12, 768])\n",
            "29\n",
            "En Arabie, on a l'impression que le fondamentalisme a toujours été là, qu'il se maintient et n'aura aucun mal à perdurer. 6 torch.Size([21, 12, 768])\n",
            "30\n",
            "Y a-t-il un risque de voir les choses tourner mal en Syrie ? 4 torch.Size([13, 12, 768])\n",
            "31\n",
            "Arrêtez la lecture, si cela vous suffit pour aujourd'hui. 2 torch.Size([9, 12, 768])\n",
            "32\n",
            "Il se passe de commentaires : « Je comprends très bien votre préoccupation par rapport à ma participation à la rencontre d'Assise. 4 torch.Size([22, 12, 768])\n",
            "33\n",
            "Dans les sixties, ce n'était pas comme aujourd'hui. 2 torch.Size([8, 12, 768])\n",
            "34\n",
            "A chaque fois qu'il sent la pression, le Makhzen appelle quelqu'un à son secours. 2 torch.Size([14, 12, 768])\n",
            "35\n",
            "Les observateurs espagnols, Carlos Sanchez et Mar Figueras, ont été arrêtés. 1 torch.Size([11, 12, 768])\n",
            "36\n",
            "Qui a donné l'exemple ? 4 torch.Size([5, 12, 768])\n",
            "37\n",
            "N'étant pas préparés pour recevoir plus de dix quinze mille personnes, les autorités, qui font tout ce qu'elles peuvent pour nourrir ce flux ininterrompu, craignent que la situation ne dégénère si l'aide internationale ne pointe pas plus vite le bout de son nez. 10 torch.Size([43, 12, 768])\n",
            "38\n",
            "Ces sympathisants de différentes nationalités (Italiens, Espagnols, Britanniques, Allemands, Argentins, Norvégiens, Cubains, Sud-Africains, Vénézuéliens, etc.) 1 torch.Size([15, 12, 768])\n",
            "39\n",
            "C'est à Dakhla, où ceux qui font office de « colons » se sont permis de les traiter en tant qu'« indigènes », en les agressant à propos d'un match de football maroco-sahraoui, que des affrontements ont eu lieu. 8 torch.Size([39, 12, 768])\n",
            "40\n",
            "Attention : même la conversion n'est pas un changement total, encore moins un reniement de ce que nous avons été. 0 torch.Size([20, 12, 768])\n",
            "41\n",
            "Vous m'accusez de \"subjectivisme\". 4 torch.Size([4, 12, 768])\n"
          ]
        },
        {
          "output_type": "error",
          "ename": "IndexError",
          "evalue": "ignored",
          "traceback": [
            "\u001b[0;31m---------------------------------------------------------------------------\u001b[0m",
            "\u001b[0;31mIndexError\u001b[0m                                Traceback (most recent call last)",
            "\u001b[0;32m<ipython-input-175-e6345bef91fc>\u001b[0m in \u001b[0;36m<module>\u001b[0;34m\u001b[0m\n\u001b[0;32m----> 1\u001b[0;31m \u001b[0mexperiment\u001b[0m\u001b[0;34m(\u001b[0m\u001b[0;36m1\u001b[0m\u001b[0;34m,\u001b[0m \u001b[0mmodel\u001b[0m\u001b[0;34m,\u001b[0m \u001b[0mtokenizer\u001b[0m\u001b[0;34m,\u001b[0m \u001b[0mDEVICE\u001b[0m\u001b[0;34m,\u001b[0m \u001b[0mfrench_gender\u001b[0m\u001b[0;34m)\u001b[0m\u001b[0;34m\u001b[0m\u001b[0;34m\u001b[0m\u001b[0m\n\u001b[0m",
            "\u001b[0;32m<ipython-input-174-f46d6a5eb46d>\u001b[0m in \u001b[0;36mexperiment\u001b[0;34m(classifier_func, model, tokenizer, device, dataset)\u001b[0m\n\u001b[1;32m     11\u001b[0m     \u001b[0mprint\u001b[0m\u001b[0;34m(\u001b[0m\u001b[0;34m\"Getting embeddings...\"\u001b[0m\u001b[0;34m)\u001b[0m\u001b[0;34m\u001b[0m\u001b[0;34m\u001b[0m\u001b[0m\n\u001b[1;32m     12\u001b[0m     \u001b[0mt1\u001b[0m \u001b[0;34m=\u001b[0m \u001b[0mtime\u001b[0m\u001b[0;34m(\u001b[0m\u001b[0;34m)\u001b[0m\u001b[0;34m\u001b[0m\u001b[0;34m\u001b[0m\u001b[0m\n\u001b[0;32m---> 13\u001b[0;31m     \u001b[0mdataset_X\u001b[0m \u001b[0;34m=\u001b[0m \u001b[0mdataset\u001b[0m\u001b[0;34m.\u001b[0m\u001b[0mapply\u001b[0m\u001b[0;34m(\u001b[0m\u001b[0m__\u001b[0m\u001b[0;34m,\u001b[0m \u001b[0maxis\u001b[0m \u001b[0;34m=\u001b[0m \u001b[0;36m1\u001b[0m\u001b[0;34m)\u001b[0m\u001b[0;34m\u001b[0m\u001b[0;34m\u001b[0m\u001b[0m\n\u001b[0m\u001b[1;32m     14\u001b[0m     \u001b[0;32mreturn\u001b[0m \u001b[0mdataset_X\u001b[0m\u001b[0;34m\u001b[0m\u001b[0;34m\u001b[0m\u001b[0m\n",
            "\u001b[0;32m/usr/local/lib/python3.8/dist-packages/pandas/core/frame.py\u001b[0m in \u001b[0;36mapply\u001b[0;34m(self, func, axis, raw, result_type, args, **kwargs)\u001b[0m\n\u001b[1;32m   8738\u001b[0m             \u001b[0mkwargs\u001b[0m\u001b[0;34m=\u001b[0m\u001b[0mkwargs\u001b[0m\u001b[0;34m,\u001b[0m\u001b[0;34m\u001b[0m\u001b[0;34m\u001b[0m\u001b[0m\n\u001b[1;32m   8739\u001b[0m         )\n\u001b[0;32m-> 8740\u001b[0;31m         \u001b[0;32mreturn\u001b[0m \u001b[0mop\u001b[0m\u001b[0;34m.\u001b[0m\u001b[0mapply\u001b[0m\u001b[0;34m(\u001b[0m\u001b[0;34m)\u001b[0m\u001b[0;34m\u001b[0m\u001b[0;34m\u001b[0m\u001b[0m\n\u001b[0m\u001b[1;32m   8741\u001b[0m \u001b[0;34m\u001b[0m\u001b[0m\n\u001b[1;32m   8742\u001b[0m     def applymap(\n",
            "\u001b[0;32m/usr/local/lib/python3.8/dist-packages/pandas/core/apply.py\u001b[0m in \u001b[0;36mapply\u001b[0;34m(self)\u001b[0m\n\u001b[1;32m    686\u001b[0m             \u001b[0;32mreturn\u001b[0m \u001b[0mself\u001b[0m\u001b[0;34m.\u001b[0m\u001b[0mapply_raw\u001b[0m\u001b[0;34m(\u001b[0m\u001b[0;34m)\u001b[0m\u001b[0;34m\u001b[0m\u001b[0;34m\u001b[0m\u001b[0m\n\u001b[1;32m    687\u001b[0m \u001b[0;34m\u001b[0m\u001b[0m\n\u001b[0;32m--> 688\u001b[0;31m         \u001b[0;32mreturn\u001b[0m \u001b[0mself\u001b[0m\u001b[0;34m.\u001b[0m\u001b[0mapply_standard\u001b[0m\u001b[0;34m(\u001b[0m\u001b[0;34m)\u001b[0m\u001b[0;34m\u001b[0m\u001b[0;34m\u001b[0m\u001b[0m\n\u001b[0m\u001b[1;32m    689\u001b[0m \u001b[0;34m\u001b[0m\u001b[0m\n\u001b[1;32m    690\u001b[0m     \u001b[0;32mdef\u001b[0m \u001b[0magg\u001b[0m\u001b[0;34m(\u001b[0m\u001b[0mself\u001b[0m\u001b[0;34m)\u001b[0m\u001b[0;34m:\u001b[0m\u001b[0;34m\u001b[0m\u001b[0;34m\u001b[0m\u001b[0m\n",
            "\u001b[0;32m/usr/local/lib/python3.8/dist-packages/pandas/core/apply.py\u001b[0m in \u001b[0;36mapply_standard\u001b[0;34m(self)\u001b[0m\n\u001b[1;32m    810\u001b[0m \u001b[0;34m\u001b[0m\u001b[0m\n\u001b[1;32m    811\u001b[0m     \u001b[0;32mdef\u001b[0m \u001b[0mapply_standard\u001b[0m\u001b[0;34m(\u001b[0m\u001b[0mself\u001b[0m\u001b[0;34m)\u001b[0m\u001b[0;34m:\u001b[0m\u001b[0;34m\u001b[0m\u001b[0;34m\u001b[0m\u001b[0m\n\u001b[0;32m--> 812\u001b[0;31m         \u001b[0mresults\u001b[0m\u001b[0;34m,\u001b[0m \u001b[0mres_index\u001b[0m \u001b[0;34m=\u001b[0m \u001b[0mself\u001b[0m\u001b[0;34m.\u001b[0m\u001b[0mapply_series_generator\u001b[0m\u001b[0;34m(\u001b[0m\u001b[0;34m)\u001b[0m\u001b[0;34m\u001b[0m\u001b[0;34m\u001b[0m\u001b[0m\n\u001b[0m\u001b[1;32m    813\u001b[0m \u001b[0;34m\u001b[0m\u001b[0m\n\u001b[1;32m    814\u001b[0m         \u001b[0;31m# wrap results\u001b[0m\u001b[0;34m\u001b[0m\u001b[0;34m\u001b[0m\u001b[0;34m\u001b[0m\u001b[0m\n",
            "\u001b[0;32m/usr/local/lib/python3.8/dist-packages/pandas/core/apply.py\u001b[0m in \u001b[0;36mapply_series_generator\u001b[0;34m(self)\u001b[0m\n\u001b[1;32m    826\u001b[0m             \u001b[0;32mfor\u001b[0m \u001b[0mi\u001b[0m\u001b[0;34m,\u001b[0m \u001b[0mv\u001b[0m \u001b[0;32min\u001b[0m \u001b[0menumerate\u001b[0m\u001b[0;34m(\u001b[0m\u001b[0mseries_gen\u001b[0m\u001b[0;34m)\u001b[0m\u001b[0;34m:\u001b[0m\u001b[0;34m\u001b[0m\u001b[0;34m\u001b[0m\u001b[0m\n\u001b[1;32m    827\u001b[0m                 \u001b[0;31m# ignore SettingWithCopy here in case the user mutates\u001b[0m\u001b[0;34m\u001b[0m\u001b[0;34m\u001b[0m\u001b[0;34m\u001b[0m\u001b[0m\n\u001b[0;32m--> 828\u001b[0;31m                 \u001b[0mresults\u001b[0m\u001b[0;34m[\u001b[0m\u001b[0mi\u001b[0m\u001b[0;34m]\u001b[0m \u001b[0;34m=\u001b[0m \u001b[0mself\u001b[0m\u001b[0;34m.\u001b[0m\u001b[0mf\u001b[0m\u001b[0;34m(\u001b[0m\u001b[0mv\u001b[0m\u001b[0;34m)\u001b[0m\u001b[0;34m\u001b[0m\u001b[0;34m\u001b[0m\u001b[0m\n\u001b[0m\u001b[1;32m    829\u001b[0m                 \u001b[0;32mif\u001b[0m \u001b[0misinstance\u001b[0m\u001b[0;34m(\u001b[0m\u001b[0mresults\u001b[0m\u001b[0;34m[\u001b[0m\u001b[0mi\u001b[0m\u001b[0;34m]\u001b[0m\u001b[0;34m,\u001b[0m \u001b[0mABCSeries\u001b[0m\u001b[0;34m)\u001b[0m\u001b[0;34m:\u001b[0m\u001b[0;34m\u001b[0m\u001b[0;34m\u001b[0m\u001b[0m\n\u001b[1;32m    830\u001b[0m                     \u001b[0;31m# If we have a view on v, we need to make a copy because\u001b[0m\u001b[0;34m\u001b[0m\u001b[0;34m\u001b[0m\u001b[0;34m\u001b[0m\u001b[0m\n",
            "\u001b[0;32m<ipython-input-174-f46d6a5eb46d>\u001b[0m in \u001b[0;36m__\u001b[0;34m(x)\u001b[0m\n\u001b[1;32m      6\u001b[0m     \u001b[0;31m# print(get_word_embs(x[\"text\"])[x[\"word_ind\"]])\u001b[0m\u001b[0;34m\u001b[0m\u001b[0;34m\u001b[0m\u001b[0;34m\u001b[0m\u001b[0m\n\u001b[1;32m      7\u001b[0m     \u001b[0mprint\u001b[0m\u001b[0;34m(\u001b[0m\u001b[0mx\u001b[0m\u001b[0;34m[\u001b[0m\u001b[0;34m\"text\"\u001b[0m\u001b[0;34m]\u001b[0m\u001b[0;34m,\u001b[0m \u001b[0mx\u001b[0m\u001b[0;34m[\u001b[0m\u001b[0;34m\"word_ind\"\u001b[0m\u001b[0;34m]\u001b[0m\u001b[0;34m,\u001b[0m \u001b[0mget_word_embs\u001b[0m\u001b[0;34m(\u001b[0m\u001b[0mx\u001b[0m\u001b[0;34m[\u001b[0m\u001b[0;34m\"text\"\u001b[0m\u001b[0;34m]\u001b[0m\u001b[0;34m)\u001b[0m\u001b[0;34m.\u001b[0m\u001b[0msize\u001b[0m\u001b[0;34m(\u001b[0m\u001b[0;34m)\u001b[0m\u001b[0;34m)\u001b[0m\u001b[0;34m\u001b[0m\u001b[0;34m\u001b[0m\u001b[0m\n\u001b[0;32m----> 8\u001b[0;31m     \u001b[0;32mreturn\u001b[0m \u001b[0mget_word_embs\u001b[0m\u001b[0;34m(\u001b[0m\u001b[0mx\u001b[0m\u001b[0;34m[\u001b[0m\u001b[0;34m\"text\"\u001b[0m\u001b[0;34m]\u001b[0m\u001b[0;34m)\u001b[0m\u001b[0;34m[\u001b[0m\u001b[0mx\u001b[0m\u001b[0;34m[\u001b[0m\u001b[0;34m\"word_ind\"\u001b[0m\u001b[0;34m]\u001b[0m\u001b[0;34m]\u001b[0m\u001b[0;34m\u001b[0m\u001b[0;34m\u001b[0m\u001b[0m\n\u001b[0m\u001b[1;32m      9\u001b[0m \u001b[0;34m\u001b[0m\u001b[0m\n\u001b[1;32m     10\u001b[0m \u001b[0;32mdef\u001b[0m \u001b[0mexperiment\u001b[0m\u001b[0;34m(\u001b[0m\u001b[0mclassifier_func\u001b[0m\u001b[0;34m,\u001b[0m \u001b[0mmodel\u001b[0m\u001b[0;34m,\u001b[0m \u001b[0mtokenizer\u001b[0m\u001b[0;34m,\u001b[0m \u001b[0mdevice\u001b[0m\u001b[0;34m,\u001b[0m \u001b[0mdataset\u001b[0m\u001b[0;34m)\u001b[0m\u001b[0;34m:\u001b[0m\u001b[0;34m\u001b[0m\u001b[0;34m\u001b[0m\u001b[0m\n",
            "\u001b[0;31mIndexError\u001b[0m: index 4 is out of bounds for dimension 0 with size 4"
          ]
        }
      ]
    },
    {
      "cell_type": "code",
      "source": [
        "# Logistic regression experiment\n",
        "\n",
        "\n",
        "def experiment(\n",
        "    classifier_func,\n",
        "    model_name=None,\n",
        "    model=None,\n",
        "    tokenizer=None,\n",
        "    model_class=BertModel,\n",
        "    tokenizer_class=BertTokenizer,\n",
        "    dataset=None,\n",
        "    dataset_X=None,\n",
        "    dataset_y=None,\n",
        "    sentence_embeddings_func=get_sentence_embs,\n",
        "    layers_cnt=12\n",
        "):\n",
        "    \"\"\"Проводит один эксперимент с заданными параметрами\"\"\"\n",
        "    print('getting model...')\n",
        "    if model is None:\n",
        "        model, tokenizer = get_pretrained(model_name, model_class, tokenizer_class)\n",
        "    \n",
        "    print('getting embeddings...')\n",
        "    t1 = time()\n",
        "    if dataset_X is None:\n",
        "        dataset_X = dataset.text.apply(sentence_embeddings_func, model=model, tokenizer=tokenizer, device=DEVICE)\n",
        "        dataset_y = dataset.label\n",
        "    print(f\"Time spent on applying NN to data is {time() - t1}\")\n",
        "\n",
        "    print('splitting and stacking...')\n",
        "    train_X, train_y = get_subset('tr', dataset_X=dataset_X, dataset_y=dataset_y, subset_col=dataset.subset)\n",
        "    # val_X, val_y = get_subset('va', dataset_X=dataset_X, dataset_y=dataset_y, subset_col=dataset.subset)\n",
        "    test_X, test_y = get_subset('te', dataset_X=dataset_X, dataset_y=dataset_y, subset_col=dataset.subset)\n",
        "\n",
        "    stacked_train_X = np.stack(train_X)\n",
        "    # stacked_val_X = np.stack(val_X)\n",
        "    stacked_test_X = np.stack(test_X)\n",
        "\n",
        "    print('probing...')\n",
        "    layers = list(range(layers_cnt))\n",
        "    f1s = []\n",
        "    accs = []\n",
        "    exec_times = []\n",
        "    for layer in layers:\n",
        "        start_time = time()\n",
        "        f1, acc = train(layer, logreg, stacked_train_X, train_y, stacked_test_X, test_y)\n",
        "        exec_time = time() - start_time\n",
        "        print(f'layer {layer + 1}: f1 score {f1:.4f}, accuracy {acc:.4f}, time {exec_time:.4f}')\n",
        "        f1s.append(f1)\n",
        "        accs.append(acc)\n",
        "        exec_times.append(exec_time)\n",
        "    return f1s, accs, exec_times\n",
        "\n",
        "\n",
        "def show_exp(f1s, accs, layers_cnt=12):\n",
        "    \"\"\"Рисует графики скоров\"\"\"\n",
        "    fig = plt.figure()\n",
        "    layers = range(layers_cnt)\n",
        "    plt.plot(layers, f1s, label='f1')\n",
        "    plt.plot(layers, accs, label='accuracy')\n",
        "    plt.title('Logreg probing quality wrt BERT layer')\n",
        "    plt.xlabel('BERT layer')\n",
        "    plt.ylabel('Metric score')\n",
        "    plt.legend()\n",
        "    plt.show()"
      ],
      "metadata": {
        "id": "o93286s4KGaG"
      },
      "execution_count": null,
      "outputs": []
    },
    {
      "cell_type": "markdown",
      "source": [
        "#### logreg для bert-base-uncased"
      ],
      "metadata": {
        "id": "iAlEu4oKkIii"
      }
    },
    {
      "cell_type": "code",
      "source": [
        "f1s, accs, times = experiment(classifier_func=logreg, model_name='bert-base-uncased', dataset=dataset, sentence_embeddings_func=get_sentence_embs)"
      ],
      "metadata": {
        "colab": {
          "base_uri": "https://localhost:8080/"
        },
        "id": "9It9O2FvKGSa",
        "outputId": "2ea25f41-d9da-4e0b-e194-434e1a7e95a0"
      },
      "execution_count": null,
      "outputs": [
        {
          "output_type": "stream",
          "name": "stdout",
          "text": [
            "getting model...\n"
          ]
        },
        {
          "output_type": "stream",
          "name": "stderr",
          "text": [
            "Some weights of the model checkpoint at bert-base-uncased were not used when initializing BertModel: ['cls.predictions.transform.dense.bias', 'cls.predictions.transform.LayerNorm.bias', 'cls.seq_relationship.bias', 'cls.predictions.bias', 'cls.predictions.transform.LayerNorm.weight', 'cls.seq_relationship.weight', 'cls.predictions.decoder.weight', 'cls.predictions.transform.dense.weight']\n",
            "- This IS expected if you are initializing BertModel from the checkpoint of a model trained on another task or with another architecture (e.g. initializing a BertForSequenceClassification model from a BertForPreTraining model).\n",
            "- This IS NOT expected if you are initializing BertModel from the checkpoint of a model that you expect to be exactly identical (initializing a BertForSequenceClassification model from a BertForSequenceClassification model).\n"
          ]
        },
        {
          "output_type": "stream",
          "name": "stdout",
          "text": [
            "getting embeddings...\n",
            "Time spent on applying NN to data is 570.1355421543121\n",
            "splitting and stacking...\n",
            "probing...\n",
            "layer 1: f1 score 0.3671, accuracy 0.9513, time 25.4691\n",
            "layer 2: f1 score 0.3096, accuracy 0.9507, time 29.0840\n",
            "layer 3: f1 score 0.3088, accuracy 0.9489, time 31.7138\n",
            "layer 4: f1 score 0.3372, accuracy 0.9480, time 30.2688\n",
            "layer 5: f1 score 0.3458, accuracy 0.9493, time 36.2206\n",
            "layer 6: f1 score 0.3224, accuracy 0.9475, time 18.6234\n",
            "layer 7: f1 score 0.3246, accuracy 0.9488, time 36.4438\n",
            "layer 8: f1 score 0.3262, accuracy 0.9484, time 19.3078\n",
            "layer 9: f1 score 0.3310, accuracy 0.9473, time 27.7272\n",
            "layer 10: f1 score 0.3084, accuracy 0.9464, time 29.0826\n",
            "layer 11: f1 score 0.3255, accuracy 0.9482, time 30.7768\n",
            "layer 12: f1 score 0.3005, accuracy 0.9460, time 23.9124\n"
          ]
        }
      ]
    },
    {
      "cell_type": "code",
      "source": [
        "show_exp(f1s, accs)"
      ],
      "metadata": {
        "colab": {
          "base_uri": "https://localhost:8080/",
          "height": 295
        },
        "id": "cCCPxV6xKGIT",
        "outputId": "16b6ac1c-c155-4363-de97-4453dc004e82"
      },
      "execution_count": null,
      "outputs": [
        {
          "output_type": "display_data",
          "data": {
            "text/plain": [
              "<Figure size 432x288 with 1 Axes>"
            ],
            "image/png": "[encoded data removed]"
          },
          "metadata": {
            "needs_background": "light"
          }
        }
      ]
    },
    {
      "cell_type": "markdown",
      "source": [
        "Лучший F1 на первом слое ($0.3671$), затем --- на пятом ($0.3458$). После пятого есть нестабильное снижение до $0.3$. В целом скор низковат, м.б. нужно улучшать классификатор"
      ],
      "metadata": {
        "id": "6cKQga6lJ6eb"
      }
    },
    {
      "cell_type": "markdown",
      "source": [
        "#### logreg для distilbert"
      ],
      "metadata": {
        "id": "h8glHd8XtzbH"
      }
    },
    {
      "cell_type": "code",
      "source": [
        "f1s, accs = experiment(\n",
        "    classifier_func=logreg,\n",
        "    model_name='distilbert-base-uncased',\n",
        "    model_class=DistilBertModel,\n",
        "    tokenizer_class=DistilBertTokenizer,\n",
        "    dataset=dataset,\n",
        "    sentence_embeddings_func=get_sentence_embs\n",
        ")"
      ],
      "metadata": {
        "colab": {
          "base_uri": "https://localhost:8080/",
          "height": 635
        },
        "outputId": "a568aeab-b6fe-4b0e-8ebe-fba47740f217",
        "id": "6n0OCncT0l-0"
      },
      "execution_count": null,
      "outputs": [
        {
          "output_type": "stream",
          "name": "stdout",
          "text": [
            "getting model...\n"
          ]
        },
        {
          "output_type": "stream",
          "name": "stderr",
          "text": [
            "Some weights of the model checkpoint at distilbert-base-uncased were not used when initializing DistilBertModel: ['vocab_layer_norm.weight', 'vocab_projector.weight', 'vocab_layer_norm.bias', 'vocab_projector.bias', 'vocab_transform.weight', 'vocab_transform.bias']\n",
            "- This IS expected if you are initializing DistilBertModel from the checkpoint of a model trained on another task or with another architecture (e.g. initializing a BertForSequenceClassification model from a BertForPreTraining model).\n",
            "- This IS NOT expected if you are initializing DistilBertModel from the checkpoint of a model that you expect to be exactly identical (initializing a BertForSequenceClassification model from a BertForSequenceClassification model).\n"
          ]
        },
        {
          "output_type": "stream",
          "name": "stdout",
          "text": [
            "getting embeddings...\n",
            "splitting and stacking...\n",
            "probing...\n",
            "layer 1: f1 score 0.3546, accuracy 0.9506\n",
            "layer 2: f1 score 0.3108, accuracy 0.9502\n",
            "layer 3: f1 score 0.3066, accuracy 0.9484\n",
            "layer 4: f1 score 0.3435, accuracy 0.9495\n",
            "layer 5: f1 score 0.3246, accuracy 0.9488\n",
            "layer 6: f1 score 0.3107, accuracy 0.9486\n"
          ]
        },
        {
          "output_type": "error",
          "ename": "IndexError",
          "evalue": "ignored",
          "traceback": [
            "\u001b[0;31m---------------------------------------------------------------------------\u001b[0m",
            "\u001b[0;31mIndexError\u001b[0m                                Traceback (most recent call last)",
            "\u001b[0;32m<ipython-input-94-164f0ecd0660>\u001b[0m in \u001b[0;36m<module>\u001b[0;34m\u001b[0m\n\u001b[1;32m      5\u001b[0m     \u001b[0mtokenizer_class\u001b[0m\u001b[0;34m=\u001b[0m\u001b[0mDistilBertTokenizer\u001b[0m\u001b[0;34m,\u001b[0m\u001b[0;34m\u001b[0m\u001b[0;34m\u001b[0m\u001b[0m\n\u001b[1;32m      6\u001b[0m     \u001b[0mdataset\u001b[0m\u001b[0;34m=\u001b[0m\u001b[0mdataset\u001b[0m\u001b[0;34m,\u001b[0m\u001b[0;34m\u001b[0m\u001b[0;34m\u001b[0m\u001b[0m\n\u001b[0;32m----> 7\u001b[0;31m     \u001b[0msentence_embeddings_func\u001b[0m\u001b[0;34m=\u001b[0m\u001b[0mget_sentence_embs\u001b[0m\u001b[0;34m\u001b[0m\u001b[0;34m\u001b[0m\u001b[0m\n\u001b[0m\u001b[1;32m      8\u001b[0m )\n",
            "\u001b[0;32m<ipython-input-93-e2543cd3028c>\u001b[0m in \u001b[0;36mexperiment\u001b[0;34m(classifier_func, model_name, model, tokenizer, model_class, tokenizer_class, dataset, dataset_X, dataset_y, sentence_embeddings_func, layers_cnt)\u001b[0m\n\u001b[1;32m     38\u001b[0m     \u001b[0maccs\u001b[0m \u001b[0;34m=\u001b[0m \u001b[0;34m[\u001b[0m\u001b[0;34m]\u001b[0m\u001b[0;34m\u001b[0m\u001b[0;34m\u001b[0m\u001b[0m\n\u001b[1;32m     39\u001b[0m     \u001b[0;32mfor\u001b[0m \u001b[0mlayer\u001b[0m \u001b[0;32min\u001b[0m \u001b[0mlayers\u001b[0m\u001b[0;34m:\u001b[0m\u001b[0;34m\u001b[0m\u001b[0;34m\u001b[0m\u001b[0m\n\u001b[0;32m---> 40\u001b[0;31m         \u001b[0mf1\u001b[0m\u001b[0;34m,\u001b[0m \u001b[0macc\u001b[0m \u001b[0;34m=\u001b[0m \u001b[0mtrain\u001b[0m\u001b[0;34m(\u001b[0m\u001b[0mlayer\u001b[0m\u001b[0;34m,\u001b[0m \u001b[0mlogreg\u001b[0m\u001b[0;34m,\u001b[0m \u001b[0mstacked_train_X\u001b[0m\u001b[0;34m,\u001b[0m \u001b[0mtrain_y\u001b[0m\u001b[0;34m,\u001b[0m \u001b[0mstacked_test_X\u001b[0m\u001b[0;34m,\u001b[0m \u001b[0mtest_y\u001b[0m\u001b[0;34m)\u001b[0m\u001b[0;34m\u001b[0m\u001b[0;34m\u001b[0m\u001b[0m\n\u001b[0m\u001b[1;32m     41\u001b[0m         \u001b[0mf1s\u001b[0m\u001b[0;34m.\u001b[0m\u001b[0mappend\u001b[0m\u001b[0;34m(\u001b[0m\u001b[0mf1\u001b[0m\u001b[0;34m)\u001b[0m\u001b[0;34m\u001b[0m\u001b[0;34m\u001b[0m\u001b[0m\n\u001b[1;32m     42\u001b[0m         \u001b[0maccs\u001b[0m\u001b[0;34m.\u001b[0m\u001b[0mappend\u001b[0m\u001b[0;34m(\u001b[0m\u001b[0maccs\u001b[0m\u001b[0;34m)\u001b[0m\u001b[0;34m\u001b[0m\u001b[0;34m\u001b[0m\u001b[0m\n",
            "\u001b[0;32m<ipython-input-13-e504115523e6>\u001b[0m in \u001b[0;36mtrain\u001b[0;34m(layer, classifier_func, stacked_train_X, train_y, stacked_test_X, test_y)\u001b[0m\n\u001b[1;32m     26\u001b[0m ):\n\u001b[1;32m     27\u001b[0m     \u001b[0;34m\"\"\"Обучает пробинг-классификатор (функция classifier_func) для слоя layer\"\"\"\u001b[0m\u001b[0;34m\u001b[0m\u001b[0;34m\u001b[0m\u001b[0m\n\u001b[0;32m---> 28\u001b[0;31m     \u001b[0mX\u001b[0m \u001b[0;34m=\u001b[0m \u001b[0mstacked_train_X\u001b[0m\u001b[0;34m[\u001b[0m\u001b[0;34m:\u001b[0m\u001b[0;34m,\u001b[0m \u001b[0mlayer\u001b[0m\u001b[0;34m,\u001b[0m \u001b[0;34m:\u001b[0m\u001b[0;34m]\u001b[0m\u001b[0;34m\u001b[0m\u001b[0;34m\u001b[0m\u001b[0m\n\u001b[0m\u001b[1;32m     29\u001b[0m     \u001b[0my\u001b[0m \u001b[0;34m=\u001b[0m \u001b[0mtrain_y\u001b[0m\u001b[0;34m.\u001b[0m\u001b[0mto_numpy\u001b[0m\u001b[0;34m(\u001b[0m\u001b[0;34m)\u001b[0m\u001b[0;34m\u001b[0m\u001b[0;34m\u001b[0m\u001b[0m\n\u001b[1;32m     30\u001b[0m     \u001b[0mf1\u001b[0m\u001b[0;34m,\u001b[0m \u001b[0macc\u001b[0m \u001b[0;34m=\u001b[0m \u001b[0mclassifier_func\u001b[0m\u001b[0;34m(\u001b[0m\u001b[0mX\u001b[0m\u001b[0;34m,\u001b[0m \u001b[0my\u001b[0m\u001b[0;34m,\u001b[0m \u001b[0mstacked_test_X\u001b[0m\u001b[0;34m[\u001b[0m\u001b[0;34m:\u001b[0m\u001b[0;34m,\u001b[0m \u001b[0mlayer\u001b[0m\u001b[0;34m,\u001b[0m \u001b[0;34m:\u001b[0m\u001b[0;34m]\u001b[0m\u001b[0;34m,\u001b[0m \u001b[0mtest_y\u001b[0m\u001b[0;34m.\u001b[0m\u001b[0mto_numpy\u001b[0m\u001b[0;34m(\u001b[0m\u001b[0;34m)\u001b[0m\u001b[0;34m)\u001b[0m\u001b[0;34m\u001b[0m\u001b[0;34m\u001b[0m\u001b[0m\n",
            "\u001b[0;31mIndexError\u001b[0m: index 6 is out of bounds for axis 1 with size 6"
          ]
        }
      ]
    },
    {
      "cell_type": "code",
      "source": [
        "show_exp(f1s, accs, 6)"
      ],
      "metadata": {
        "id": "4TKQbYGrt_1Z",
        "colab": {
          "base_uri": "https://localhost:8080/",
          "height": 295
        },
        "outputId": "582fa442-e7e9-4ca1-88dc-da92279f3abd"
      },
      "execution_count": null,
      "outputs": [
        {
          "output_type": "display_data",
          "data": {
            "text/plain": [
              "<Figure size 432x288 with 1 Axes>"
            ],
            "image/png": "[encoded data removed]"
          },
          "metadata": {
            "needs_background": "light"
          }
        }
      ]
    },
    {
      "cell_type": "markdown",
      "source": [
        "Первый слой хуже, чем у bert. Четвёртый слой --- экстремум (похож на бертовский), после чего похожий спад."
      ],
      "metadata": {
        "id": "DZQbbo0IKjX2"
      }
    },
    {
      "cell_type": "markdown",
      "source": [
        "#### logreg на флотах до двух знаков"
      ],
      "metadata": {
        "id": "sUibeSUzl6HE"
      }
    },
    {
      "cell_type": "code",
      "source": [
        "def get_sentence_rounded_embs(sentence, model=model, tokenizer=tokenizer, device=DEVICE, precision=None):\n",
        "    \"\"\"\n",
        "    Возвращает эмбеддинги предложений по слоям, обрезает до precision знаков после точки.\n",
        "    Эмбеддинг предложения == усреднённые эмбеддинги токенов.\n",
        "    \"\"\"\n",
        "    if precision is None:\n",
        "      precision = 100\n",
        "    with torch.no_grad():\n",
        "        inputs = tokenizer(sentence, return_tensors='pt').to(device)\n",
        "        outputs = model(**inputs)\n",
        "        return [np.around(layer_emb.mean(axis=1).squeeze().cpu().numpy(), decimals=precision) for layer_emb in outputs.hidden_states][1:]\n",
        "\n",
        "get_sentence_rounded_embs('Hello darkness my old friend', precision=2)[1][:10]"
      ],
      "metadata": {
        "colab": {
          "base_uri": "https://localhost:8080/"
        },
        "id": "0N2nH24vcYr4",
        "outputId": "be44f241-18cb-4e34-8175-7f40c33d8835"
      },
      "execution_count": null,
      "outputs": [
        {
          "output_type": "execute_result",
          "data": {
            "text/plain": [
              "array([ 0.33,  0.43,  0.34, -0.32,  0.14, -0.04,  0.04, -0.11, -0.1 ,\n",
              "       -0.37], dtype=float32)"
            ]
          },
          "metadata": {},
          "execution_count": 13
        }
      ]
    },
    {
      "cell_type": "code",
      "source": [
        "def get_sentence_rounded_to_2_embs(sentence, **kwargs):\n",
        "    return get_sentence_rounded_embs(sentence, precision=2, **kwargs)\n",
        "\n",
        "get_sentence_rounded_to_2_embs('Hello darkness my old friend')[1][:10]"
      ],
      "metadata": {
        "colab": {
          "base_uri": "https://localhost:8080/"
        },
        "id": "1przLBa4q-T6",
        "outputId": "285c8257-b4ce-4d1b-a1d1-0585c19a35ce"
      },
      "execution_count": null,
      "outputs": [
        {
          "output_type": "execute_result",
          "data": {
            "text/plain": [
              "array([ 0.33,  0.43,  0.34, -0.32,  0.14, -0.04,  0.04, -0.11, -0.1 ,\n",
              "       -0.37], dtype=float32)"
            ]
          },
          "metadata": {},
          "execution_count": 14
        }
      ]
    },
    {
      "cell_type": "code",
      "source": [
        "# эксперимент с обрезанием до 2 знаков\n",
        "\n",
        "f1s, accs, times = experiment(classifier_func=logreg, model_name='bert-base-uncased', dataset=dataset, sentence_embeddings_func=get_sentence_rounded_to_2_embs)"
      ],
      "metadata": {
        "colab": {
          "base_uri": "https://localhost:8080/"
        },
        "id": "lZZXt13Zrqi8",
        "outputId": "1a71b8be-19e9-4cff-b351-04b10d442f4e"
      },
      "execution_count": null,
      "outputs": [
        {
          "output_type": "stream",
          "name": "stdout",
          "text": [
            "getting model...\n"
          ]
        },
        {
          "output_type": "stream",
          "name": "stderr",
          "text": [
            "Some weights of the model checkpoint at bert-base-uncased were not used when initializing BertModel: ['cls.seq_relationship.bias', 'cls.seq_relationship.weight', 'cls.predictions.transform.dense.bias', 'cls.predictions.transform.LayerNorm.bias', 'cls.predictions.bias', 'cls.predictions.transform.LayerNorm.weight', 'cls.predictions.transform.dense.weight', 'cls.predictions.decoder.weight']\n",
            "- This IS expected if you are initializing BertModel from the checkpoint of a model trained on another task or with another architecture (e.g. initializing a BertForSequenceClassification model from a BertForPreTraining model).\n",
            "- This IS NOT expected if you are initializing BertModel from the checkpoint of a model that you expect to be exactly identical (initializing a BertForSequenceClassification model from a BertForSequenceClassification model).\n"
          ]
        },
        {
          "output_type": "stream",
          "name": "stdout",
          "text": [
            "getting embeddings...\n",
            "splitting and stacking...\n",
            "probing...\n",
            "layer 1: f1 score 0.3571, accuracy 0.9511, time 36.7255\n",
            "layer 2: f1 score 0.3096, accuracy 0.9507, time 46.5185\n",
            "layer 3: f1 score 0.3122, accuracy 0.9489, time 37.9118\n",
            "layer 4: f1 score 0.3372, accuracy 0.9480, time 42.2503\n",
            "layer 5: f1 score 0.3570, accuracy 0.9491, time 37.0289\n",
            "layer 6: f1 score 0.3279, accuracy 0.9473, time 16.0161\n",
            "layer 7: f1 score 0.3278, accuracy 0.9488, time 33.8799\n",
            "layer 8: f1 score 0.3262, accuracy 0.9484, time 25.7327\n",
            "layer 9: f1 score 0.3310, accuracy 0.9473, time 26.9869\n",
            "layer 10: f1 score 0.3052, accuracy 0.9464, time 30.8449\n",
            "layer 11: f1 score 0.3255, accuracy 0.9482, time 28.0620\n",
            "layer 12: f1 score 0.2918, accuracy 0.9455, time 20.4978\n"
          ]
        }
      ]
    },
    {
      "cell_type": "markdown",
      "source": [
        "Первый слой чуть хуже берта, локальный оптимум даже чуть лучше (слой 5), последний слой меньше $0.3$."
      ],
      "metadata": {
        "id": "-do_7hwcK3_i"
      }
    },
    {
      "cell_type": "markdown",
      "source": [
        "#### logreg на флотах float16"
      ],
      "metadata": {
        "id": "xztTsCE-BnCX"
      }
    },
    {
      "cell_type": "code",
      "source": [
        "def get_sentence_float16(sentence, **kwargs):\n",
        "    return [vec.astype(np.float16) for vec in get_sentence_embs(sentence, **kwargs)]\n",
        "\n",
        "get_sentence_float16('Hello darkness my old friend')[1][:10]"
      ],
      "metadata": {
        "colab": {
          "base_uri": "https://localhost:8080/"
        },
        "id": "bFfVI9NG3P0p",
        "outputId": "cc153d08-e5dc-49b9-e402-750afafe5a40"
      },
      "execution_count": null,
      "outputs": [
        {
          "output_type": "execute_result",
          "data": {
            "text/plain": [
              "array([ 0.3298 ,  0.4316 ,  0.3357 , -0.319  ,  0.1411 , -0.0444 ,\n",
              "        0.03528, -0.1063 , -0.0996 , -0.3687 ], dtype=float16)"
            ]
          },
          "metadata": {},
          "execution_count": 43
        }
      ]
    },
    {
      "cell_type": "code",
      "source": [
        "f1s, accs, times = experiment(\n",
        "    classifier_func=logreg, model_name='bert-base-uncased', dataset=dataset, sentence_embeddings_func=get_sentence_float16\n",
        ")"
      ],
      "metadata": {
        "colab": {
          "base_uri": "https://localhost:8080/"
        },
        "id": "fhHP2q4z4GVC",
        "outputId": "5e58a783-7f29-49eb-ba3f-0416f7000dcc"
      },
      "execution_count": null,
      "outputs": [
        {
          "output_type": "stream",
          "name": "stdout",
          "text": [
            "getting model...\n"
          ]
        },
        {
          "output_type": "stream",
          "name": "stderr",
          "text": [
            "Some weights of the model checkpoint at bert-base-uncased were not used when initializing BertModel: ['cls.seq_relationship.bias', 'cls.seq_relationship.weight', 'cls.predictions.transform.dense.bias', 'cls.predictions.transform.LayerNorm.bias', 'cls.predictions.bias', 'cls.predictions.transform.LayerNorm.weight', 'cls.predictions.transform.dense.weight', 'cls.predictions.decoder.weight']\n",
            "- This IS expected if you are initializing BertModel from the checkpoint of a model trained on another task or with another architecture (e.g. initializing a BertForSequenceClassification model from a BertForPreTraining model).\n",
            "- This IS NOT expected if you are initializing BertModel from the checkpoint of a model that you expect to be exactly identical (initializing a BertForSequenceClassification model from a BertForSequenceClassification model).\n"
          ]
        },
        {
          "output_type": "stream",
          "name": "stdout",
          "text": [
            "getting embeddings...\n",
            "splitting and stacking...\n",
            "probing...\n",
            "layer 1: f1 score 0.3671, accuracy 0.9513, time 26.5516\n",
            "layer 2: f1 score 0.3096, accuracy 0.9507, time 32.4015\n",
            "layer 3: f1 score 0.3088, accuracy 0.9489, time 33.9357\n",
            "layer 4: f1 score 0.3372, accuracy 0.9480, time 30.2062\n",
            "layer 5: f1 score 0.3458, accuracy 0.9493, time 41.2677\n",
            "layer 6: f1 score 0.3224, accuracy 0.9475, time 22.7097\n",
            "layer 7: f1 score 0.3246, accuracy 0.9488, time 34.3441\n",
            "layer 8: f1 score 0.3262, accuracy 0.9484, time 17.0350\n",
            "layer 9: f1 score 0.3310, accuracy 0.9473, time 26.9343\n",
            "layer 10: f1 score 0.3084, accuracy 0.9464, time 29.7174\n",
            "layer 11: f1 score 0.3255, accuracy 0.9482, time 30.9297\n",
            "layer 12: f1 score 0.3005, accuracy 0.9460, time 20.6070\n"
          ]
        }
      ]
    },
    {
      "cell_type": "code",
      "source": [
        "show_exp(f1s, accs)"
      ],
      "metadata": {
        "colab": {
          "base_uri": "https://localhost:8080/",
          "height": 295
        },
        "id": "5jEXFVWf6GNF",
        "outputId": "5c4b038d-4196-4df2-d2ab-bb2e78b8a4b6"
      },
      "execution_count": null,
      "outputs": [
        {
          "output_type": "display_data",
          "data": {
            "text/plain": [
              "<Figure size 432x288 with 1 Axes>"
            ],
            "image/png": "[encoded data removed]"
          },
          "metadata": {
            "needs_background": "light"
          }
        }
      ]
    },
    {
      "cell_type": "markdown",
      "source": [
        "В среднем слой отрабатывал на $2$ секунды быстрее, чем в оригинальном эксперименте для `float32`, без потери качества"
      ],
      "metadata": {
        "id": "cN8XYSaUGDbO"
      }
    }
  ]
}