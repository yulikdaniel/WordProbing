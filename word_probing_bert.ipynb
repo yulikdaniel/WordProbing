{
  "nbformat": 4,
  "nbformat_minor": 0,
  "metadata": {
    "accelerator": "GPU",
    "colab": {
      "provenance": []
    },
    "kernelspec": {
      "display_name": "Python 3",
      "language": "python",
      "name": "python3"
    },
    "language_info": {
      "codemirror_mode": {
        "name": "ipython",
        "version": 3
      },
      "file_extension": ".py",
      "mimetype": "text/x-python",
      "name": "python",
      "nbconvert_exporter": "python",
      "pygments_lexer": "ipython3",
      "version": "3.8.5"
    },
    "widgets": {
      "application/vnd.jupyter.widget-state+json": {
        "a16e5c77316e4a4fa1a1d1a70c5db77d": {
          "model_module": "@jupyter-widgets/controls",
          "model_name": "HBoxModel",
          "model_module_version": "1.5.0",
          "state": {
            "_dom_classes": [],
            "_model_module": "@jupyter-widgets/controls",
            "_model_module_version": "1.5.0",
            "_model_name": "HBoxModel",
            "_view_count": null,
            "_view_module": "@jupyter-widgets/controls",
            "_view_module_version": "1.5.0",
            "_view_name": "HBoxView",
            "box_style": "",
            "children": [
              "IPY_MODEL_7777d646c02147dba164cddea6c1ef5e",
              "IPY_MODEL_bdd0a61e9bc640748424b5d4f5fdd8d1",
              "IPY_MODEL_9f0bcef416c14ae1ac6a40df36742309"
            ],
            "layout": "IPY_MODEL_49bf7affa5214fef978329e50a04225f"
          }
        },
        "7777d646c02147dba164cddea6c1ef5e": {
          "model_module": "@jupyter-widgets/controls",
          "model_name": "HTMLModel",
          "model_module_version": "1.5.0",
          "state": {
            "_dom_classes": [],
            "_model_module": "@jupyter-widgets/controls",
            "_model_module_version": "1.5.0",
            "_model_name": "HTMLModel",
            "_view_count": null,
            "_view_module": "@jupyter-widgets/controls",
            "_view_module_version": "1.5.0",
            "_view_name": "HTMLView",
            "description": "",
            "description_tooltip": null,
            "layout": "IPY_MODEL_4ae69b67ada340faa74ae40a71cc3dbf",
            "placeholder": "​",
            "style": "IPY_MODEL_26fb126bb8b24f1cb056edfb3bdce948",
            "value": "Downloading (…)tencepiece.bpe.model: 100%"
          }
        },
        "bdd0a61e9bc640748424b5d4f5fdd8d1": {
          "model_module": "@jupyter-widgets/controls",
          "model_name": "FloatProgressModel",
          "model_module_version": "1.5.0",
          "state": {
            "_dom_classes": [],
            "_model_module": "@jupyter-widgets/controls",
            "_model_module_version": "1.5.0",
            "_model_name": "FloatProgressModel",
            "_view_count": null,
            "_view_module": "@jupyter-widgets/controls",
            "_view_module_version": "1.5.0",
            "_view_name": "ProgressView",
            "bar_style": "success",
            "description": "",
            "description_tooltip": null,
            "layout": "IPY_MODEL_46b80fd2d2c94e77ac10c8c19196aae5",
            "max": 810912,
            "min": 0,
            "orientation": "horizontal",
            "style": "IPY_MODEL_13bd15a89f494bdeb3164c2a8e939820",
            "value": 810912
          }
        },
        "9f0bcef416c14ae1ac6a40df36742309": {
          "model_module": "@jupyter-widgets/controls",
          "model_name": "HTMLModel",
          "model_module_version": "1.5.0",
          "state": {
            "_dom_classes": [],
            "_model_module": "@jupyter-widgets/controls",
            "_model_module_version": "1.5.0",
            "_model_name": "HTMLModel",
            "_view_count": null,
            "_view_module": "@jupyter-widgets/controls",
            "_view_module_version": "1.5.0",
            "_view_name": "HTMLView",
            "description": "",
            "description_tooltip": null,
            "layout": "IPY_MODEL_a37410cac0ab44f08018dec69075505f",
            "placeholder": "​",
            "style": "IPY_MODEL_033fcbcbd09a4320917a77d4e447e479",
            "value": " 811k/811k [00:00&lt;00:00, 5.74MB/s]"
          }
        },
        "49bf7affa5214fef978329e50a04225f": {
          "model_module": "@jupyter-widgets/base",
          "model_name": "LayoutModel",
          "model_module_version": "1.2.0",
          "state": {
            "_model_module": "@jupyter-widgets/base",
            "_model_module_version": "1.2.0",
            "_model_name": "LayoutModel",
            "_view_count": null,
            "_view_module": "@jupyter-widgets/base",
            "_view_module_version": "1.2.0",
            "_view_name": "LayoutView",
            "align_content": null,
            "align_items": null,
            "align_self": null,
            "border": null,
            "bottom": null,
            "display": null,
            "flex": null,
            "flex_flow": null,
            "grid_area": null,
            "grid_auto_columns": null,
            "grid_auto_flow": null,
            "grid_auto_rows": null,
            "grid_column": null,
            "grid_gap": null,
            "grid_row": null,
            "grid_template_areas": null,
            "grid_template_columns": null,
            "grid_template_rows": null,
            "height": null,
            "justify_content": null,
            "justify_items": null,
            "left": null,
            "margin": null,
            "max_height": null,
            "max_width": null,
            "min_height": null,
            "min_width": null,
            "object_fit": null,
            "object_position": null,
            "order": null,
            "overflow": null,
            "overflow_x": null,
            "overflow_y": null,
            "padding": null,
            "right": null,
            "top": null,
            "visibility": null,
            "width": null
          }
        },
        "4ae69b67ada340faa74ae40a71cc3dbf": {
          "model_module": "@jupyter-widgets/base",
          "model_name": "LayoutModel",
          "model_module_version": "1.2.0",
          "state": {
            "_model_module": "@jupyter-widgets/base",
            "_model_module_version": "1.2.0",
            "_model_name": "LayoutModel",
            "_view_count": null,
            "_view_module": "@jupyter-widgets/base",
            "_view_module_version": "1.2.0",
            "_view_name": "LayoutView",
            "align_content": null,
            "align_items": null,
            "align_self": null,
            "border": null,
            "bottom": null,
            "display": null,
            "flex": null,
            "flex_flow": null,
            "grid_area": null,
            "grid_auto_columns": null,
            "grid_auto_flow": null,
            "grid_auto_rows": null,
            "grid_column": null,
            "grid_gap": null,
            "grid_row": null,
            "grid_template_areas": null,
            "grid_template_columns": null,
            "grid_template_rows": null,
            "height": null,
            "justify_content": null,
            "justify_items": null,
            "left": null,
            "margin": null,
            "max_height": null,
            "max_width": null,
            "min_height": null,
            "min_width": null,
            "object_fit": null,
            "object_position": null,
            "order": null,
            "overflow": null,
            "overflow_x": null,
            "overflow_y": null,
            "padding": null,
            "right": null,
            "top": null,
            "visibility": null,
            "width": null
          }
        },
        "26fb126bb8b24f1cb056edfb3bdce948": {
          "model_module": "@jupyter-widgets/controls",
          "model_name": "DescriptionStyleModel",
          "model_module_version": "1.5.0",
          "state": {
            "_model_module": "@jupyter-widgets/controls",
            "_model_module_version": "1.5.0",
            "_model_name": "DescriptionStyleModel",
            "_view_count": null,
            "_view_module": "@jupyter-widgets/base",
            "_view_module_version": "1.2.0",
            "_view_name": "StyleView",
            "description_width": ""
          }
        },
        "46b80fd2d2c94e77ac10c8c19196aae5": {
          "model_module": "@jupyter-widgets/base",
          "model_name": "LayoutModel",
          "model_module_version": "1.2.0",
          "state": {
            "_model_module": "@jupyter-widgets/base",
            "_model_module_version": "1.2.0",
            "_model_name": "LayoutModel",
            "_view_count": null,
            "_view_module": "@jupyter-widgets/base",
            "_view_module_version": "1.2.0",
            "_view_name": "LayoutView",
            "align_content": null,
            "align_items": null,
            "align_self": null,
            "border": null,
            "bottom": null,
            "display": null,
            "flex": null,
            "flex_flow": null,
            "grid_area": null,
            "grid_auto_columns": null,
            "grid_auto_flow": null,
            "grid_auto_rows": null,
            "grid_column": null,
            "grid_gap": null,
            "grid_row": null,
            "grid_template_areas": null,
            "grid_template_columns": null,
            "grid_template_rows": null,
            "height": null,
            "justify_content": null,
            "justify_items": null,
            "left": null,
            "margin": null,
            "max_height": null,
            "max_width": null,
            "min_height": null,
            "min_width": null,
            "object_fit": null,
            "object_position": null,
            "order": null,
            "overflow": null,
            "overflow_x": null,
            "overflow_y": null,
            "padding": null,
            "right": null,
            "top": null,
            "visibility": null,
            "width": null
          }
        },
        "13bd15a89f494bdeb3164c2a8e939820": {
          "model_module": "@jupyter-widgets/controls",
          "model_name": "ProgressStyleModel",
          "model_module_version": "1.5.0",
          "state": {
            "_model_module": "@jupyter-widgets/controls",
            "_model_module_version": "1.5.0",
            "_model_name": "ProgressStyleModel",
            "_view_count": null,
            "_view_module": "@jupyter-widgets/base",
            "_view_module_version": "1.2.0",
            "_view_name": "StyleView",
            "bar_color": null,
            "description_width": ""
          }
        },
        "a37410cac0ab44f08018dec69075505f": {
          "model_module": "@jupyter-widgets/base",
          "model_name": "LayoutModel",
          "model_module_version": "1.2.0",
          "state": {
            "_model_module": "@jupyter-widgets/base",
            "_model_module_version": "1.2.0",
            "_model_name": "LayoutModel",
            "_view_count": null,
            "_view_module": "@jupyter-widgets/base",
            "_view_module_version": "1.2.0",
            "_view_name": "LayoutView",
            "align_content": null,
            "align_items": null,
            "align_self": null,
            "border": null,
            "bottom": null,
            "display": null,
            "flex": null,
            "flex_flow": null,
            "grid_area": null,
            "grid_auto_columns": null,
            "grid_auto_flow": null,
            "grid_auto_rows": null,
            "grid_column": null,
            "grid_gap": null,
            "grid_row": null,
            "grid_template_areas": null,
            "grid_template_columns": null,
            "grid_template_rows": null,
            "height": null,
            "justify_content": null,
            "justify_items": null,
            "left": null,
            "margin": null,
            "max_height": null,
            "max_width": null,
            "min_height": null,
            "min_width": null,
            "object_fit": null,
            "object_position": null,
            "order": null,
            "overflow": null,
            "overflow_x": null,
            "overflow_y": null,
            "padding": null,
            "right": null,
            "top": null,
            "visibility": null,
            "width": null
          }
        },
        "033fcbcbd09a4320917a77d4e447e479": {
          "model_module": "@jupyter-widgets/controls",
          "model_name": "DescriptionStyleModel",
          "model_module_version": "1.5.0",
          "state": {
            "_model_module": "@jupyter-widgets/controls",
            "_model_module_version": "1.5.0",
            "_model_name": "DescriptionStyleModel",
            "_view_count": null,
            "_view_module": "@jupyter-widgets/base",
            "_view_module_version": "1.2.0",
            "_view_name": "StyleView",
            "description_width": ""
          }
        },
        "ea7228557f764111ab1e50c10aaeb50c": {
          "model_module": "@jupyter-widgets/controls",
          "model_name": "HBoxModel",
          "model_module_version": "1.5.0",
          "state": {
            "_dom_classes": [],
            "_model_module": "@jupyter-widgets/controls",
            "_model_module_version": "1.5.0",
            "_model_name": "HBoxModel",
            "_view_count": null,
            "_view_module": "@jupyter-widgets/controls",
            "_view_module_version": "1.5.0",
            "_view_name": "HBoxView",
            "box_style": "",
            "children": [
              "IPY_MODEL_2913ecea178846279d13d6db4b5840ae",
              "IPY_MODEL_dcc1de8d62e0469492349b17de97a37c",
              "IPY_MODEL_68b275e8e40a4c28875ade1572d1d1cc"
            ],
            "layout": "IPY_MODEL_89224e56193b4b0983128f158e04b72e"
          }
        },
        "2913ecea178846279d13d6db4b5840ae": {
          "model_module": "@jupyter-widgets/controls",
          "model_name": "HTMLModel",
          "model_module_version": "1.5.0",
          "state": {
            "_dom_classes": [],
            "_model_module": "@jupyter-widgets/controls",
            "_model_module_version": "1.5.0",
            "_model_name": "HTMLModel",
            "_view_count": null,
            "_view_module": "@jupyter-widgets/controls",
            "_view_module_version": "1.5.0",
            "_view_name": "HTMLView",
            "description": "",
            "description_tooltip": null,
            "layout": "IPY_MODEL_bfa9c49f87c04424bf957c20b832c4f4",
            "placeholder": "​",
            "style": "IPY_MODEL_985bd6d11ca44002b029378a85fa34fb",
            "value": "Downloading (…)lve/main/config.json: 100%"
          }
        },
        "dcc1de8d62e0469492349b17de97a37c": {
          "model_module": "@jupyter-widgets/controls",
          "model_name": "FloatProgressModel",
          "model_module_version": "1.5.0",
          "state": {
            "_dom_classes": [],
            "_model_module": "@jupyter-widgets/controls",
            "_model_module_version": "1.5.0",
            "_model_name": "FloatProgressModel",
            "_view_count": null,
            "_view_module": "@jupyter-widgets/controls",
            "_view_module_version": "1.5.0",
            "_view_name": "ProgressView",
            "bar_style": "success",
            "description": "",
            "description_tooltip": null,
            "layout": "IPY_MODEL_992b2acabf0043efac0940f1c12b7b2b",
            "max": 508,
            "min": 0,
            "orientation": "horizontal",
            "style": "IPY_MODEL_6dfc4de2ebd44202ab013ef75c47a677",
            "value": 508
          }
        },
        "68b275e8e40a4c28875ade1572d1d1cc": {
          "model_module": "@jupyter-widgets/controls",
          "model_name": "HTMLModel",
          "model_module_version": "1.5.0",
          "state": {
            "_dom_classes": [],
            "_model_module": "@jupyter-widgets/controls",
            "_model_module_version": "1.5.0",
            "_model_name": "HTMLModel",
            "_view_count": null,
            "_view_module": "@jupyter-widgets/controls",
            "_view_module_version": "1.5.0",
            "_view_name": "HTMLView",
            "description": "",
            "description_tooltip": null,
            "layout": "IPY_MODEL_0ded758c1de9497aa039d9ab18404043",
            "placeholder": "​",
            "style": "IPY_MODEL_e5db08a29bf444cf999dbc80a1970084",
            "value": " 508/508 [00:00&lt;00:00, 28.5kB/s]"
          }
        },
        "89224e56193b4b0983128f158e04b72e": {
          "model_module": "@jupyter-widgets/base",
          "model_name": "LayoutModel",
          "model_module_version": "1.2.0",
          "state": {
            "_model_module": "@jupyter-widgets/base",
            "_model_module_version": "1.2.0",
            "_model_name": "LayoutModel",
            "_view_count": null,
            "_view_module": "@jupyter-widgets/base",
            "_view_module_version": "1.2.0",
            "_view_name": "LayoutView",
            "align_content": null,
            "align_items": null,
            "align_self": null,
            "border": null,
            "bottom": null,
            "display": null,
            "flex": null,
            "flex_flow": null,
            "grid_area": null,
            "grid_auto_columns": null,
            "grid_auto_flow": null,
            "grid_auto_rows": null,
            "grid_column": null,
            "grid_gap": null,
            "grid_row": null,
            "grid_template_areas": null,
            "grid_template_columns": null,
            "grid_template_rows": null,
            "height": null,
            "justify_content": null,
            "justify_items": null,
            "left": null,
            "margin": null,
            "max_height": null,
            "max_width": null,
            "min_height": null,
            "min_width": null,
            "object_fit": null,
            "object_position": null,
            "order": null,
            "overflow": null,
            "overflow_x": null,
            "overflow_y": null,
            "padding": null,
            "right": null,
            "top": null,
            "visibility": null,
            "width": null
          }
        },
        "bfa9c49f87c04424bf957c20b832c4f4": {
          "model_module": "@jupyter-widgets/base",
          "model_name": "LayoutModel",
          "model_module_version": "1.2.0",
          "state": {
            "_model_module": "@jupyter-widgets/base",
            "_model_module_version": "1.2.0",
            "_model_name": "LayoutModel",
            "_view_count": null,
            "_view_module": "@jupyter-widgets/base",
            "_view_module_version": "1.2.0",
            "_view_name": "LayoutView",
            "align_content": null,
            "align_items": null,
            "align_self": null,
            "border": null,
            "bottom": null,
            "display": null,
            "flex": null,
            "flex_flow": null,
            "grid_area": null,
            "grid_auto_columns": null,
            "grid_auto_flow": null,
            "grid_auto_rows": null,
            "grid_column": null,
            "grid_gap": null,
            "grid_row": null,
            "grid_template_areas": null,
            "grid_template_columns": null,
            "grid_template_rows": null,
            "height": null,
            "justify_content": null,
            "justify_items": null,
            "left": null,
            "margin": null,
            "max_height": null,
            "max_width": null,
            "min_height": null,
            "min_width": null,
            "object_fit": null,
            "object_position": null,
            "order": null,
            "overflow": null,
            "overflow_x": null,
            "overflow_y": null,
            "padding": null,
            "right": null,
            "top": null,
            "visibility": null,
            "width": null
          }
        },
        "985bd6d11ca44002b029378a85fa34fb": {
          "model_module": "@jupyter-widgets/controls",
          "model_name": "DescriptionStyleModel",
          "model_module_version": "1.5.0",
          "state": {
            "_model_module": "@jupyter-widgets/controls",
            "_model_module_version": "1.5.0",
            "_model_name": "DescriptionStyleModel",
            "_view_count": null,
            "_view_module": "@jupyter-widgets/base",
            "_view_module_version": "1.2.0",
            "_view_name": "StyleView",
            "description_width": ""
          }
        },
        "992b2acabf0043efac0940f1c12b7b2b": {
          "model_module": "@jupyter-widgets/base",
          "model_name": "LayoutModel",
          "model_module_version": "1.2.0",
          "state": {
            "_model_module": "@jupyter-widgets/base",
            "_model_module_version": "1.2.0",
            "_model_name": "LayoutModel",
            "_view_count": null,
            "_view_module": "@jupyter-widgets/base",
            "_view_module_version": "1.2.0",
            "_view_name": "LayoutView",
            "align_content": null,
            "align_items": null,
            "align_self": null,
            "border": null,
            "bottom": null,
            "display": null,
            "flex": null,
            "flex_flow": null,
            "grid_area": null,
            "grid_auto_columns": null,
            "grid_auto_flow": null,
            "grid_auto_rows": null,
            "grid_column": null,
            "grid_gap": null,
            "grid_row": null,
            "grid_template_areas": null,
            "grid_template_columns": null,
            "grid_template_rows": null,
            "height": null,
            "justify_content": null,
            "justify_items": null,
            "left": null,
            "margin": null,
            "max_height": null,
            "max_width": null,
            "min_height": null,
            "min_width": null,
            "object_fit": null,
            "object_position": null,
            "order": null,
            "overflow": null,
            "overflow_x": null,
            "overflow_y": null,
            "padding": null,
            "right": null,
            "top": null,
            "visibility": null,
            "width": null
          }
        },
        "6dfc4de2ebd44202ab013ef75c47a677": {
          "model_module": "@jupyter-widgets/controls",
          "model_name": "ProgressStyleModel",
          "model_module_version": "1.5.0",
          "state": {
            "_model_module": "@jupyter-widgets/controls",
            "_model_module_version": "1.5.0",
            "_model_name": "ProgressStyleModel",
            "_view_count": null,
            "_view_module": "@jupyter-widgets/base",
            "_view_module_version": "1.2.0",
            "_view_name": "StyleView",
            "bar_color": null,
            "description_width": ""
          }
        },
        "0ded758c1de9497aa039d9ab18404043": {
          "model_module": "@jupyter-widgets/base",
          "model_name": "LayoutModel",
          "model_module_version": "1.2.0",
          "state": {
            "_model_module": "@jupyter-widgets/base",
            "_model_module_version": "1.2.0",
            "_model_name": "LayoutModel",
            "_view_count": null,
            "_view_module": "@jupyter-widgets/base",
            "_view_module_version": "1.2.0",
            "_view_name": "LayoutView",
            "align_content": null,
            "align_items": null,
            "align_self": null,
            "border": null,
            "bottom": null,
            "display": null,
            "flex": null,
            "flex_flow": null,
            "grid_area": null,
            "grid_auto_columns": null,
            "grid_auto_flow": null,
            "grid_auto_rows": null,
            "grid_column": null,
            "grid_gap": null,
            "grid_row": null,
            "grid_template_areas": null,
            "grid_template_columns": null,
            "grid_template_rows": null,
            "height": null,
            "justify_content": null,
            "justify_items": null,
            "left": null,
            "margin": null,
            "max_height": null,
            "max_width": null,
            "min_height": null,
            "min_width": null,
            "object_fit": null,
            "object_position": null,
            "order": null,
            "overflow": null,
            "overflow_x": null,
            "overflow_y": null,
            "padding": null,
            "right": null,
            "top": null,
            "visibility": null,
            "width": null
          }
        },
        "e5db08a29bf444cf999dbc80a1970084": {
          "model_module": "@jupyter-widgets/controls",
          "model_name": "DescriptionStyleModel",
          "model_module_version": "1.5.0",
          "state": {
            "_model_module": "@jupyter-widgets/controls",
            "_model_module_version": "1.5.0",
            "_model_name": "DescriptionStyleModel",
            "_view_count": null,
            "_view_module": "@jupyter-widgets/base",
            "_view_module_version": "1.2.0",
            "_view_name": "StyleView",
            "description_width": ""
          }
        },
        "529ce9136d7048e98e94afa95fb0b984": {
          "model_module": "@jupyter-widgets/controls",
          "model_name": "HBoxModel",
          "model_module_version": "1.5.0",
          "state": {
            "_dom_classes": [],
            "_model_module": "@jupyter-widgets/controls",
            "_model_module_version": "1.5.0",
            "_model_name": "HBoxModel",
            "_view_count": null,
            "_view_module": "@jupyter-widgets/controls",
            "_view_module_version": "1.5.0",
            "_view_name": "HBoxView",
            "box_style": "",
            "children": [
              "IPY_MODEL_db5d35dbbe4c4718acbebe08f139e944",
              "IPY_MODEL_cd3214935c0b4004833f24ed6715eccd",
              "IPY_MODEL_a665cd4b346b457ea8c4e1a874197521"
            ],
            "layout": "IPY_MODEL_b80f6e5f380b4dae843e3a5cddcf41af"
          }
        },
        "db5d35dbbe4c4718acbebe08f139e944": {
          "model_module": "@jupyter-widgets/controls",
          "model_name": "HTMLModel",
          "model_module_version": "1.5.0",
          "state": {
            "_dom_classes": [],
            "_model_module": "@jupyter-widgets/controls",
            "_model_module_version": "1.5.0",
            "_model_name": "HTMLModel",
            "_view_count": null,
            "_view_module": "@jupyter-widgets/controls",
            "_view_module_version": "1.5.0",
            "_view_name": "HTMLView",
            "description": "",
            "description_tooltip": null,
            "layout": "IPY_MODEL_11c3bf379c874f758277978a481714db",
            "placeholder": "​",
            "style": "IPY_MODEL_d75820deed2344d39f7608324a8ea43d",
            "value": "Downloading pytorch_model.bin: 100%"
          }
        },
        "cd3214935c0b4004833f24ed6715eccd": {
          "model_module": "@jupyter-widgets/controls",
          "model_name": "FloatProgressModel",
          "model_module_version": "1.5.0",
          "state": {
            "_dom_classes": [],
            "_model_module": "@jupyter-widgets/controls",
            "_model_module_version": "1.5.0",
            "_model_name": "FloatProgressModel",
            "_view_count": null,
            "_view_module": "@jupyter-widgets/controls",
            "_view_module_version": "1.5.0",
            "_view_name": "ProgressView",
            "bar_style": "success",
            "description": "",
            "description_tooltip": null,
            "layout": "IPY_MODEL_4bc0397c9e4e44bdacfa5232d1a9daea",
            "max": 445032417,
            "min": 0,
            "orientation": "horizontal",
            "style": "IPY_MODEL_f4ec3bdca473410393a212dde832abe8",
            "value": 445032417
          }
        },
        "a665cd4b346b457ea8c4e1a874197521": {
          "model_module": "@jupyter-widgets/controls",
          "model_name": "HTMLModel",
          "model_module_version": "1.5.0",
          "state": {
            "_dom_classes": [],
            "_model_module": "@jupyter-widgets/controls",
            "_model_module_version": "1.5.0",
            "_model_name": "HTMLModel",
            "_view_count": null,
            "_view_module": "@jupyter-widgets/controls",
            "_view_module_version": "1.5.0",
            "_view_name": "HTMLView",
            "description": "",
            "description_tooltip": null,
            "layout": "IPY_MODEL_6a0ef1a2c6794b96981a30d3621dbc61",
            "placeholder": "​",
            "style": "IPY_MODEL_1ecf43753cf243ac8887402ecb2f4269",
            "value": " 445M/445M [00:06&lt;00:00, 73.2MB/s]"
          }
        },
        "b80f6e5f380b4dae843e3a5cddcf41af": {
          "model_module": "@jupyter-widgets/base",
          "model_name": "LayoutModel",
          "model_module_version": "1.2.0",
          "state": {
            "_model_module": "@jupyter-widgets/base",
            "_model_module_version": "1.2.0",
            "_model_name": "LayoutModel",
            "_view_count": null,
            "_view_module": "@jupyter-widgets/base",
            "_view_module_version": "1.2.0",
            "_view_name": "LayoutView",
            "align_content": null,
            "align_items": null,
            "align_self": null,
            "border": null,
            "bottom": null,
            "display": null,
            "flex": null,
            "flex_flow": null,
            "grid_area": null,
            "grid_auto_columns": null,
            "grid_auto_flow": null,
            "grid_auto_rows": null,
            "grid_column": null,
            "grid_gap": null,
            "grid_row": null,
            "grid_template_areas": null,
            "grid_template_columns": null,
            "grid_template_rows": null,
            "height": null,
            "justify_content": null,
            "justify_items": null,
            "left": null,
            "margin": null,
            "max_height": null,
            "max_width": null,
            "min_height": null,
            "min_width": null,
            "object_fit": null,
            "object_position": null,
            "order": null,
            "overflow": null,
            "overflow_x": null,
            "overflow_y": null,
            "padding": null,
            "right": null,
            "top": null,
            "visibility": null,
            "width": null
          }
        },
        "11c3bf379c874f758277978a481714db": {
          "model_module": "@jupyter-widgets/base",
          "model_name": "LayoutModel",
          "model_module_version": "1.2.0",
          "state": {
            "_model_module": "@jupyter-widgets/base",
            "_model_module_version": "1.2.0",
            "_model_name": "LayoutModel",
            "_view_count": null,
            "_view_module": "@jupyter-widgets/base",
            "_view_module_version": "1.2.0",
            "_view_name": "LayoutView",
            "align_content": null,
            "align_items": null,
            "align_self": null,
            "border": null,
            "bottom": null,
            "display": null,
            "flex": null,
            "flex_flow": null,
            "grid_area": null,
            "grid_auto_columns": null,
            "grid_auto_flow": null,
            "grid_auto_rows": null,
            "grid_column": null,
            "grid_gap": null,
            "grid_row": null,
            "grid_template_areas": null,
            "grid_template_columns": null,
            "grid_template_rows": null,
            "height": null,
            "justify_content": null,
            "justify_items": null,
            "left": null,
            "margin": null,
            "max_height": null,
            "max_width": null,
            "min_height": null,
            "min_width": null,
            "object_fit": null,
            "object_position": null,
            "order": null,
            "overflow": null,
            "overflow_x": null,
            "overflow_y": null,
            "padding": null,
            "right": null,
            "top": null,
            "visibility": null,
            "width": null
          }
        },
        "d75820deed2344d39f7608324a8ea43d": {
          "model_module": "@jupyter-widgets/controls",
          "model_name": "DescriptionStyleModel",
          "model_module_version": "1.5.0",
          "state": {
            "_model_module": "@jupyter-widgets/controls",
            "_model_module_version": "1.5.0",
            "_model_name": "DescriptionStyleModel",
            "_view_count": null,
            "_view_module": "@jupyter-widgets/base",
            "_view_module_version": "1.2.0",
            "_view_name": "StyleView",
            "description_width": ""
          }
        },
        "4bc0397c9e4e44bdacfa5232d1a9daea": {
          "model_module": "@jupyter-widgets/base",
          "model_name": "LayoutModel",
          "model_module_version": "1.2.0",
          "state": {
            "_model_module": "@jupyter-widgets/base",
            "_model_module_version": "1.2.0",
            "_model_name": "LayoutModel",
            "_view_count": null,
            "_view_module": "@jupyter-widgets/base",
            "_view_module_version": "1.2.0",
            "_view_name": "LayoutView",
            "align_content": null,
            "align_items": null,
            "align_self": null,
            "border": null,
            "bottom": null,
            "display": null,
            "flex": null,
            "flex_flow": null,
            "grid_area": null,
            "grid_auto_columns": null,
            "grid_auto_flow": null,
            "grid_auto_rows": null,
            "grid_column": null,
            "grid_gap": null,
            "grid_row": null,
            "grid_template_areas": null,
            "grid_template_columns": null,
            "grid_template_rows": null,
            "height": null,
            "justify_content": null,
            "justify_items": null,
            "left": null,
            "margin": null,
            "max_height": null,
            "max_width": null,
            "min_height": null,
            "min_width": null,
            "object_fit": null,
            "object_position": null,
            "order": null,
            "overflow": null,
            "overflow_x": null,
            "overflow_y": null,
            "padding": null,
            "right": null,
            "top": null,
            "visibility": null,
            "width": null
          }
        },
        "f4ec3bdca473410393a212dde832abe8": {
          "model_module": "@jupyter-widgets/controls",
          "model_name": "ProgressStyleModel",
          "model_module_version": "1.5.0",
          "state": {
            "_model_module": "@jupyter-widgets/controls",
            "_model_module_version": "1.5.0",
            "_model_name": "ProgressStyleModel",
            "_view_count": null,
            "_view_module": "@jupyter-widgets/base",
            "_view_module_version": "1.2.0",
            "_view_name": "StyleView",
            "bar_color": null,
            "description_width": ""
          }
        },
        "6a0ef1a2c6794b96981a30d3621dbc61": {
          "model_module": "@jupyter-widgets/base",
          "model_name": "LayoutModel",
          "model_module_version": "1.2.0",
          "state": {
            "_model_module": "@jupyter-widgets/base",
            "_model_module_version": "1.2.0",
            "_model_name": "LayoutModel",
            "_view_count": null,
            "_view_module": "@jupyter-widgets/base",
            "_view_module_version": "1.2.0",
            "_view_name": "LayoutView",
            "align_content": null,
            "align_items": null,
            "align_self": null,
            "border": null,
            "bottom": null,
            "display": null,
            "flex": null,
            "flex_flow": null,
            "grid_area": null,
            "grid_auto_columns": null,
            "grid_auto_flow": null,
            "grid_auto_rows": null,
            "grid_column": null,
            "grid_gap": null,
            "grid_row": null,
            "grid_template_areas": null,
            "grid_template_columns": null,
            "grid_template_rows": null,
            "height": null,
            "justify_content": null,
            "justify_items": null,
            "left": null,
            "margin": null,
            "max_height": null,
            "max_width": null,
            "min_height": null,
            "min_width": null,
            "object_fit": null,
            "object_position": null,
            "order": null,
            "overflow": null,
            "overflow_x": null,
            "overflow_y": null,
            "padding": null,
            "right": null,
            "top": null,
            "visibility": null,
            "width": null
          }
        },
        "1ecf43753cf243ac8887402ecb2f4269": {
          "model_module": "@jupyter-widgets/controls",
          "model_name": "DescriptionStyleModel",
          "model_module_version": "1.5.0",
          "state": {
            "_model_module": "@jupyter-widgets/controls",
            "_model_module_version": "1.5.0",
            "_model_name": "DescriptionStyleModel",
            "_view_count": null,
            "_view_module": "@jupyter-widgets/base",
            "_view_module_version": "1.2.0",
            "_view_name": "StyleView",
            "description_width": ""
          }
        }
      }
    },
    "gpuClass": "premium"
  },
  "cells": [
    {
      "cell_type": "markdown",
      "source": [
        "**Блокнот по проведению word-level probing экспериментов**"
      ],
      "metadata": {
        "id": "6vCc6R7HGVRR"
      }
    },
    {
      "cell_type": "code",
      "metadata": {
        "id": "iz6qr5iC6jd-",
        "colab": {
          "base_uri": "https://localhost:8080/"
        },
        "outputId": "04295802-fd05-491c-c955-e75ee7307ff8"
      },
      "source": [
        "!pip --quiet install transformers sentencepiece conllu"
      ],
      "execution_count": null,
      "outputs": [
        {
          "output_type": "stream",
          "name": "stdout",
          "text": [
            "\u001b[2K     \u001b[90m━━━━━━━━━━━━━━━━━━━━━━━━━━━━━━━━━━━━━━━━\u001b[0m \u001b[32m6.8/6.8 MB\u001b[0m \u001b[31m52.5 MB/s\u001b[0m eta \u001b[36m0:00:00\u001b[0m\n",
            "\u001b[2K     \u001b[90m━━━━━━━━━━━━━━━━━━━━━━━━━━━━━━━━━━━━━━━━\u001b[0m \u001b[32m1.3/1.3 MB\u001b[0m \u001b[31m50.3 MB/s\u001b[0m eta \u001b[36m0:00:00\u001b[0m\n",
            "\u001b[2K     \u001b[90m━━━━━━━━━━━━━━━━━━━━━━━━━━━━━━━━━━━━━━\u001b[0m \u001b[32m199.8/199.8 KB\u001b[0m \u001b[31m17.4 MB/s\u001b[0m eta \u001b[36m0:00:00\u001b[0m\n",
            "\u001b[2K     \u001b[90m━━━━━━━━━━━━━━━━━━━━━━━━━━━━━━━━━━━━━━━━\u001b[0m \u001b[32m7.6/7.6 MB\u001b[0m \u001b[31m91.1 MB/s\u001b[0m eta \u001b[36m0:00:00\u001b[0m\n",
            "\u001b[?25h"
          ]
        }
      ]
    },
    {
      "cell_type": "code",
      "source": [
        "!wget https://raw.githubusercontent.com/UniversalDependencies/UD_French-GSD/master/fr_gsd-ud-test.conllu -O french_gender.conllu"
      ],
      "metadata": {
        "colab": {
          "base_uri": "https://localhost:8080/"
        },
        "id": "XJ2KUZel6vWw",
        "outputId": "ffa28018-ae81-4a8c-b9f5-f69663d03095"
      },
      "execution_count": null,
      "outputs": [
        {
          "output_type": "stream",
          "name": "stdout",
          "text": [
            "--2023-03-21 17:08:36--  https://raw.githubusercontent.com/UniversalDependencies/UD_French-GSD/master/fr_gsd-ud-test.conllu\n",
            "Resolving raw.githubusercontent.com (raw.githubusercontent.com)... 185.199.110.133, 185.199.108.133, 185.199.109.133, ...\n",
            "Connecting to raw.githubusercontent.com (raw.githubusercontent.com)|185.199.110.133|:443... connected.\n",
            "HTTP request sent, awaiting response... 200 OK\n",
            "Length: 645402 (630K) [text/plain]\n",
            "Saving to: ‘french_gender.conllu’\n",
            "\n",
            "french_gender.conll 100%[===================>] 630.28K  --.-KB/s    in 0.04s   \n",
            "\n",
            "2023-03-21 17:08:36 (13.8 MB/s) - ‘french_gender.conllu’ saved [645402/645402]\n",
            "\n"
          ]
        }
      ]
    },
    {
      "cell_type": "code",
      "metadata": {
        "id": "19SRRD7LrQEk"
      },
      "source": [
        "import torch\n",
        "import pandas as pd\n",
        "import numpy as np\n",
        "from transformers import CamembertModel, CamembertTokenizer, BertModel, BertTokenizer\n",
        "\n",
        "DEVICE = 'cuda' if torch.cuda.is_available() else 'cpu'"
      ],
      "execution_count": null,
      "outputs": []
    },
    {
      "cell_type": "markdown",
      "source": [
        "### Loading the model"
      ],
      "metadata": {
        "id": "xePs1uvlAb7T"
      }
    },
    {
      "cell_type": "code",
      "source": [
        "# try:\n",
        "#     del tokenizer\n",
        "#     del model\n",
        "# except:\n",
        "#     pass\n",
        "\n",
        "def get_pretrained(model_name, model_class=CamembertModel, tokenizer_class=CamembertTokenizer, device=DEVICE):\n",
        "    tokenizer = tokenizer_class.from_pretrained(model_name)\n",
        "    model = model_class.from_pretrained(model_name, output_hidden_states=True)\n",
        "    model = model.to(device)\n",
        "    return model, tokenizer\n",
        "\n",
        "model, tokenizer = get_pretrained('camembert-base')"
      ],
      "metadata": {
        "colab": {
          "base_uri": "https://localhost:8080/",
          "height": 187,
          "referenced_widgets": [
            "a16e5c77316e4a4fa1a1d1a70c5db77d",
            "7777d646c02147dba164cddea6c1ef5e",
            "bdd0a61e9bc640748424b5d4f5fdd8d1",
            "9f0bcef416c14ae1ac6a40df36742309",
            "49bf7affa5214fef978329e50a04225f",
            "4ae69b67ada340faa74ae40a71cc3dbf",
            "26fb126bb8b24f1cb056edfb3bdce948",
            "46b80fd2d2c94e77ac10c8c19196aae5",
            "13bd15a89f494bdeb3164c2a8e939820",
            "a37410cac0ab44f08018dec69075505f",
            "033fcbcbd09a4320917a77d4e447e479",
            "ea7228557f764111ab1e50c10aaeb50c",
            "2913ecea178846279d13d6db4b5840ae",
            "dcc1de8d62e0469492349b17de97a37c",
            "68b275e8e40a4c28875ade1572d1d1cc",
            "89224e56193b4b0983128f158e04b72e",
            "bfa9c49f87c04424bf957c20b832c4f4",
            "985bd6d11ca44002b029378a85fa34fb",
            "992b2acabf0043efac0940f1c12b7b2b",
            "6dfc4de2ebd44202ab013ef75c47a677",
            "0ded758c1de9497aa039d9ab18404043",
            "e5db08a29bf444cf999dbc80a1970084",
            "529ce9136d7048e98e94afa95fb0b984",
            "db5d35dbbe4c4718acbebe08f139e944",
            "cd3214935c0b4004833f24ed6715eccd",
            "a665cd4b346b457ea8c4e1a874197521",
            "b80f6e5f380b4dae843e3a5cddcf41af",
            "11c3bf379c874f758277978a481714db",
            "d75820deed2344d39f7608324a8ea43d",
            "4bc0397c9e4e44bdacfa5232d1a9daea",
            "f4ec3bdca473410393a212dde832abe8",
            "6a0ef1a2c6794b96981a30d3621dbc61",
            "1ecf43753cf243ac8887402ecb2f4269"
          ]
        },
        "id": "xWgksYrf-OTD",
        "outputId": "7f0cf58e-205a-4c83-a00f-6275d26c6abd"
      },
      "execution_count": null,
      "outputs": [
        {
          "output_type": "display_data",
          "data": {
            "text/plain": [
              "Downloading (…)tencepiece.bpe.model:   0%|          | 0.00/811k [00:00<?, ?B/s]"
            ],
            "application/vnd.jupyter.widget-view+json": {
              "version_major": 2,
              "version_minor": 0,
              "model_id": "a16e5c77316e4a4fa1a1d1a70c5db77d"
            }
          },
          "metadata": {}
        },
        {
          "output_type": "display_data",
          "data": {
            "text/plain": [
              "Downloading (…)lve/main/config.json:   0%|          | 0.00/508 [00:00<?, ?B/s]"
            ],
            "application/vnd.jupyter.widget-view+json": {
              "version_major": 2,
              "version_minor": 0,
              "model_id": "ea7228557f764111ab1e50c10aaeb50c"
            }
          },
          "metadata": {}
        },
        {
          "output_type": "display_data",
          "data": {
            "text/plain": [
              "Downloading pytorch_model.bin:   0%|          | 0.00/445M [00:00<?, ?B/s]"
            ],
            "application/vnd.jupyter.widget-view+json": {
              "version_major": 2,
              "version_minor": 0,
              "model_id": "529ce9136d7048e98e94afa95fb0b984"
            }
          },
          "metadata": {}
        },
        {
          "output_type": "stream",
          "name": "stderr",
          "text": [
            "Some weights of the model checkpoint at camembert-base were not used when initializing CamembertModel: ['lm_head.layer_norm.weight', 'lm_head.dense.weight', 'lm_head.bias', 'lm_head.layer_norm.bias', 'lm_head.decoder.weight', 'lm_head.dense.bias']\n",
            "- This IS expected if you are initializing CamembertModel from the checkpoint of a model trained on another task or with another architecture (e.g. initializing a BertForSequenceClassification model from a BertForPreTraining model).\n",
            "- This IS NOT expected if you are initializing CamembertModel from the checkpoint of a model that you expect to be exactly identical (initializing a BertForSequenceClassification model from a BertForSequenceClassification model).\n"
          ]
        }
      ]
    },
    {
      "cell_type": "code",
      "source": [
        "def get_sentence_embs(sentence, model=model, tokenizer=tokenizer, device=DEVICE):\n",
        "    \"\"\"\n",
        "    Возвращает эмбеддинги предложений по слоям. Эмбеддинг предложения == усреднённые эмбеддинги токенов\n",
        "    \"\"\"\n",
        "    with torch.no_grad():\n",
        "        inputs = tokenizer(sentence, return_tensors='pt').to(device)\n",
        "        outputs = model(**inputs)\n",
        "        return [layer_emb.mean(axis=1).squeeze().cpu().numpy() for layer_emb in outputs.hidden_states][1:]\n",
        "\n",
        "len(get_sentence_embs('Vous m\\'accusez de \"subjectivisme\".'))  # 12 layers in bert base"
      ],
      "metadata": {
        "colab": {
          "base_uri": "https://localhost:8080/"
        },
        "id": "E32dqRRF8yM6",
        "outputId": "a3b6a320-d483-4412-f33e-ea4614580d22"
      },
      "execution_count": null,
      "outputs": [
        {
          "output_type": "execute_result",
          "data": {
            "text/plain": [
              "12"
            ]
          },
          "metadata": {},
          "execution_count": 5
        }
      ]
    },
    {
      "cell_type": "code",
      "source": [
        "class CamembertMergeTokens:\n",
        "    def __init__(self, calculateEmbeddings=False):\n",
        "        self.punct = 0\n",
        "        self.apo = 0\n",
        "        self.tokens = []\n",
        "        self.calculateEmbeddings = calculateEmbeddings\n",
        "        self.embeddings = []\n",
        "\n",
        "    def finish(self, *args, **kwargs):\n",
        "        result = (self.tokens, self.embeddings) if self.calculateEmbeddings else self.tokens\n",
        "        self.__init__(*args, **kwargs)\n",
        "        return result\n",
        "    \n",
        "    def is_punctuation(token):\n",
        "        token = [x for x in token if x != \"▁\"]\n",
        "        return all([x in \".,?!:;()\\\"\" for x in token]) and len(token) != 0\n",
        "    \n",
        "    def is_apostrophe(token):\n",
        "        return token == \"\\'\"\n",
        "    \n",
        "    def next_token(self, token, embedding=None):\n",
        "        if self.calculateEmbeddings and embedding is None:\n",
        "            print(\"Missing features in next_token...\")\n",
        "\n",
        "        if CamembertMergeTokens.is_punctuation(token):\n",
        "            self.punct = 1\n",
        "        if CamembertMergeTokens.is_apostrophe(token):\n",
        "            self.apo = 1\n",
        "\n",
        "        if token.startswith(chr(9601)):\n",
        "            self.tokens.append(token[1:])\n",
        "            if self.calculateEmbeddings:\n",
        "                self.embeddings.append(embedding)\n",
        "        elif self.punct or self.apo == 2:\n",
        "            self.tokens.append(token)\n",
        "            if self.calculateEmbeddings:\n",
        "                self.embeddings.append(embedding)\n",
        "        else:\n",
        "            self.tokens[-1] += token\n",
        "            if self.calculateEmbeddings:\n",
        "                self.embeddings[-1] += embedding\n",
        "        \n",
        "        if self.punct != 0:\n",
        "            self.punct = (self.punct + 1) % 3\n",
        "        if self.apo != 0:\n",
        "            self.apo = (self.apo + 1) % 3"
      ],
      "metadata": {
        "id": "_G_1iqQyOWjM"
      },
      "execution_count": null,
      "outputs": []
    },
    {
      "cell_type": "code",
      "source": [
        "def get_word_features(toks, token_features, TokenMerger):\n",
        "    \"\"\"\n",
        "    Принимает в качестве аргументов токенизированное предложение и выход модели на нём. Собирает из выхода по токенам выход по словам.\n",
        "    \"\"\"\n",
        "    token_features = token_features[1:-1] # drop CLS and SEP tokens\n",
        "    word_features = []\n",
        "    MergeTokens = TokenMerger(calculateEmbeddings=True)\n",
        "    for i in range(len(token_features)):\n",
        "        MergeTokens.next_token(toks[i], token_features[i])\n",
        "    return torch.stack(MergeTokens.finish()[1], dim=0)\n",
        "\n",
        "\n",
        "def get_word_embs(sentence, word_inds, layer_inds, TokenMerger, model=model, tokenizer=tokenizer, device=DEVICE):\n",
        "    \"\"\"\n",
        "    Возвращает эмбеддинги слов по слоям. Эмбеддинг слова == усреднённые эмбеддинги токенов, на которые оно разбито (обычно 1 токен).\n",
        "    \"\"\"\n",
        "    with torch.no_grad():\n",
        "        inputs = tokenizer(sentence, return_tensors='pt').to(device)\n",
        "        # print(tokenizer.convert_ids_to_tokens(tokenizer(sentence)[\"input_ids\"]))\n",
        "        outputs = model(**inputs)\n",
        "        hidden_states = torch.stack(outputs.hidden_states, dim=0)[layer_inds] # Convert tuple of layers to torch tensor\n",
        "        hidden_states = torch.squeeze(hidden_states, dim=1) # Drop batch dimension which is equal to 1\n",
        "        # hidden_states = hidden_states[1:] # Drop the input layer\n",
        "\n",
        "        result = []\n",
        "        toks = tokenizer.tokenize(sentence)\n",
        "        for layer in hidden_states:\n",
        "            result.append(get_word_features(toks, layer, TokenMerger)[word_inds])\n",
        "        \n",
        "        return torch.stack(result, dim=0)\n",
        "\n",
        "\n",
        "text = \"J'aime le camembert\" #The word camembert is split into multiple tokens => this sentence is good for testing\n",
        "# text = '''Pour pouvoir mener à bien sa politique dictatoriale, le régime marocain a besoin de stabilité interne pour affronter les \"risques externes\" engendrés par le conflit du Sahara Occidental.'''\n",
        "res = get_word_embs(text, [0, 1], [0, 1, 2], CamembertMergeTokens)\n",
        "res.size()"
      ],
      "metadata": {
        "colab": {
          "base_uri": "https://localhost:8080/"
        },
        "id": "VM0NxRjAtJXs",
        "outputId": "b3111ce5-60a9-458a-9be1-682acdd92aec"
      },
      "execution_count": null,
      "outputs": [
        {
          "output_type": "execute_result",
          "data": {
            "text/plain": [
              "torch.Size([3, 2, 768])"
            ]
          },
          "metadata": {},
          "execution_count": 18
        }
      ]
    },
    {
      "cell_type": "code",
      "source": [
        "def join_parsings(bert_tokenization, ud_tokenization, TokenMerger, verbose=False): # accepts two tokenizations and returns list of features for bert tokenization\n",
        "    mergeTokens = TokenMerger()\n",
        "    for item in bert_tokenization:\n",
        "        mergeTokens.next_token(item)\n",
        "    bert_words = mergeTokens.finish()\n",
        "\n",
        "    ud_features = [[]]\n",
        "    last_word, last_symbol = 0, 0\n",
        "    skip_ids = -1\n",
        "    for item in ud_tokenization:\n",
        "        if type(item[\"id\"]) is int and item[\"id\"] <= skip_ids:\n",
        "            continue\n",
        "        if bert_words[last_word][last_symbol:].startswith(item[\"form\"]):\n",
        "            last_symbol += len(item[\"form\"])\n",
        "            ud_features[-1].append(item)\n",
        "\n",
        "            if type(item[\"id\"]) is not int:\n",
        "                skip_ids = item[\"id\"][2]\n",
        "\n",
        "            if last_symbol == len(bert_words[last_word]): # We've reached the end in the current word\n",
        "                if len(ud_features[-1]) == 0:\n",
        "                    print(\"this is weird...\")\n",
        "                last_word, last_symbol = last_word + 1, 0 # Switch to the next word in bert tokenization\n",
        "                ud_features.append([])\n",
        "        else:\n",
        "            if verbose:\n",
        "                print(\"There has been a problem merging\", bert_words, \"with\", ud_tokenization)\n",
        "                print(bert_words[:last_word])\n",
        "            return\n",
        "    ud_features.pop() # Remove the last emtpy features list\n",
        "    return bert_words, ud_features"
      ],
      "metadata": {
        "id": "0EL7V8Q3yyQ5"
      },
      "execution_count": null,
      "outputs": []
    },
    {
      "cell_type": "markdown",
      "source": [
        "### Loading datasets"
      ],
      "metadata": {
        "id": "vE_V9CbtAezo"
      }
    },
    {
      "cell_type": "code",
      "source": [
        "import conllu"
      ],
      "metadata": {
        "id": "kkYUnjLagao6"
      },
      "execution_count": null,
      "outputs": []
    },
    {
      "cell_type": "code",
      "source": [
        "def create_word_by_word_parser(allowed_upos, target_feature, true_value):\n",
        "    return lambda feats: \\\n",
        "        get_data_from_sentence_word_by_word(feats, \\\n",
        "                                            lambda feat: get_data_from_word(feat, allowed_upos, target_feature, true_value))\n",
        "\n",
        "\n",
        "def get_data_from_sentence_word_by_word(feats, word_by_word_function):\n",
        "    word_inds = []\n",
        "    targets = []\n",
        "    for ind in range(len(feats)):\n",
        "        data = word_by_word_function(feats[ind])\n",
        "        if data is not None:\n",
        "            word_inds.append(ind)\n",
        "            targets.append(data)\n",
        "    return word_inds, targets\n",
        "\n",
        "\n",
        "def get_data_from_word(feat, allowed_upos, target_feature, true_value):\n",
        "    if len(feat) > 1: # This is a multiword token, let's skip it for now\n",
        "        return None\n",
        "    feat = feat[0]\n",
        "    if feat[\"upos\"] in allowed_upos and feat[\"feats\"] is not None and feat[\"feats\"].get(target_feature) is not None:\n",
        "        return int(feat[\"feats\"][target_feature] == true_value)\n",
        "    return None"
      ],
      "metadata": {
        "id": "lX3gR7mKUGrH"
      },
      "execution_count": null,
      "outputs": []
    },
    {
      "cell_type": "code",
      "source": [
        "def load_data(dataset_name, TokenMerger, features_extractor, verbose=False):\n",
        "    with open(dataset_name, 'r') as f:\n",
        "        dataset = conllu.parse(f.read())\n",
        "\n",
        "    samples = [[], [], []] # Gather data here, first list contains texts, second contains word indices, third contains labels\n",
        "    failed, total = 0, 0\n",
        "    for sentence in dataset:\n",
        "        total += 1\n",
        "        bert_tokens = tokenizer.tokenize(sentence.metadata[\"text\"])\n",
        "        result = join_parsings(bert_tokens, sentence, TokenMerger, verbose=verbose)\n",
        "        if result is None:\n",
        "            failed += 1\n",
        "            continue\n",
        "        tokens, feats = result\n",
        "        word_inds, targets = features_extractor(feats)\n",
        "\n",
        "        if word_inds: # Let's not add sentences with no features to avoid vain embeddings calculation\n",
        "            samples[0].append(sentence.metadata[\"text\"])\n",
        "            samples[1].append(word_inds)\n",
        "            samples[2].append(targets)\n",
        "\n",
        "\n",
        "    print(failed, \"out of\", total, \"failed\")\n",
        "    data = pd.DataFrame.from_dict({\"text\": samples[0], \"word_ind\": samples[1], \"target\": samples[2]})\n",
        "    return data"
      ],
      "metadata": {
        "id": "BPKdHCB7jlIO"
      },
      "execution_count": null,
      "outputs": []
    },
    {
      "cell_type": "markdown",
      "source": [
        "### Learning the probing classifier"
      ],
      "metadata": {
        "id": "WmIBM_GPKMHH"
      }
    },
    {
      "cell_type": "code",
      "source": [
        "import matplotlib.pyplot as plt\n",
        "import numpy as np\n",
        "from sklearn.linear_model import LogisticRegression\n",
        "from sklearn.metrics import f1_score, accuracy_score\n",
        "from time import time\n",
        "\n",
        "\n",
        "# stacked_train_X = np.stack(train_X)\n",
        "# stacked_val_X = np.stack(val_X)\n",
        "# stacked_test_X = np.stack(test_X)\n",
        "\n",
        "\n",
        "def logreg(X_train, y_train, X_test, y_test):\n",
        "    le = LogisticRegression(tol=0.01, max_iter=1000)\n",
        "    le = le.fit(X_train, y_train)\n",
        "    y_pred = le.predict(X_test)\n",
        "    return f1_score(y_test, y_pred), accuracy_score(y_test, y_pred)\n",
        "\n",
        "\n",
        "def train(\n",
        "    layer,\n",
        "    classifier_func,\n",
        "    stacked_train_X,\n",
        "    train_y,\n",
        "    stacked_test_X,\n",
        "    test_y\n",
        "):\n",
        "    \"\"\"Обучает пробинг-классификатор (функция classifier_func) для слоя layer\"\"\"\n",
        "    X = stacked_train_X[:, layer, :]\n",
        "    y = train_y.to_numpy()\n",
        "    f1, acc = classifier_func(X, y, stacked_test_X[:, layer, :], test_y.to_numpy())\n",
        "    return f1, acc"
      ],
      "metadata": {
        "id": "88mj-0bZFd3h"
      },
      "execution_count": null,
      "outputs": []
    },
    {
      "cell_type": "code",
      "source": [
        "from sklearn.model_selection import train_test_split\n",
        "\n",
        "\n",
        "def word_level_experiment(layers, TokenMerger, data_extractor):\n",
        "    print(\"Loading sentences...\")\n",
        "    french_gender = load_data(\"french_gender.conllu\", TokenMerger, data_extractor)\n",
        "    all_embs = []\n",
        "    all_targets = []\n",
        "    print(\"Getting embeddings...\")\n",
        "    for row in french_gender.index:\n",
        "        embs = np.array(get_word_embs(french_gender.loc[row, \"text\"], french_gender.loc[row, \"word_ind\"], layers, CamembertMergeTokens).cpu())\n",
        "        all_embs.append(embs)\n",
        "        all_targets += french_gender.loc[row, \"target\"]\n",
        "    X = np.concatenate(all_embs, axis=1)\n",
        "    print(\"Got {} layers, {} entries in the dataset\".format(X.shape[0], X.shape[1]))\n",
        "\n",
        "    print(\"Training probing classifier\")\n",
        "    res = []\n",
        "    for layer in range(X.shape[0]):\n",
        "        X_tr, X_te, y_tr, y_te = train_test_split(X[layer], all_targets, train_size=0.7)\n",
        "        res.append(logreg(X_tr, y_tr, X_te, y_te))\n",
        "    \n",
        "    return res\n",
        "    "
      ],
      "metadata": {
        "id": "DW_azLO414r7"
      },
      "execution_count": null,
      "outputs": []
    },
    {
      "cell_type": "markdown",
      "source": [
        "## Эксперименты"
      ],
      "metadata": {
        "id": "4-lQtfPZfT2h"
      }
    },
    {
      "cell_type": "code",
      "source": [
        "parser = create_word_by_word_parser([\"NOUN\", \"VERB\", \"ADJ\"], \"Number\", \"Sing\")\n",
        "print(\"Resulting f-measure and accuracy are: {}, {}\".format(*(word_level_experiment([0], CamembertMergeTokens, parser))[0]))"
      ],
      "metadata": {
        "id": "HPesaQD7wsqV",
        "colab": {
          "base_uri": "https://localhost:8080/"
        },
        "outputId": "1bc45991-6667-4b07-a907-301b04d13317"
      },
      "execution_count": null,
      "outputs": [
        {
          "output_type": "stream",
          "name": "stdout",
          "text": [
            "Loading sentences...\n",
            "38 out of 416 failed\n",
            "Getting embeddings...\n",
            "Got 1 layers, 2700 entries in the dataset\n",
            "Training probing classifier\n",
            "Resulting f-measure and accuracy are: 0.9843621399176954, 0.9765721331689272\n"
          ]
        }
      ]
    },
    {
      "cell_type": "code",
      "source": [
        "fmes = np.array([0.0 for x in range(13)])\n",
        "\n",
        "for x in range(20):\n",
        "    fmes += np.array([x[0] for x in word_level_experiment(list(range(13)), CamembertMergeTokens, parser)])\n",
        "fmes /= 20\n",
        "\n",
        "plt.plot(range(13), fmes)"
      ],
      "metadata": {
        "colab": {
          "base_uri": "https://localhost:8080/",
          "height": 1000
        },
        "id": "nUZNvM5yS1HR",
        "outputId": "983b216e-fadd-4856-da43-602705281788"
      },
      "execution_count": null,
      "outputs": [
        {
          "output_type": "stream",
          "name": "stdout",
          "text": [
            "Loading sentences...\n",
            "38 out of 416 failed\n",
            "Getting embeddings...\n",
            "Got 13 layers, 2700 entries in the dataset\n",
            "Training probing classifier\n",
            "Loading sentences...\n",
            "38 out of 416 failed\n",
            "Getting embeddings...\n",
            "Got 13 layers, 2700 entries in the dataset\n",
            "Training probing classifier\n",
            "Loading sentences...\n",
            "38 out of 416 failed\n",
            "Getting embeddings...\n",
            "Got 13 layers, 2700 entries in the dataset\n",
            "Training probing classifier\n",
            "Loading sentences...\n",
            "38 out of 416 failed\n",
            "Getting embeddings...\n",
            "Got 13 layers, 2700 entries in the dataset\n",
            "Training probing classifier\n",
            "Loading sentences...\n",
            "38 out of 416 failed\n",
            "Getting embeddings...\n",
            "Got 13 layers, 2700 entries in the dataset\n",
            "Training probing classifier\n",
            "Loading sentences...\n",
            "38 out of 416 failed\n",
            "Getting embeddings...\n",
            "Got 13 layers, 2700 entries in the dataset\n",
            "Training probing classifier\n",
            "Loading sentences...\n",
            "38 out of 416 failed\n",
            "Getting embeddings...\n",
            "Got 13 layers, 2700 entries in the dataset\n",
            "Training probing classifier\n",
            "Loading sentences...\n",
            "38 out of 416 failed\n",
            "Getting embeddings...\n",
            "Got 13 layers, 2700 entries in the dataset\n",
            "Training probing classifier\n",
            "Loading sentences...\n",
            "38 out of 416 failed\n",
            "Getting embeddings...\n",
            "Got 13 layers, 2700 entries in the dataset\n",
            "Training probing classifier\n",
            "Loading sentences...\n",
            "38 out of 416 failed\n",
            "Getting embeddings...\n",
            "Got 13 layers, 2700 entries in the dataset\n",
            "Training probing classifier\n",
            "Loading sentences...\n",
            "38 out of 416 failed\n",
            "Getting embeddings...\n",
            "Got 13 layers, 2700 entries in the dataset\n",
            "Training probing classifier\n",
            "Loading sentences...\n",
            "38 out of 416 failed\n",
            "Getting embeddings...\n",
            "Got 13 layers, 2700 entries in the dataset\n",
            "Training probing classifier\n",
            "Loading sentences...\n",
            "38 out of 416 failed\n",
            "Getting embeddings...\n",
            "Got 13 layers, 2700 entries in the dataset\n",
            "Training probing classifier\n",
            "Loading sentences...\n",
            "38 out of 416 failed\n",
            "Getting embeddings...\n",
            "Got 13 layers, 2700 entries in the dataset\n",
            "Training probing classifier\n",
            "Loading sentences...\n",
            "38 out of 416 failed\n",
            "Getting embeddings...\n",
            "Got 13 layers, 2700 entries in the dataset\n",
            "Training probing classifier\n",
            "Loading sentences...\n",
            "38 out of 416 failed\n",
            "Getting embeddings...\n",
            "Got 13 layers, 2700 entries in the dataset\n",
            "Training probing classifier\n",
            "Loading sentences...\n",
            "38 out of 416 failed\n",
            "Getting embeddings...\n",
            "Got 13 layers, 2700 entries in the dataset\n",
            "Training probing classifier\n",
            "Loading sentences...\n",
            "38 out of 416 failed\n",
            "Getting embeddings...\n",
            "Got 13 layers, 2700 entries in the dataset\n",
            "Training probing classifier\n",
            "Loading sentences...\n",
            "38 out of 416 failed\n",
            "Getting embeddings...\n",
            "Got 13 layers, 2700 entries in the dataset\n",
            "Training probing classifier\n",
            "Loading sentences...\n",
            "38 out of 416 failed\n",
            "Getting embeddings...\n",
            "Got 13 layers, 2700 entries in the dataset\n",
            "Training probing classifier\n"
          ]
        },
        {
          "output_type": "execute_result",
          "data": {
            "text/plain": [
              "[<matplotlib.lines.Line2D at 0x7f3e33354400>]"
            ]
          },
          "metadata": {},
          "execution_count": 38
        },
        {
          "output_type": "display_data",
          "data": {
            "text/plain": [
              "<Figure size 432x288 with 1 Axes>"
            ],
            "image/png": "[encoded data removed]"
          },
          "metadata": {
            "needs_background": "light"
          }
        }
      ]
    },
    {
      "cell_type": "code",
      "source": [],
      "metadata": {
        "id": "rA3uKEQ4f3Il"
      },
      "execution_count": null,
      "outputs": []
    }
  ]
}