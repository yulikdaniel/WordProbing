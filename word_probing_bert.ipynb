{
  "nbformat": 4,
  "nbformat_minor": 0,
  "metadata": {
    "accelerator": "GPU",
    "colab": {
      "provenance": []
    },
    "kernelspec": {
      "display_name": "Python 3",
      "language": "python",
      "name": "python3"
    },
    "language_info": {
      "codemirror_mode": {
        "name": "ipython",
        "version": 3
      },
      "file_extension": ".py",
      "mimetype": "text/x-python",
      "name": "python",
      "nbconvert_exporter": "python",
      "pygments_lexer": "ipython3",
      "version": "3.8.5"
    },
    "widgets": {
      "application/vnd.jupyter.widget-state+json": {
        "a7d75ba21e44459f95f461ffdd9ff7e6": {
          "model_module": "@jupyter-widgets/controls",
          "model_name": "HBoxModel",
          "model_module_version": "1.5.0",
          "state": {
            "_dom_classes": [],
            "_model_module": "@jupyter-widgets/controls",
            "_model_module_version": "1.5.0",
            "_model_name": "HBoxModel",
            "_view_count": null,
            "_view_module": "@jupyter-widgets/controls",
            "_view_module_version": "1.5.0",
            "_view_name": "HBoxView",
            "box_style": "",
            "children": [
              "IPY_MODEL_c300d7c207ad4e7893b3457d4321bb77",
              "IPY_MODEL_c7ece82e4a9b41089fd21646ef4f0951",
              "IPY_MODEL_7d3a3fcc9da74fdda35f6de194c46f2c"
            ],
            "layout": "IPY_MODEL_68bf3c02247f4ff4b8c0bc59e0f94b30"
          }
        },
        "c300d7c207ad4e7893b3457d4321bb77": {
          "model_module": "@jupyter-widgets/controls",
          "model_name": "HTMLModel",
          "model_module_version": "1.5.0",
          "state": {
            "_dom_classes": [],
            "_model_module": "@jupyter-widgets/controls",
            "_model_module_version": "1.5.0",
            "_model_name": "HTMLModel",
            "_view_count": null,
            "_view_module": "@jupyter-widgets/controls",
            "_view_module_version": "1.5.0",
            "_view_name": "HTMLView",
            "description": "",
            "description_tooltip": null,
            "layout": "IPY_MODEL_91aee5cdd0be4e16b268bbf0089707b3",
            "placeholder": "​",
            "style": "IPY_MODEL_bdbf9472813d45ecab03568701718b6d",
            "value": "Downloading (…)tencepiece.bpe.model: 100%"
          }
        },
        "c7ece82e4a9b41089fd21646ef4f0951": {
          "model_module": "@jupyter-widgets/controls",
          "model_name": "FloatProgressModel",
          "model_module_version": "1.5.0",
          "state": {
            "_dom_classes": [],
            "_model_module": "@jupyter-widgets/controls",
            "_model_module_version": "1.5.0",
            "_model_name": "FloatProgressModel",
            "_view_count": null,
            "_view_module": "@jupyter-widgets/controls",
            "_view_module_version": "1.5.0",
            "_view_name": "ProgressView",
            "bar_style": "success",
            "description": "",
            "description_tooltip": null,
            "layout": "IPY_MODEL_70d93b2baefa4c2f9bb2d2b594d110b1",
            "max": 810912,
            "min": 0,
            "orientation": "horizontal",
            "style": "IPY_MODEL_b6888776f33940b794c1904fa45b4b13",
            "value": 810912
          }
        },
        "7d3a3fcc9da74fdda35f6de194c46f2c": {
          "model_module": "@jupyter-widgets/controls",
          "model_name": "HTMLModel",
          "model_module_version": "1.5.0",
          "state": {
            "_dom_classes": [],
            "_model_module": "@jupyter-widgets/controls",
            "_model_module_version": "1.5.0",
            "_model_name": "HTMLModel",
            "_view_count": null,
            "_view_module": "@jupyter-widgets/controls",
            "_view_module_version": "1.5.0",
            "_view_name": "HTMLView",
            "description": "",
            "description_tooltip": null,
            "layout": "IPY_MODEL_5b472819dd35415086065956267ed961",
            "placeholder": "​",
            "style": "IPY_MODEL_a9e604b471e443c881d85d35d615e37b",
            "value": " 811k/811k [00:00&lt;00:00, 2.63MB/s]"
          }
        },
        "68bf3c02247f4ff4b8c0bc59e0f94b30": {
          "model_module": "@jupyter-widgets/base",
          "model_name": "LayoutModel",
          "model_module_version": "1.2.0",
          "state": {
            "_model_module": "@jupyter-widgets/base",
            "_model_module_version": "1.2.0",
            "_model_name": "LayoutModel",
            "_view_count": null,
            "_view_module": "@jupyter-widgets/base",
            "_view_module_version": "1.2.0",
            "_view_name": "LayoutView",
            "align_content": null,
            "align_items": null,
            "align_self": null,
            "border": null,
            "bottom": null,
            "display": null,
            "flex": null,
            "flex_flow": null,
            "grid_area": null,
            "grid_auto_columns": null,
            "grid_auto_flow": null,
            "grid_auto_rows": null,
            "grid_column": null,
            "grid_gap": null,
            "grid_row": null,
            "grid_template_areas": null,
            "grid_template_columns": null,
            "grid_template_rows": null,
            "height": null,
            "justify_content": null,
            "justify_items": null,
            "left": null,
            "margin": null,
            "max_height": null,
            "max_width": null,
            "min_height": null,
            "min_width": null,
            "object_fit": null,
            "object_position": null,
            "order": null,
            "overflow": null,
            "overflow_x": null,
            "overflow_y": null,
            "padding": null,
            "right": null,
            "top": null,
            "visibility": null,
            "width": null
          }
        },
        "91aee5cdd0be4e16b268bbf0089707b3": {
          "model_module": "@jupyter-widgets/base",
          "model_name": "LayoutModel",
          "model_module_version": "1.2.0",
          "state": {
            "_model_module": "@jupyter-widgets/base",
            "_model_module_version": "1.2.0",
            "_model_name": "LayoutModel",
            "_view_count": null,
            "_view_module": "@jupyter-widgets/base",
            "_view_module_version": "1.2.0",
            "_view_name": "LayoutView",
            "align_content": null,
            "align_items": null,
            "align_self": null,
            "border": null,
            "bottom": null,
            "display": null,
            "flex": null,
            "flex_flow": null,
            "grid_area": null,
            "grid_auto_columns": null,
            "grid_auto_flow": null,
            "grid_auto_rows": null,
            "grid_column": null,
            "grid_gap": null,
            "grid_row": null,
            "grid_template_areas": null,
            "grid_template_columns": null,
            "grid_template_rows": null,
            "height": null,
            "justify_content": null,
            "justify_items": null,
            "left": null,
            "margin": null,
            "max_height": null,
            "max_width": null,
            "min_height": null,
            "min_width": null,
            "object_fit": null,
            "object_position": null,
            "order": null,
            "overflow": null,
            "overflow_x": null,
            "overflow_y": null,
            "padding": null,
            "right": null,
            "top": null,
            "visibility": null,
            "width": null
          }
        },
        "bdbf9472813d45ecab03568701718b6d": {
          "model_module": "@jupyter-widgets/controls",
          "model_name": "DescriptionStyleModel",
          "model_module_version": "1.5.0",
          "state": {
            "_model_module": "@jupyter-widgets/controls",
            "_model_module_version": "1.5.0",
            "_model_name": "DescriptionStyleModel",
            "_view_count": null,
            "_view_module": "@jupyter-widgets/base",
            "_view_module_version": "1.2.0",
            "_view_name": "StyleView",
            "description_width": ""
          }
        },
        "70d93b2baefa4c2f9bb2d2b594d110b1": {
          "model_module": "@jupyter-widgets/base",
          "model_name": "LayoutModel",
          "model_module_version": "1.2.0",
          "state": {
            "_model_module": "@jupyter-widgets/base",
            "_model_module_version": "1.2.0",
            "_model_name": "LayoutModel",
            "_view_count": null,
            "_view_module": "@jupyter-widgets/base",
            "_view_module_version": "1.2.0",
            "_view_name": "LayoutView",
            "align_content": null,
            "align_items": null,
            "align_self": null,
            "border": null,
            "bottom": null,
            "display": null,
            "flex": null,
            "flex_flow": null,
            "grid_area": null,
            "grid_auto_columns": null,
            "grid_auto_flow": null,
            "grid_auto_rows": null,
            "grid_column": null,
            "grid_gap": null,
            "grid_row": null,
            "grid_template_areas": null,
            "grid_template_columns": null,
            "grid_template_rows": null,
            "height": null,
            "justify_content": null,
            "justify_items": null,
            "left": null,
            "margin": null,
            "max_height": null,
            "max_width": null,
            "min_height": null,
            "min_width": null,
            "object_fit": null,
            "object_position": null,
            "order": null,
            "overflow": null,
            "overflow_x": null,
            "overflow_y": null,
            "padding": null,
            "right": null,
            "top": null,
            "visibility": null,
            "width": null
          }
        },
        "b6888776f33940b794c1904fa45b4b13": {
          "model_module": "@jupyter-widgets/controls",
          "model_name": "ProgressStyleModel",
          "model_module_version": "1.5.0",
          "state": {
            "_model_module": "@jupyter-widgets/controls",
            "_model_module_version": "1.5.0",
            "_model_name": "ProgressStyleModel",
            "_view_count": null,
            "_view_module": "@jupyter-widgets/base",
            "_view_module_version": "1.2.0",
            "_view_name": "StyleView",
            "bar_color": null,
            "description_width": ""
          }
        },
        "5b472819dd35415086065956267ed961": {
          "model_module": "@jupyter-widgets/base",
          "model_name": "LayoutModel",
          "model_module_version": "1.2.0",
          "state": {
            "_model_module": "@jupyter-widgets/base",
            "_model_module_version": "1.2.0",
            "_model_name": "LayoutModel",
            "_view_count": null,
            "_view_module": "@jupyter-widgets/base",
            "_view_module_version": "1.2.0",
            "_view_name": "LayoutView",
            "align_content": null,
            "align_items": null,
            "align_self": null,
            "border": null,
            "bottom": null,
            "display": null,
            "flex": null,
            "flex_flow": null,
            "grid_area": null,
            "grid_auto_columns": null,
            "grid_auto_flow": null,
            "grid_auto_rows": null,
            "grid_column": null,
            "grid_gap": null,
            "grid_row": null,
            "grid_template_areas": null,
            "grid_template_columns": null,
            "grid_template_rows": null,
            "height": null,
            "justify_content": null,
            "justify_items": null,
            "left": null,
            "margin": null,
            "max_height": null,
            "max_width": null,
            "min_height": null,
            "min_width": null,
            "object_fit": null,
            "object_position": null,
            "order": null,
            "overflow": null,
            "overflow_x": null,
            "overflow_y": null,
            "padding": null,
            "right": null,
            "top": null,
            "visibility": null,
            "width": null
          }
        },
        "a9e604b471e443c881d85d35d615e37b": {
          "model_module": "@jupyter-widgets/controls",
          "model_name": "DescriptionStyleModel",
          "model_module_version": "1.5.0",
          "state": {
            "_model_module": "@jupyter-widgets/controls",
            "_model_module_version": "1.5.0",
            "_model_name": "DescriptionStyleModel",
            "_view_count": null,
            "_view_module": "@jupyter-widgets/base",
            "_view_module_version": "1.2.0",
            "_view_name": "StyleView",
            "description_width": ""
          }
        },
        "aea8f9dbd2b84c02a64df70edbe1fff0": {
          "model_module": "@jupyter-widgets/controls",
          "model_name": "HBoxModel",
          "model_module_version": "1.5.0",
          "state": {
            "_dom_classes": [],
            "_model_module": "@jupyter-widgets/controls",
            "_model_module_version": "1.5.0",
            "_model_name": "HBoxModel",
            "_view_count": null,
            "_view_module": "@jupyter-widgets/controls",
            "_view_module_version": "1.5.0",
            "_view_name": "HBoxView",
            "box_style": "",
            "children": [
              "IPY_MODEL_fcef3e1637dc4edaae702a0f3294d264",
              "IPY_MODEL_a788d4ecc4ca45f197e7235e63073de6",
              "IPY_MODEL_004846aea8724af89de472e28594b0c2"
            ],
            "layout": "IPY_MODEL_04da6137214b41ae904e875c5726813c"
          }
        },
        "fcef3e1637dc4edaae702a0f3294d264": {
          "model_module": "@jupyter-widgets/controls",
          "model_name": "HTMLModel",
          "model_module_version": "1.5.0",
          "state": {
            "_dom_classes": [],
            "_model_module": "@jupyter-widgets/controls",
            "_model_module_version": "1.5.0",
            "_model_name": "HTMLModel",
            "_view_count": null,
            "_view_module": "@jupyter-widgets/controls",
            "_view_module_version": "1.5.0",
            "_view_name": "HTMLView",
            "description": "",
            "description_tooltip": null,
            "layout": "IPY_MODEL_e36ab6317e73411eb8456e16c53a57a0",
            "placeholder": "​",
            "style": "IPY_MODEL_dd5afd73fc4942beae2d099f58711b75",
            "value": "Downloading (…)lve/main/config.json: 100%"
          }
        },
        "a788d4ecc4ca45f197e7235e63073de6": {
          "model_module": "@jupyter-widgets/controls",
          "model_name": "FloatProgressModel",
          "model_module_version": "1.5.0",
          "state": {
            "_dom_classes": [],
            "_model_module": "@jupyter-widgets/controls",
            "_model_module_version": "1.5.0",
            "_model_name": "FloatProgressModel",
            "_view_count": null,
            "_view_module": "@jupyter-widgets/controls",
            "_view_module_version": "1.5.0",
            "_view_name": "ProgressView",
            "bar_style": "success",
            "description": "",
            "description_tooltip": null,
            "layout": "IPY_MODEL_638a4c69574d4f148a5042c1e6a2d80c",
            "max": 508,
            "min": 0,
            "orientation": "horizontal",
            "style": "IPY_MODEL_00e2bab923474cdc84916fc68e6a4d5e",
            "value": 508
          }
        },
        "004846aea8724af89de472e28594b0c2": {
          "model_module": "@jupyter-widgets/controls",
          "model_name": "HTMLModel",
          "model_module_version": "1.5.0",
          "state": {
            "_dom_classes": [],
            "_model_module": "@jupyter-widgets/controls",
            "_model_module_version": "1.5.0",
            "_model_name": "HTMLModel",
            "_view_count": null,
            "_view_module": "@jupyter-widgets/controls",
            "_view_module_version": "1.5.0",
            "_view_name": "HTMLView",
            "description": "",
            "description_tooltip": null,
            "layout": "IPY_MODEL_a902d179b7d341a99691e65bf13ea953",
            "placeholder": "​",
            "style": "IPY_MODEL_62ee7b0027874cd1ac6695528f3ca861",
            "value": " 508/508 [00:00&lt;00:00, 19.0kB/s]"
          }
        },
        "04da6137214b41ae904e875c5726813c": {
          "model_module": "@jupyter-widgets/base",
          "model_name": "LayoutModel",
          "model_module_version": "1.2.0",
          "state": {
            "_model_module": "@jupyter-widgets/base",
            "_model_module_version": "1.2.0",
            "_model_name": "LayoutModel",
            "_view_count": null,
            "_view_module": "@jupyter-widgets/base",
            "_view_module_version": "1.2.0",
            "_view_name": "LayoutView",
            "align_content": null,
            "align_items": null,
            "align_self": null,
            "border": null,
            "bottom": null,
            "display": null,
            "flex": null,
            "flex_flow": null,
            "grid_area": null,
            "grid_auto_columns": null,
            "grid_auto_flow": null,
            "grid_auto_rows": null,
            "grid_column": null,
            "grid_gap": null,
            "grid_row": null,
            "grid_template_areas": null,
            "grid_template_columns": null,
            "grid_template_rows": null,
            "height": null,
            "justify_content": null,
            "justify_items": null,
            "left": null,
            "margin": null,
            "max_height": null,
            "max_width": null,
            "min_height": null,
            "min_width": null,
            "object_fit": null,
            "object_position": null,
            "order": null,
            "overflow": null,
            "overflow_x": null,
            "overflow_y": null,
            "padding": null,
            "right": null,
            "top": null,
            "visibility": null,
            "width": null
          }
        },
        "e36ab6317e73411eb8456e16c53a57a0": {
          "model_module": "@jupyter-widgets/base",
          "model_name": "LayoutModel",
          "model_module_version": "1.2.0",
          "state": {
            "_model_module": "@jupyter-widgets/base",
            "_model_module_version": "1.2.0",
            "_model_name": "LayoutModel",
            "_view_count": null,
            "_view_module": "@jupyter-widgets/base",
            "_view_module_version": "1.2.0",
            "_view_name": "LayoutView",
            "align_content": null,
            "align_items": null,
            "align_self": null,
            "border": null,
            "bottom": null,
            "display": null,
            "flex": null,
            "flex_flow": null,
            "grid_area": null,
            "grid_auto_columns": null,
            "grid_auto_flow": null,
            "grid_auto_rows": null,
            "grid_column": null,
            "grid_gap": null,
            "grid_row": null,
            "grid_template_areas": null,
            "grid_template_columns": null,
            "grid_template_rows": null,
            "height": null,
            "justify_content": null,
            "justify_items": null,
            "left": null,
            "margin": null,
            "max_height": null,
            "max_width": null,
            "min_height": null,
            "min_width": null,
            "object_fit": null,
            "object_position": null,
            "order": null,
            "overflow": null,
            "overflow_x": null,
            "overflow_y": null,
            "padding": null,
            "right": null,
            "top": null,
            "visibility": null,
            "width": null
          }
        },
        "dd5afd73fc4942beae2d099f58711b75": {
          "model_module": "@jupyter-widgets/controls",
          "model_name": "DescriptionStyleModel",
          "model_module_version": "1.5.0",
          "state": {
            "_model_module": "@jupyter-widgets/controls",
            "_model_module_version": "1.5.0",
            "_model_name": "DescriptionStyleModel",
            "_view_count": null,
            "_view_module": "@jupyter-widgets/base",
            "_view_module_version": "1.2.0",
            "_view_name": "StyleView",
            "description_width": ""
          }
        },
        "638a4c69574d4f148a5042c1e6a2d80c": {
          "model_module": "@jupyter-widgets/base",
          "model_name": "LayoutModel",
          "model_module_version": "1.2.0",
          "state": {
            "_model_module": "@jupyter-widgets/base",
            "_model_module_version": "1.2.0",
            "_model_name": "LayoutModel",
            "_view_count": null,
            "_view_module": "@jupyter-widgets/base",
            "_view_module_version": "1.2.0",
            "_view_name": "LayoutView",
            "align_content": null,
            "align_items": null,
            "align_self": null,
            "border": null,
            "bottom": null,
            "display": null,
            "flex": null,
            "flex_flow": null,
            "grid_area": null,
            "grid_auto_columns": null,
            "grid_auto_flow": null,
            "grid_auto_rows": null,
            "grid_column": null,
            "grid_gap": null,
            "grid_row": null,
            "grid_template_areas": null,
            "grid_template_columns": null,
            "grid_template_rows": null,
            "height": null,
            "justify_content": null,
            "justify_items": null,
            "left": null,
            "margin": null,
            "max_height": null,
            "max_width": null,
            "min_height": null,
            "min_width": null,
            "object_fit": null,
            "object_position": null,
            "order": null,
            "overflow": null,
            "overflow_x": null,
            "overflow_y": null,
            "padding": null,
            "right": null,
            "top": null,
            "visibility": null,
            "width": null
          }
        },
        "00e2bab923474cdc84916fc68e6a4d5e": {
          "model_module": "@jupyter-widgets/controls",
          "model_name": "ProgressStyleModel",
          "model_module_version": "1.5.0",
          "state": {
            "_model_module": "@jupyter-widgets/controls",
            "_model_module_version": "1.5.0",
            "_model_name": "ProgressStyleModel",
            "_view_count": null,
            "_view_module": "@jupyter-widgets/base",
            "_view_module_version": "1.2.0",
            "_view_name": "StyleView",
            "bar_color": null,
            "description_width": ""
          }
        },
        "a902d179b7d341a99691e65bf13ea953": {
          "model_module": "@jupyter-widgets/base",
          "model_name": "LayoutModel",
          "model_module_version": "1.2.0",
          "state": {
            "_model_module": "@jupyter-widgets/base",
            "_model_module_version": "1.2.0",
            "_model_name": "LayoutModel",
            "_view_count": null,
            "_view_module": "@jupyter-widgets/base",
            "_view_module_version": "1.2.0",
            "_view_name": "LayoutView",
            "align_content": null,
            "align_items": null,
            "align_self": null,
            "border": null,
            "bottom": null,
            "display": null,
            "flex": null,
            "flex_flow": null,
            "grid_area": null,
            "grid_auto_columns": null,
            "grid_auto_flow": null,
            "grid_auto_rows": null,
            "grid_column": null,
            "grid_gap": null,
            "grid_row": null,
            "grid_template_areas": null,
            "grid_template_columns": null,
            "grid_template_rows": null,
            "height": null,
            "justify_content": null,
            "justify_items": null,
            "left": null,
            "margin": null,
            "max_height": null,
            "max_width": null,
            "min_height": null,
            "min_width": null,
            "object_fit": null,
            "object_position": null,
            "order": null,
            "overflow": null,
            "overflow_x": null,
            "overflow_y": null,
            "padding": null,
            "right": null,
            "top": null,
            "visibility": null,
            "width": null
          }
        },
        "62ee7b0027874cd1ac6695528f3ca861": {
          "model_module": "@jupyter-widgets/controls",
          "model_name": "DescriptionStyleModel",
          "model_module_version": "1.5.0",
          "state": {
            "_model_module": "@jupyter-widgets/controls",
            "_model_module_version": "1.5.0",
            "_model_name": "DescriptionStyleModel",
            "_view_count": null,
            "_view_module": "@jupyter-widgets/base",
            "_view_module_version": "1.2.0",
            "_view_name": "StyleView",
            "description_width": ""
          }
        },
        "479332338c2b49a3aa786de4dff3824f": {
          "model_module": "@jupyter-widgets/controls",
          "model_name": "HBoxModel",
          "model_module_version": "1.5.0",
          "state": {
            "_dom_classes": [],
            "_model_module": "@jupyter-widgets/controls",
            "_model_module_version": "1.5.0",
            "_model_name": "HBoxModel",
            "_view_count": null,
            "_view_module": "@jupyter-widgets/controls",
            "_view_module_version": "1.5.0",
            "_view_name": "HBoxView",
            "box_style": "",
            "children": [
              "IPY_MODEL_8f1384137f5140c680315ff8c837a04d",
              "IPY_MODEL_b5d37243513f4d009acce7f1705c60cf",
              "IPY_MODEL_926a1979de2f45ec90f4560b7f879873"
            ],
            "layout": "IPY_MODEL_3828d73a7a5c4f59bb4350892bd441d4"
          }
        },
        "8f1384137f5140c680315ff8c837a04d": {
          "model_module": "@jupyter-widgets/controls",
          "model_name": "HTMLModel",
          "model_module_version": "1.5.0",
          "state": {
            "_dom_classes": [],
            "_model_module": "@jupyter-widgets/controls",
            "_model_module_version": "1.5.0",
            "_model_name": "HTMLModel",
            "_view_count": null,
            "_view_module": "@jupyter-widgets/controls",
            "_view_module_version": "1.5.0",
            "_view_name": "HTMLView",
            "description": "",
            "description_tooltip": null,
            "layout": "IPY_MODEL_df24b503ca824e4fb5692c0034b6f348",
            "placeholder": "​",
            "style": "IPY_MODEL_f980ae91b76f43eb8360815ee2e45ac4",
            "value": "Downloading pytorch_model.bin: 100%"
          }
        },
        "b5d37243513f4d009acce7f1705c60cf": {
          "model_module": "@jupyter-widgets/controls",
          "model_name": "FloatProgressModel",
          "model_module_version": "1.5.0",
          "state": {
            "_dom_classes": [],
            "_model_module": "@jupyter-widgets/controls",
            "_model_module_version": "1.5.0",
            "_model_name": "FloatProgressModel",
            "_view_count": null,
            "_view_module": "@jupyter-widgets/controls",
            "_view_module_version": "1.5.0",
            "_view_name": "ProgressView",
            "bar_style": "success",
            "description": "",
            "description_tooltip": null,
            "layout": "IPY_MODEL_2273eaf7b4f9497ab304dfbe305439d1",
            "max": 445032417,
            "min": 0,
            "orientation": "horizontal",
            "style": "IPY_MODEL_e66082f5acff4475838d35fa5f2aee0b",
            "value": 445032417
          }
        },
        "926a1979de2f45ec90f4560b7f879873": {
          "model_module": "@jupyter-widgets/controls",
          "model_name": "HTMLModel",
          "model_module_version": "1.5.0",
          "state": {
            "_dom_classes": [],
            "_model_module": "@jupyter-widgets/controls",
            "_model_module_version": "1.5.0",
            "_model_name": "HTMLModel",
            "_view_count": null,
            "_view_module": "@jupyter-widgets/controls",
            "_view_module_version": "1.5.0",
            "_view_name": "HTMLView",
            "description": "",
            "description_tooltip": null,
            "layout": "IPY_MODEL_0a50c182038a410bb148bbf9c4f5567c",
            "placeholder": "​",
            "style": "IPY_MODEL_4ec06e4afc694542ba2e8e8488bf6288",
            "value": " 445M/445M [00:02&lt;00:00, 244MB/s]"
          }
        },
        "3828d73a7a5c4f59bb4350892bd441d4": {
          "model_module": "@jupyter-widgets/base",
          "model_name": "LayoutModel",
          "model_module_version": "1.2.0",
          "state": {
            "_model_module": "@jupyter-widgets/base",
            "_model_module_version": "1.2.0",
            "_model_name": "LayoutModel",
            "_view_count": null,
            "_view_module": "@jupyter-widgets/base",
            "_view_module_version": "1.2.0",
            "_view_name": "LayoutView",
            "align_content": null,
            "align_items": null,
            "align_self": null,
            "border": null,
            "bottom": null,
            "display": null,
            "flex": null,
            "flex_flow": null,
            "grid_area": null,
            "grid_auto_columns": null,
            "grid_auto_flow": null,
            "grid_auto_rows": null,
            "grid_column": null,
            "grid_gap": null,
            "grid_row": null,
            "grid_template_areas": null,
            "grid_template_columns": null,
            "grid_template_rows": null,
            "height": null,
            "justify_content": null,
            "justify_items": null,
            "left": null,
            "margin": null,
            "max_height": null,
            "max_width": null,
            "min_height": null,
            "min_width": null,
            "object_fit": null,
            "object_position": null,
            "order": null,
            "overflow": null,
            "overflow_x": null,
            "overflow_y": null,
            "padding": null,
            "right": null,
            "top": null,
            "visibility": null,
            "width": null
          }
        },
        "df24b503ca824e4fb5692c0034b6f348": {
          "model_module": "@jupyter-widgets/base",
          "model_name": "LayoutModel",
          "model_module_version": "1.2.0",
          "state": {
            "_model_module": "@jupyter-widgets/base",
            "_model_module_version": "1.2.0",
            "_model_name": "LayoutModel",
            "_view_count": null,
            "_view_module": "@jupyter-widgets/base",
            "_view_module_version": "1.2.0",
            "_view_name": "LayoutView",
            "align_content": null,
            "align_items": null,
            "align_self": null,
            "border": null,
            "bottom": null,
            "display": null,
            "flex": null,
            "flex_flow": null,
            "grid_area": null,
            "grid_auto_columns": null,
            "grid_auto_flow": null,
            "grid_auto_rows": null,
            "grid_column": null,
            "grid_gap": null,
            "grid_row": null,
            "grid_template_areas": null,
            "grid_template_columns": null,
            "grid_template_rows": null,
            "height": null,
            "justify_content": null,
            "justify_items": null,
            "left": null,
            "margin": null,
            "max_height": null,
            "max_width": null,
            "min_height": null,
            "min_width": null,
            "object_fit": null,
            "object_position": null,
            "order": null,
            "overflow": null,
            "overflow_x": null,
            "overflow_y": null,
            "padding": null,
            "right": null,
            "top": null,
            "visibility": null,
            "width": null
          }
        },
        "f980ae91b76f43eb8360815ee2e45ac4": {
          "model_module": "@jupyter-widgets/controls",
          "model_name": "DescriptionStyleModel",
          "model_module_version": "1.5.0",
          "state": {
            "_model_module": "@jupyter-widgets/controls",
            "_model_module_version": "1.5.0",
            "_model_name": "DescriptionStyleModel",
            "_view_count": null,
            "_view_module": "@jupyter-widgets/base",
            "_view_module_version": "1.2.0",
            "_view_name": "StyleView",
            "description_width": ""
          }
        },
        "2273eaf7b4f9497ab304dfbe305439d1": {
          "model_module": "@jupyter-widgets/base",
          "model_name": "LayoutModel",
          "model_module_version": "1.2.0",
          "state": {
            "_model_module": "@jupyter-widgets/base",
            "_model_module_version": "1.2.0",
            "_model_name": "LayoutModel",
            "_view_count": null,
            "_view_module": "@jupyter-widgets/base",
            "_view_module_version": "1.2.0",
            "_view_name": "LayoutView",
            "align_content": null,
            "align_items": null,
            "align_self": null,
            "border": null,
            "bottom": null,
            "display": null,
            "flex": null,
            "flex_flow": null,
            "grid_area": null,
            "grid_auto_columns": null,
            "grid_auto_flow": null,
            "grid_auto_rows": null,
            "grid_column": null,
            "grid_gap": null,
            "grid_row": null,
            "grid_template_areas": null,
            "grid_template_columns": null,
            "grid_template_rows": null,
            "height": null,
            "justify_content": null,
            "justify_items": null,
            "left": null,
            "margin": null,
            "max_height": null,
            "max_width": null,
            "min_height": null,
            "min_width": null,
            "object_fit": null,
            "object_position": null,
            "order": null,
            "overflow": null,
            "overflow_x": null,
            "overflow_y": null,
            "padding": null,
            "right": null,
            "top": null,
            "visibility": null,
            "width": null
          }
        },
        "e66082f5acff4475838d35fa5f2aee0b": {
          "model_module": "@jupyter-widgets/controls",
          "model_name": "ProgressStyleModel",
          "model_module_version": "1.5.0",
          "state": {
            "_model_module": "@jupyter-widgets/controls",
            "_model_module_version": "1.5.0",
            "_model_name": "ProgressStyleModel",
            "_view_count": null,
            "_view_module": "@jupyter-widgets/base",
            "_view_module_version": "1.2.0",
            "_view_name": "StyleView",
            "bar_color": null,
            "description_width": ""
          }
        },
        "0a50c182038a410bb148bbf9c4f5567c": {
          "model_module": "@jupyter-widgets/base",
          "model_name": "LayoutModel",
          "model_module_version": "1.2.0",
          "state": {
            "_model_module": "@jupyter-widgets/base",
            "_model_module_version": "1.2.0",
            "_model_name": "LayoutModel",
            "_view_count": null,
            "_view_module": "@jupyter-widgets/base",
            "_view_module_version": "1.2.0",
            "_view_name": "LayoutView",
            "align_content": null,
            "align_items": null,
            "align_self": null,
            "border": null,
            "bottom": null,
            "display": null,
            "flex": null,
            "flex_flow": null,
            "grid_area": null,
            "grid_auto_columns": null,
            "grid_auto_flow": null,
            "grid_auto_rows": null,
            "grid_column": null,
            "grid_gap": null,
            "grid_row": null,
            "grid_template_areas": null,
            "grid_template_columns": null,
            "grid_template_rows": null,
            "height": null,
            "justify_content": null,
            "justify_items": null,
            "left": null,
            "margin": null,
            "max_height": null,
            "max_width": null,
            "min_height": null,
            "min_width": null,
            "object_fit": null,
            "object_position": null,
            "order": null,
            "overflow": null,
            "overflow_x": null,
            "overflow_y": null,
            "padding": null,
            "right": null,
            "top": null,
            "visibility": null,
            "width": null
          }
        },
        "4ec06e4afc694542ba2e8e8488bf6288": {
          "model_module": "@jupyter-widgets/controls",
          "model_name": "DescriptionStyleModel",
          "model_module_version": "1.5.0",
          "state": {
            "_model_module": "@jupyter-widgets/controls",
            "_model_module_version": "1.5.0",
            "_model_name": "DescriptionStyleModel",
            "_view_count": null,
            "_view_module": "@jupyter-widgets/base",
            "_view_module_version": "1.2.0",
            "_view_name": "StyleView",
            "description_width": ""
          }
        }
      }
    },
    "gpuClass": "premium"
  },
  "cells": [
    {
      "cell_type": "markdown",
      "source": [
        "**Блокнот по проведению word-level probing экспериментов**"
      ],
      "metadata": {
        "id": "6vCc6R7HGVRR"
      }
    },
    {
      "cell_type": "code",
      "metadata": {
        "id": "iz6qr5iC6jd-",
        "colab": {
          "base_uri": "https://localhost:8080/"
        },
        "outputId": "af8112a3-e6b2-4c46-803c-1701f3f48591"
      },
      "source": [
        "!pip --quiet install transformers sentencepiece conllu"
      ],
      "execution_count": null,
      "outputs": [
        {
          "output_type": "stream",
          "name": "stdout",
          "text": [
            "\u001b[2K     \u001b[90m━━━━━━━━━━━━━━━━━━━━━━━━━━━━━━━━━━━━━━━━\u001b[0m \u001b[32m6.8/6.8 MB\u001b[0m \u001b[31m25.1 MB/s\u001b[0m eta \u001b[36m0:00:00\u001b[0m\n",
            "\u001b[2K     \u001b[90m━━━━━━━━━━━━━━━━━━━━━━━━━━━━━━━━━━━━━━━━\u001b[0m \u001b[32m1.3/1.3 MB\u001b[0m \u001b[31m24.7 MB/s\u001b[0m eta \u001b[36m0:00:00\u001b[0m\n",
            "\u001b[2K     \u001b[90m━━━━━━━━━━━━━━━━━━━━━━━━━━━━━━━━━━━━━━━\u001b[0m \u001b[32m199.8/199.8 KB\u001b[0m \u001b[31m6.8 MB/s\u001b[0m eta \u001b[36m0:00:00\u001b[0m\n",
            "\u001b[2K     \u001b[90m━━━━━━━━━━━━━━━━━━━━━━━━━━━━━━━━━━━━━━━━\u001b[0m \u001b[32m7.6/7.6 MB\u001b[0m \u001b[31m34.2 MB/s\u001b[0m eta \u001b[36m0:00:00\u001b[0m\n",
            "\u001b[?25h"
          ]
        }
      ]
    },
    {
      "cell_type": "code",
      "source": [
        "!wget https://raw.githubusercontent.com/UniversalDependencies/UD_French-GSD/master/fr_gsd-ud-test.conllu -O french_gender.conllu"
      ],
      "metadata": {
        "colab": {
          "base_uri": "https://localhost:8080/"
        },
        "id": "XJ2KUZel6vWw",
        "outputId": "4804eaee-4e65-45c4-ba9d-bdb4e6b0dad1"
      },
      "execution_count": null,
      "outputs": [
        {
          "output_type": "stream",
          "name": "stdout",
          "text": [
            "--2023-03-28 14:41:33--  https://raw.githubusercontent.com/UniversalDependencies/UD_French-GSD/master/fr_gsd-ud-test.conllu\n",
            "Resolving raw.githubusercontent.com (raw.githubusercontent.com)... 185.199.108.133, 185.199.109.133, 185.199.110.133, ...\n",
            "Connecting to raw.githubusercontent.com (raw.githubusercontent.com)|185.199.108.133|:443... connected.\n",
            "HTTP request sent, awaiting response... 200 OK\n",
            "Length: 645402 (630K) [text/plain]\n",
            "Saving to: ‘french_gender.conllu’\n",
            "\n",
            "\rfrench_gender.conll   0%[                    ]       0  --.-KB/s               \rfrench_gender.conll 100%[===================>] 630.28K  --.-KB/s    in 0.03s   \n",
            "\n",
            "2023-03-28 14:41:33 (21.0 MB/s) - ‘french_gender.conllu’ saved [645402/645402]\n",
            "\n"
          ]
        }
      ]
    },
    {
      "cell_type": "code",
      "metadata": {
        "id": "19SRRD7LrQEk"
      },
      "source": [
        "import torch\n",
        "import pandas as pd\n",
        "import numpy as np\n",
        "from transformers import CamembertModel, CamembertTokenizer, BertModel, BertTokenizer\n",
        "\n",
        "DEVICE = 'cuda' if torch.cuda.is_available() else 'cpu'"
      ],
      "execution_count": null,
      "outputs": []
    },
    {
      "cell_type": "markdown",
      "source": [
        "### Loading the model"
      ],
      "metadata": {
        "id": "xePs1uvlAb7T"
      }
    },
    {
      "cell_type": "code",
      "source": [
        "# try:\n",
        "#     del tokenizer\n",
        "#     del model\n",
        "# except:\n",
        "#     pass\n",
        "\n",
        "def get_pretrained(model_name, model_class=CamembertModel, tokenizer_class=CamembertTokenizer, device=DEVICE):\n",
        "    tokenizer = tokenizer_class.from_pretrained(model_name)\n",
        "    model = model_class.from_pretrained(model_name, output_hidden_states=True)\n",
        "    model = model.to(device)\n",
        "    return model, tokenizer\n",
        "\n",
        "model, tokenizer = get_pretrained('camembert-base')"
      ],
      "metadata": {
        "colab": {
          "base_uri": "https://localhost:8080/",
          "height": 187,
          "referenced_widgets": [
            "a7d75ba21e44459f95f461ffdd9ff7e6",
            "c300d7c207ad4e7893b3457d4321bb77",
            "c7ece82e4a9b41089fd21646ef4f0951",
            "7d3a3fcc9da74fdda35f6de194c46f2c",
            "68bf3c02247f4ff4b8c0bc59e0f94b30",
            "91aee5cdd0be4e16b268bbf0089707b3",
            "bdbf9472813d45ecab03568701718b6d",
            "70d93b2baefa4c2f9bb2d2b594d110b1",
            "b6888776f33940b794c1904fa45b4b13",
            "5b472819dd35415086065956267ed961",
            "a9e604b471e443c881d85d35d615e37b",
            "aea8f9dbd2b84c02a64df70edbe1fff0",
            "fcef3e1637dc4edaae702a0f3294d264",
            "a788d4ecc4ca45f197e7235e63073de6",
            "004846aea8724af89de472e28594b0c2",
            "04da6137214b41ae904e875c5726813c",
            "e36ab6317e73411eb8456e16c53a57a0",
            "dd5afd73fc4942beae2d099f58711b75",
            "638a4c69574d4f148a5042c1e6a2d80c",
            "00e2bab923474cdc84916fc68e6a4d5e",
            "a902d179b7d341a99691e65bf13ea953",
            "62ee7b0027874cd1ac6695528f3ca861",
            "479332338c2b49a3aa786de4dff3824f",
            "8f1384137f5140c680315ff8c837a04d",
            "b5d37243513f4d009acce7f1705c60cf",
            "926a1979de2f45ec90f4560b7f879873",
            "3828d73a7a5c4f59bb4350892bd441d4",
            "df24b503ca824e4fb5692c0034b6f348",
            "f980ae91b76f43eb8360815ee2e45ac4",
            "2273eaf7b4f9497ab304dfbe305439d1",
            "e66082f5acff4475838d35fa5f2aee0b",
            "0a50c182038a410bb148bbf9c4f5567c",
            "4ec06e4afc694542ba2e8e8488bf6288"
          ]
        },
        "id": "xWgksYrf-OTD",
        "outputId": "7fcabf24-5f72-4df8-bcee-912a2ad7ccf5"
      },
      "execution_count": null,
      "outputs": [
        {
          "output_type": "display_data",
          "data": {
            "text/plain": [
              "Downloading (…)tencepiece.bpe.model:   0%|          | 0.00/811k [00:00<?, ?B/s]"
            ],
            "application/vnd.jupyter.widget-view+json": {
              "version_major": 2,
              "version_minor": 0,
              "model_id": "a7d75ba21e44459f95f461ffdd9ff7e6"
            }
          },
          "metadata": {}
        },
        {
          "output_type": "display_data",
          "data": {
            "text/plain": [
              "Downloading (…)lve/main/config.json:   0%|          | 0.00/508 [00:00<?, ?B/s]"
            ],
            "application/vnd.jupyter.widget-view+json": {
              "version_major": 2,
              "version_minor": 0,
              "model_id": "aea8f9dbd2b84c02a64df70edbe1fff0"
            }
          },
          "metadata": {}
        },
        {
          "output_type": "display_data",
          "data": {
            "text/plain": [
              "Downloading pytorch_model.bin:   0%|          | 0.00/445M [00:00<?, ?B/s]"
            ],
            "application/vnd.jupyter.widget-view+json": {
              "version_major": 2,
              "version_minor": 0,
              "model_id": "479332338c2b49a3aa786de4dff3824f"
            }
          },
          "metadata": {}
        },
        {
          "output_type": "stream",
          "name": "stderr",
          "text": [
            "Some weights of the model checkpoint at camembert-base were not used when initializing CamembertModel: ['lm_head.dense.weight', 'lm_head.layer_norm.bias', 'lm_head.dense.bias', 'lm_head.bias', 'lm_head.decoder.weight', 'lm_head.layer_norm.weight']\n",
            "- This IS expected if you are initializing CamembertModel from the checkpoint of a model trained on another task or with another architecture (e.g. initializing a BertForSequenceClassification model from a BertForPreTraining model).\n",
            "- This IS NOT expected if you are initializing CamembertModel from the checkpoint of a model that you expect to be exactly identical (initializing a BertForSequenceClassification model from a BertForSequenceClassification model).\n"
          ]
        }
      ]
    },
    {
      "cell_type": "code",
      "source": [
        "def get_average_embs(sentence, layer_inds, model=model, tokenizer=tokenizer, device=DEVICE):\n",
        "    \"\"\"\n",
        "    Возвращает эмбеддинги предложений по слоям. Эмбеддинг предложения == усреднённые эмбеддинги токенов\n",
        "    \"\"\"\n",
        "    with torch.no_grad():\n",
        "        inputs = tokenizer(sentence, return_tensors='pt').to(device)\n",
        "        outputs = model(**inputs)\n",
        "        hidden_states = torch.stack(outputs.hidden_states, dim=0)[layer_inds]\n",
        "        hidden_states = torch.squeeze(hidden_states, dim=1)\n",
        "        hidden_states = hidden_states[:,1:-1]\n",
        "        return hidden_states.mean(axis=1)\n",
        "\n",
        "get_average_embs('vus', [1,2]).shape"
      ],
      "metadata": {
        "colab": {
          "base_uri": "https://localhost:8080/"
        },
        "id": "E32dqRRF8yM6",
        "outputId": "a3b5744b-5aaf-4766-a50c-624460b16c6c"
      },
      "execution_count": null,
      "outputs": [
        {
          "output_type": "execute_result",
          "data": {
            "text/plain": [
              "torch.Size([2, 768])"
            ]
          },
          "metadata": {},
          "execution_count": 78
        }
      ]
    },
    {
      "cell_type": "code",
      "source": [
        "class CamembertMergeTokens:\n",
        "    def __init__(self, calculateEmbeddings=False):\n",
        "        self.punct = 0\n",
        "        self.apo = 0\n",
        "        self.tokens = []\n",
        "        self.calculateEmbeddings = calculateEmbeddings\n",
        "        self.embeddings = []\n",
        "\n",
        "    def finish(self, *args, **kwargs):\n",
        "        result = (self.tokens, self.embeddings) if self.calculateEmbeddings else self.tokens\n",
        "        self.__init__(*args, **kwargs)\n",
        "        return result\n",
        "    \n",
        "    def is_punctuation(token):\n",
        "        token = [x for x in token if x != \"▁\"]\n",
        "        return all([x in \".,?!:;()\\\"\" for x in token]) and len(token) != 0\n",
        "    \n",
        "    def is_apostrophe(token):\n",
        "        return token == \"\\'\"\n",
        "    \n",
        "    def next_token(self, token, embedding=None):\n",
        "        if self.calculateEmbeddings and embedding is None:\n",
        "            print(\"Missing features in next_token...\")\n",
        "\n",
        "        if CamembertMergeTokens.is_punctuation(token):\n",
        "            self.punct = 1\n",
        "        if CamembertMergeTokens.is_apostrophe(token):\n",
        "            self.apo = 1\n",
        "\n",
        "        if token.startswith(chr(9601)):\n",
        "            self.tokens.append(token[1:])\n",
        "            if self.calculateEmbeddings:\n",
        "                self.embeddings.append(embedding)\n",
        "        elif self.punct or self.apo == 2:\n",
        "            self.tokens.append(token)\n",
        "            if self.calculateEmbeddings:\n",
        "                self.embeddings.append(embedding)\n",
        "        else:\n",
        "            self.tokens[-1] += token\n",
        "            if self.calculateEmbeddings:\n",
        "                self.embeddings[-1] += embedding\n",
        "        \n",
        "        if self.punct != 0:\n",
        "            self.punct = (self.punct + 1) % 3\n",
        "        if self.apo != 0:\n",
        "            self.apo = (self.apo + 1) % 3"
      ],
      "metadata": {
        "id": "_G_1iqQyOWjM"
      },
      "execution_count": null,
      "outputs": []
    },
    {
      "cell_type": "code",
      "source": [
        "def get_word_features(toks, token_features, TokenMerger):\n",
        "    \"\"\"\n",
        "    Принимает в качестве аргументов токенизированное предложение и выход модели на нём. Собирает из выхода по токенам выход по словам.\n",
        "    \"\"\"\n",
        "    token_features = token_features[1:-1] # drop CLS and SEP tokens\n",
        "    word_features = []\n",
        "    MergeTokens = TokenMerger(calculateEmbeddings=True)\n",
        "    for i in range(len(token_features)):\n",
        "        MergeTokens.next_token(toks[i], token_features[i])\n",
        "    return torch.stack(MergeTokens.finish()[1], dim=0)\n",
        "\n",
        "\n",
        "def get_word_embs(sentence, word_inds, layer_inds, TokenMerger, model=model, tokenizer=tokenizer, device=DEVICE):\n",
        "    \"\"\"\n",
        "    Возвращает эмбеддинги слов по слоям. Эмбеддинг слова == усреднённые эмбеддинги токенов, на которые оно разбито (обычно 1 токен).\n",
        "    \"\"\"\n",
        "    with torch.no_grad():\n",
        "        inputs = tokenizer(sentence, return_tensors='pt').to(device)\n",
        "        # print(tokenizer.convert_ids_to_tokens(tokenizer(sentence)[\"input_ids\"]))\n",
        "        outputs = model(**inputs)\n",
        "        hidden_states = torch.stack(outputs.hidden_states, dim=0)[layer_inds] # Convert tuple of layers to torch tensor\n",
        "        hidden_states = torch.squeeze(hidden_states, dim=1) # Drop batch dimension which is equal to 1\n",
        "        # hidden_states = hidden_states[1:] # Drop the input layer\n",
        "\n",
        "        result = []\n",
        "        toks = tokenizer.tokenize(sentence)\n",
        "        for layer in hidden_states:\n",
        "            result.append(get_word_features(toks, layer, TokenMerger)[word_inds])\n",
        "        \n",
        "        return torch.stack(result, dim=0)\n",
        "\n",
        "\n",
        "text = \"J'aime le camembert\" #The word camembert is split into multiple tokens => this sentence is good for testing\n",
        "# text = '''Pour pouvoir mener à bien sa politique dictatoriale, le régime marocain a besoin de stabilité interne pour affronter les \"risques externes\" engendrés par le conflit du Sahara Occidental.'''\n",
        "res = get_word_embs(text, [0, 1], [0, 1, 2], CamembertMergeTokens)\n",
        "res.size()"
      ],
      "metadata": {
        "colab": {
          "base_uri": "https://localhost:8080/"
        },
        "id": "VM0NxRjAtJXs",
        "outputId": "f4b2d9a0-68c5-48d1-8b30-4479e4c56ec3"
      },
      "execution_count": null,
      "outputs": [
        {
          "output_type": "execute_result",
          "data": {
            "text/plain": [
              "torch.Size([3, 2, 768])"
            ]
          },
          "metadata": {},
          "execution_count": 7
        }
      ]
    },
    {
      "cell_type": "code",
      "source": [
        "def join_parsings(bert_tokenization, ud_tokenization, TokenMerger, verbose=False): # accepts two tokenizations and returns list of features for bert tokenization\n",
        "    mergeTokens = TokenMerger()\n",
        "    for item in bert_tokenization:\n",
        "        mergeTokens.next_token(item)\n",
        "    bert_words = mergeTokens.finish()\n",
        "\n",
        "    ud_features = [[]]\n",
        "    last_word, last_symbol = 0, 0\n",
        "    skip_ids = -1\n",
        "    for item in ud_tokenization:\n",
        "        if type(item[\"id\"]) is int and item[\"id\"] <= skip_ids:\n",
        "            continue\n",
        "        if bert_words[last_word][last_symbol:].startswith(item[\"form\"]):\n",
        "            last_symbol += len(item[\"form\"])\n",
        "            ud_features[-1].append(item)\n",
        "\n",
        "            if type(item[\"id\"]) is not int:\n",
        "                skip_ids = item[\"id\"][2]\n",
        "\n",
        "            if last_symbol == len(bert_words[last_word]): # We've reached the end in the current word\n",
        "                if len(ud_features[-1]) == 0:\n",
        "                    print(\"this is weird...\")\n",
        "                last_word, last_symbol = last_word + 1, 0 # Switch to the next word in bert tokenization\n",
        "                ud_features.append([])\n",
        "        else:\n",
        "            if verbose:\n",
        "                print(\"There has been a problem merging\", bert_words, \"with\", ud_tokenization)\n",
        "                print(bert_words[:last_word])\n",
        "            return\n",
        "    ud_features.pop() # Remove the last emtpy features list\n",
        "    return bert_words, ud_features"
      ],
      "metadata": {
        "id": "0EL7V8Q3yyQ5"
      },
      "execution_count": null,
      "outputs": []
    },
    {
      "cell_type": "markdown",
      "source": [
        "### Loading datasets"
      ],
      "metadata": {
        "id": "vE_V9CbtAezo"
      }
    },
    {
      "cell_type": "code",
      "source": [
        "import conllu"
      ],
      "metadata": {
        "id": "kkYUnjLagao6"
      },
      "execution_count": null,
      "outputs": []
    },
    {
      "cell_type": "code",
      "source": [
        "def create_word_by_word_parser(allowed_upos, target_feature, true_value):\n",
        "    return lambda feats: \\\n",
        "        get_data_from_sentence_word_by_word(feats, \\\n",
        "                                            lambda feat: get_data_from_word(feat, allowed_upos, target_feature, true_value))\n",
        "\n",
        "\n",
        "def get_data_from_sentence_word_by_word(feats, word_by_word_function):\n",
        "    word_inds = []\n",
        "    targets = []\n",
        "    for ind in range(len(feats)):\n",
        "        data = word_by_word_function(feats[ind])\n",
        "        if data is not None:\n",
        "            word_inds.append(ind)\n",
        "            targets.append(data)\n",
        "    return word_inds, targets\n",
        "\n",
        "\n",
        "def get_data_from_word(feat, allowed_upos, target_feature, true_value):\n",
        "    if len(feat) > 1: # This is a multiword token, let's skip it for now\n",
        "        return None\n",
        "    feat = feat[0]\n",
        "    if feat[\"upos\"] in allowed_upos and feat[\"feats\"] is not None and feat[\"feats\"].get(target_feature) is not None:\n",
        "        return int(feat[\"feats\"][target_feature] == true_value)\n",
        "    return None"
      ],
      "metadata": {
        "id": "lX3gR7mKUGrH"
      },
      "execution_count": null,
      "outputs": []
    },
    {
      "cell_type": "code",
      "source": [
        "def load_word_in_sentence_data(dataset_name, TokenMerger, features_extractor, verbose=False):\n",
        "    with open(dataset_name, 'r') as f:\n",
        "        dataset = conllu.parse(f.read())\n",
        "\n",
        "    samples = [[], [], []] # Gather data here, first list contains texts, second contains word indices, third contains labels\n",
        "    failed, total = 0, 0\n",
        "    for sentence in dataset:\n",
        "        total += 1\n",
        "        bert_tokens = tokenizer.tokenize(sentence.metadata[\"text\"])\n",
        "        result = join_parsings(bert_tokens, sentence, TokenMerger, verbose=verbose)\n",
        "        if result is None:\n",
        "            failed += 1\n",
        "            continue\n",
        "        tokens, feats = result\n",
        "        word_inds, targets = features_extractor(feats)\n",
        "\n",
        "        if word_inds: # Let's not add sentences with no features to avoid vain embeddings calculation\n",
        "            samples[0].append(sentence.metadata[\"text\"])\n",
        "            samples[1].append(word_inds)\n",
        "            samples[2].append(targets)\n",
        "\n",
        "\n",
        "    print(failed, \"out of\", total, \"failed\")\n",
        "    data = pd.DataFrame.from_dict({\"text\": samples[0], \"word_ind\": samples[1], \"target\": samples[2]})\n",
        "    return data\n",
        "\n",
        "\n",
        "def load_separate_word_data(dataset_name, TokenMerger, features_extractor, verbose=False):\n",
        "    with open(dataset_name, 'r') as f:\n",
        "        dataset = conllu.parse(f.read())\n",
        "\n",
        "    samples = [[], []] # Gather data here, first list contains word indices, second contains labels\n",
        "    failed, total = 0, 0\n",
        "    for sentence in dataset:\n",
        "        total += 1\n",
        "        bert_tokens = tokenizer.tokenize(sentence.metadata[\"text\"])\n",
        "        result = join_parsings(bert_tokens, sentence, TokenMerger, verbose=verbose)\n",
        "        if result is None:\n",
        "            failed += 1\n",
        "            continue\n",
        "        tokens, feats = result\n",
        "        word_inds, targets = features_extractor(feats)\n",
        "\n",
        "        for ind in range(len(word_inds)):\n",
        "            samples[0].append(tokens[word_inds[ind]])\n",
        "            samples[1].append(targets[ind])\n",
        "\n",
        "\n",
        "    print(failed, \"out of\", total, \"failed\")\n",
        "    data = pd.DataFrame.from_dict({\"word\": samples[0], \"target\": samples[1]})\n",
        "    return data\n"
      ],
      "metadata": {
        "id": "BPKdHCB7jlIO"
      },
      "execution_count": null,
      "outputs": []
    },
    {
      "cell_type": "markdown",
      "source": [
        "### Learning the probing classifier"
      ],
      "metadata": {
        "id": "WmIBM_GPKMHH"
      }
    },
    {
      "cell_type": "code",
      "source": [
        "import matplotlib.pyplot as plt\n",
        "import numpy as np\n",
        "from sklearn.linear_model import LogisticRegression\n",
        "from sklearn.metrics import f1_score, accuracy_score\n",
        "from time import time\n",
        "\n",
        "\n",
        "# stacked_train_X = np.stack(train_X)\n",
        "# stacked_val_X = np.stack(val_X)\n",
        "# stacked_test_X = np.stack(test_X)\n",
        "\n",
        "\n",
        "def logreg(X_train, y_train, X_test, y_test):\n",
        "    le = LogisticRegression(tol=0.01, max_iter=1000)\n",
        "    le = le.fit(X_train, y_train)\n",
        "    y_pred = le.predict(X_test)\n",
        "    return f1_score(y_test, y_pred), accuracy_score(y_test, y_pred)\n",
        "\n",
        "\n",
        "def train(\n",
        "    layer,\n",
        "    classifier_func,\n",
        "    stacked_train_X,\n",
        "    train_y,\n",
        "    stacked_test_X,\n",
        "    test_y\n",
        "):\n",
        "    \"\"\"Обучает пробинг-классификатор (функция classifier_func) для слоя layer\"\"\"\n",
        "    X = stacked_train_X[:, layer, :]\n",
        "    y = train_y.to_numpy()\n",
        "    f1, acc = classifier_func(X, y, stacked_test_X[:, layer, :], test_y.to_numpy())\n",
        "    return f1, acc"
      ],
      "metadata": {
        "id": "88mj-0bZFd3h"
      },
      "execution_count": null,
      "outputs": []
    },
    {
      "cell_type": "code",
      "source": [
        "from sklearn.model_selection import train_test_split\n",
        "\n",
        "\n",
        "def word_in_sentence_experiment(layers, TokenMerger, data_extractor, runs=1):\n",
        "    print(\"Loading sentences...\")\n",
        "    french_gender = load_word_in_sentence_data(\"french_gender.conllu\", TokenMerger, data_extractor)\n",
        "    all_embs = []\n",
        "    all_targets = []\n",
        "    print(\"Getting embeddings...\")\n",
        "    for row in french_gender.index:\n",
        "        embs = np.array(get_word_embs(french_gender.loc[row, \"text\"], french_gender.loc[row, \"word_ind\"], layers, CamembertMergeTokens).cpu())\n",
        "        all_embs.append(embs)\n",
        "        all_targets += french_gender.loc[row, \"target\"]\n",
        "    X = np.concatenate(all_embs, axis=1)\n",
        "    print(\"Got {} layers, {} entries in the dataset\".format(X.shape[0], X.shape[1]))\n",
        "\n",
        "    print(\"Training probing classifiers\")\n",
        "    res = []\n",
        "    for layer in range(X.shape[0]):\n",
        "        res.append([])\n",
        "        for run_i in range(runs):\n",
        "            X_tr, X_te, y_tr, y_te = train_test_split(X[layer], all_targets, train_size=0.7)\n",
        "            res[-1].append(logreg(X_tr, y_tr, X_te, y_te))\n",
        "    \n",
        "    return res\n",
        "    "
      ],
      "metadata": {
        "id": "DW_azLO414r7"
      },
      "execution_count": null,
      "outputs": []
    },
    {
      "cell_type": "markdown",
      "source": [
        "## Эксперименты"
      ],
      "metadata": {
        "id": "4-lQtfPZfT2h"
      }
    },
    {
      "cell_type": "code",
      "source": [
        "import seaborn as sns"
      ],
      "metadata": {
        "id": "p5N1xDXAN2Zg"
      },
      "execution_count": null,
      "outputs": []
    },
    {
      "cell_type": "code",
      "source": [
        "parser = create_word_by_word_parser([\"NOUN\", \"VERB\", \"ADJ\"], \"Number\", \"Sing\")"
      ],
      "metadata": {
        "id": "HPesaQD7wsqV"
      },
      "execution_count": null,
      "outputs": []
    },
    {
      "cell_type": "code",
      "source": [
        "fmes = word_in_sentence_experiment(list(range(13)), CamembertMergeTokens, parser, runs=20)\n",
        "\n",
        "sns.boxplot(fmes).set(xlabel=\"Layer\", ylabel=\"Quality\")"
      ],
      "metadata": {
        "colab": {
          "base_uri": "https://localhost:8080/",
          "height": 386
        },
        "id": "nUZNvM5yS1HR",
        "outputId": "b270f5a1-f5fe-4ee2-dba9-8e01aaed8502"
      },
      "execution_count": null,
      "outputs": [
        {
          "output_type": "stream",
          "name": "stdout",
          "text": [
            "Loading sentences...\n",
            "38 out of 416 failed\n",
            "Getting embeddings...\n",
            "Got 13 layers, 2700 entries in the dataset\n",
            "Training probing classifiers\n"
          ]
        },
        {
          "output_type": "execute_result",
          "data": {
            "text/plain": [
              "[Text(0.5, 0, 'Layer'), Text(0, 0.5, 'Quality')]"
            ]
          },
          "metadata": {},
          "execution_count": 24
        },
        {
          "output_type": "display_data",
          "data": {
            "text/plain": [
              "<Figure size 432x288 with 1 Axes>"
            ],
            "image/png": "[encoded data removed]"
          },
          "metadata": {
            "needs_background": "light"
          }
        }
      ]
    },
    {
      "cell_type": "code",
      "source": [
        "load_separate_word_data(\"french_gender.conllu\", CamembertMergeTokens, parser).head(10)"
      ],
      "metadata": {
        "colab": {
          "base_uri": "https://localhost:8080/",
          "height": 381
        },
        "id": "QB5D6Bqdz-19",
        "outputId": "9fd613f4-6520-40d0-eda9-e53640d17515"
      },
      "execution_count": null,
      "outputs": [
        {
          "output_type": "stream",
          "name": "stdout",
          "text": [
            "38 out of 416 failed\n"
          ]
        },
        {
          "output_type": "execute_result",
          "data": {
            "text/plain": [
              "            word  target\n",
              "0           sens       1\n",
              "1          films       0\n",
              "2       médecins       0\n",
              "3  scientifiques       0\n",
              "4           fous       0\n",
              "5            vus       0\n",
              "6      pourrions       0\n",
              "7          autre       1\n",
              "8         chemin       1\n",
              "9        origine       1"
            ],
            "text/html": [
              "\n",
              "  <div id=\"df-87c619b6-b928-4939-9f0e-1d8749d48553\">\n",
              "    <div class=\"colab-df-container\">\n",
              "      <div>\n",
              "<style scoped>\n",
              "    .dataframe tbody tr th:only-of-type {\n",
              "        vertical-align: middle;\n",
              "    }\n",
              "\n",
              "    .dataframe tbody tr th {\n",
              "        vertical-align: top;\n",
              "    }\n",
              "\n",
              "    .dataframe thead th {\n",
              "        text-align: right;\n",
              "    }\n",
              "</style>\n",
              "<table border=\"1\" class=\"dataframe\">\n",
              "  <thead>\n",
              "    <tr style=\"text-align: right;\">\n",
              "      <th></th>\n",
              "      <th>word</th>\n",
              "      <th>target</th>\n",
              "    </tr>\n",
              "  </thead>\n",
              "  <tbody>\n",
              "    <tr>\n",
              "      <th>0</th>\n",
              "      <td>sens</td>\n",
              "      <td>1</td>\n",
              "    </tr>\n",
              "    <tr>\n",
              "      <th>1</th>\n",
              "      <td>films</td>\n",
              "      <td>0</td>\n",
              "    </tr>\n",
              "    <tr>\n",
              "      <th>2</th>\n",
              "      <td>médecins</td>\n",
              "      <td>0</td>\n",
              "    </tr>\n",
              "    <tr>\n",
              "      <th>3</th>\n",
              "      <td>scientifiques</td>\n",
              "      <td>0</td>\n",
              "    </tr>\n",
              "    <tr>\n",
              "      <th>4</th>\n",
              "      <td>fous</td>\n",
              "      <td>0</td>\n",
              "    </tr>\n",
              "    <tr>\n",
              "      <th>5</th>\n",
              "      <td>vus</td>\n",
              "      <td>0</td>\n",
              "    </tr>\n",
              "    <tr>\n",
              "      <th>6</th>\n",
              "      <td>pourrions</td>\n",
              "      <td>0</td>\n",
              "    </tr>\n",
              "    <tr>\n",
              "      <th>7</th>\n",
              "      <td>autre</td>\n",
              "      <td>1</td>\n",
              "    </tr>\n",
              "    <tr>\n",
              "      <th>8</th>\n",
              "      <td>chemin</td>\n",
              "      <td>1</td>\n",
              "    </tr>\n",
              "    <tr>\n",
              "      <th>9</th>\n",
              "      <td>origine</td>\n",
              "      <td>1</td>\n",
              "    </tr>\n",
              "  </tbody>\n",
              "</table>\n",
              "</div>\n",
              "      <button class=\"colab-df-convert\" onclick=\"convertToInteractive('df-87c619b6-b928-4939-9f0e-1d8749d48553')\"\n",
              "              title=\"Convert this dataframe to an interactive table.\"\n",
              "              style=\"display:none;\">\n",
              "        \n",
              "  <svg xmlns=\"http://www.w3.org/2000/svg\" height=\"24px\"viewBox=\"0 0 24 24\"\n",
              "       width=\"24px\">\n",
              "    <path d=\"M0 0h24v24H0V0z\" fill=\"none\"/>\n",
              "    <path d=\"M18.56 5.44l.94 2.06.94-2.06 2.06-.94-2.06-.94-.94-2.06-.94 2.06-2.06.94zm-11 1L8.5 8.5l.94-2.06 2.06-.94-2.06-.94L8.5 2.5l-.94 2.06-2.06.94zm10 10l.94 2.06.94-2.06 2.06-.94-2.06-.94-.94-2.06-.94 2.06-2.06.94z\"/><path d=\"M17.41 7.96l-1.37-1.37c-.4-.4-.92-.59-1.43-.59-.52 0-1.04.2-1.43.59L10.3 9.45l-7.72 7.72c-.78.78-.78 2.05 0 2.83L4 21.41c.39.39.9.59 1.41.59.51 0 1.02-.2 1.41-.59l7.78-7.78 2.81-2.81c.8-.78.8-2.07 0-2.86zM5.41 20L4 18.59l7.72-7.72 1.47 1.35L5.41 20z\"/>\n",
              "  </svg>\n",
              "      </button>\n",
              "      \n",
              "  <style>\n",
              "    .colab-df-container {\n",
              "      display:flex;\n",
              "      flex-wrap:wrap;\n",
              "      gap: 12px;\n",
              "    }\n",
              "\n",
              "    .colab-df-convert {\n",
              "      background-color: #E8F0FE;\n",
              "      border: none;\n",
              "      border-radius: 50%;\n",
              "      cursor: pointer;\n",
              "      display: none;\n",
              "      fill: #1967D2;\n",
              "      height: 32px;\n",
              "      padding: 0 0 0 0;\n",
              "      width: 32px;\n",
              "    }\n",
              "\n",
              "    .colab-df-convert:hover {\n",
              "      background-color: #E2EBFA;\n",
              "      box-shadow: 0px 1px 2px rgba(60, 64, 67, 0.3), 0px 1px 3px 1px rgba(60, 64, 67, 0.15);\n",
              "      fill: #174EA6;\n",
              "    }\n",
              "\n",
              "    [theme=dark] .colab-df-convert {\n",
              "      background-color: #3B4455;\n",
              "      fill: #D2E3FC;\n",
              "    }\n",
              "\n",
              "    [theme=dark] .colab-df-convert:hover {\n",
              "      background-color: #434B5C;\n",
              "      box-shadow: 0px 1px 3px 1px rgba(0, 0, 0, 0.15);\n",
              "      filter: drop-shadow(0px 1px 2px rgba(0, 0, 0, 0.3));\n",
              "      fill: #FFFFFF;\n",
              "    }\n",
              "  </style>\n",
              "\n",
              "      <script>\n",
              "        const buttonEl =\n",
              "          document.querySelector('#df-87c619b6-b928-4939-9f0e-1d8749d48553 button.colab-df-convert');\n",
              "        buttonEl.style.display =\n",
              "          google.colab.kernel.accessAllowed ? 'block' : 'none';\n",
              "\n",
              "        async function convertToInteractive(key) {\n",
              "          const element = document.querySelector('#df-87c619b6-b928-4939-9f0e-1d8749d48553');\n",
              "          const dataTable =\n",
              "            await google.colab.kernel.invokeFunction('convertToInteractive',\n",
              "                                                     [key], {});\n",
              "          if (!dataTable) return;\n",
              "\n",
              "          const docLinkHtml = 'Like what you see? Visit the ' +\n",
              "            '<a target=\"_blank\" href=https://colab.research.google.com/notebooks/data_table.ipynb>data table notebook</a>'\n",
              "            + ' to learn more about interactive tables.';\n",
              "          element.innerHTML = '';\n",
              "          dataTable['output_type'] = 'display_data';\n",
              "          await google.colab.output.renderOutput(dataTable, element);\n",
              "          const docLink = document.createElement('div');\n",
              "          docLink.innerHTML = docLinkHtml;\n",
              "          element.appendChild(docLink);\n",
              "        }\n",
              "      </script>\n",
              "    </div>\n",
              "  </div>\n",
              "  "
            ]
          },
          "metadata": {},
          "execution_count": 64
        }
      ]
    },
    {
      "cell_type": "code",
      "source": [
        "def separate_word_experiment(layers, TokenMerger, data_extractor, runs=1):\n",
        "    print(\"Loading sentences...\")\n",
        "    french_gender = load_separate_word_data(\"french_gender.conllu\", TokenMerger, data_extractor)\n",
        "    print(\"Getting embeddings...\")\n",
        "    french_gender[\"feats\"] = french_gender[\"word\"].apply(lambda text: get_average_embs(text, layers))\n",
        "    print(\"Training the probing classifiers\")\n",
        "\n",
        "    all_embs = torch.stack(tuple(french_gender[\"feats\"]), dim=0).permute([1,0,2]).cpu()\n",
        "\n",
        "    res = []\n",
        "    for layer in range(len(layers)):\n",
        "        res.append([])\n",
        "        for run_i in range(runs):\n",
        "            X_tr, X_te, y_tr, y_te = train_test_split(all_embs[layer], french_gender[\"target\"], train_size=0.7)\n",
        "            res[-1].append(logreg(X_tr, y_tr, X_te, y_te))\n",
        "\n",
        "    return res\n"
      ],
      "metadata": {
        "id": "rA3uKEQ4f3Il"
      },
      "execution_count": null,
      "outputs": []
    },
    {
      "cell_type": "code",
      "source": [
        "fmes = separate_word_experiment(list(range(13)), CamembertMergeTokens, parser, runs=20)\n",
        "\n",
        "sns.boxplot(fmes).set(xlabel=\"Layer\", ylabel=\"Quality\")"
      ],
      "metadata": {
        "colab": {
          "base_uri": "https://localhost:8080/",
          "height": 368
        },
        "id": "g_vxaqsR4u9d",
        "outputId": "419d2d57-f920-4874-e0c4-fed14fcf96fe"
      },
      "execution_count": null,
      "outputs": [
        {
          "output_type": "stream",
          "name": "stdout",
          "text": [
            "Loading sentences...\n",
            "38 out of 416 failed\n",
            "Getting embeddings...\n",
            "Training the probing classifiers\n"
          ]
        },
        {
          "output_type": "execute_result",
          "data": {
            "text/plain": [
              "[Text(0.5, 0, 'Layer'), Text(0, 0.5, 'Quality')]"
            ]
          },
          "metadata": {},
          "execution_count": 96
        },
        {
          "output_type": "display_data",
          "data": {
            "text/plain": [
              "<Figure size 432x288 with 1 Axes>"
            ],
            "image/png": "[encoded data removed]"
          },
          "metadata": {
            "needs_background": "light"
          }
        }
      ]
    }
  ]
}